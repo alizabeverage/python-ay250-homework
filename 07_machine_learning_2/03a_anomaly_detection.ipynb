{
 "cells": [
  {
   "cell_type": "code",
   "execution_count": null,
   "metadata": {},
   "outputs": [],
   "source": [
    "%run ../talktools.py"
   ]
  },
  {
   "cell_type": "markdown",
   "metadata": {},
   "source": [
    "## Anomaly/Novelty Detection\n",
    "\n",
    "Sometimes we want to find outliers in our data -- either as candidates for cleaning or because novelties are what we are most interested in.  What would you do to find novelties? One possibility is to fit the data (potentially with \"leave one out\") you have with some parametric function and inspect those data that are farthest from your fit. You could assign a novelty score based on distance to the fit values.\n",
    "\n",
    "We can also look to some ML techniques to create a non-parametric model of anomolies, potentially  There's not a lot of machinery for this in sklearn but there is some.\n",
    "\n",
    "We'll look at *Isolation Forests* here as one technique.\n",
    "\n",
    "See http://scikit-learn.org/stable/auto_examples/covariance/plot_outlier_detection.html#sphx-glr-auto-examples-covariance-plot-outlier-detection-py"
   ]
  },
  {
   "cell_type": "markdown",
   "metadata": {},
   "source": [
    "<img src=\"http://image.slidesharecdn.com/gerster-papisconnect-anomaly-150521055051-lva1-app6891/95/anomaly-detection-with-bigml-4-638.jpg?cb=1432187570\">\n",
    "<img src=\"https://www.evernote.com/l/AUUwXmpu3nVNOpxwEo67YZD8VZwI950BtuMB/image.png\">\n",
    "Source: http://www.slideshare.net/DavidGerster1/anomaly-detection-with-bigml"
   ]
  },
  {
   "cell_type": "code",
   "execution_count": null,
   "metadata": {},
   "outputs": [],
   "source": [
    "from sklearn.ensemble import IsolationForest\n",
    "from sklearn.datasets import load_digits\n",
    "import numpy as np"
   ]
  },
  {
   "cell_type": "code",
   "execution_count": null,
   "metadata": {},
   "outputs": [],
   "source": [
    "digits = load_digits()\n",
    "X = digits.data\n",
    "y = digits.target"
   ]
  },
  {
   "cell_type": "code",
   "execution_count": null,
   "metadata": {},
   "outputs": [],
   "source": [
    "clf = IsolationForest(bootstrap=True,random_state=42,max_features=1.0)\n",
    "clf.fit(X)"
   ]
  },
  {
   "cell_type": "code",
   "execution_count": null,
   "metadata": {},
   "outputs": [],
   "source": [
    "scores = clf.decision_function(X)\n",
    "most_wierd = np.argsort(scores)"
   ]
  },
  {
   "cell_type": "code",
   "execution_count": null,
   "metadata": {},
   "outputs": [],
   "source": [
    "%matplotlib inline\n",
    "import matplotlib.pyplot as plt"
   ]
  },
  {
   "cell_type": "code",
   "execution_count": null,
   "metadata": {},
   "outputs": [],
   "source": [
    "fig, axs = plt.subplots(1,5,figsize=(10,6))\n",
    "for i,ind in enumerate(most_wierd[:5]):\n",
    "    axs[i].imshow(X[ind].reshape(8,8),interpolation=\"nearest\",cmap=plt.cm.gray_r)\n",
    "    axs[i].set_title(\"{0:n} score={1:0.3f}\".format(y[ind],scores[ind]))\n",
    "\n",
    "plt.tight_layout()"
   ]
  },
  {
   "cell_type": "code",
   "execution_count": null,
   "metadata": {},
   "outputs": [],
   "source": [
    "fig, axs = plt.subplots(1,5,figsize=(10,6))\n",
    "for i,ind in enumerate(most_wierd[-5:]):\n",
    "    axs[i].imshow(X[ind].reshape(8,8),interpolation=\"nearest\",cmap=plt.cm.gray_r)\n",
    "    axs[i].set_title(\"{0:n} score={1:0.3f}\".format(y[ind],scores[ind]))\n",
    "\n",
    "plt.tight_layout()"
   ]
  },
  {
   "cell_type": "code",
   "execution_count": null,
   "metadata": {},
   "outputs": [],
   "source": []
  }
 ],
 "metadata": {
  "kernelspec": {
   "display_name": "Python 3",
   "language": "python",
   "name": "python3"
  },
  "language_info": {
   "codemirror_mode": {
    "name": "ipython",
    "version": 3
   },
   "file_extension": ".py",
   "mimetype": "text/x-python",
   "name": "python",
   "nbconvert_exporter": "python",
   "pygments_lexer": "ipython3",
   "version": "3.8.13"
  },
  "toc": {
   "base_numbering": 1,
   "nav_menu": {},
   "number_sections": true,
   "sideBar": true,
   "skip_h1_title": false,
   "title_cell": "Table of Contents",
   "title_sidebar": "Contents",
   "toc_cell": false,
   "toc_position": {},
   "toc_section_display": true,
   "toc_window_display": false
  },
  "varInspector": {
   "cols": {
    "lenName": 16,
    "lenType": 16,
    "lenVar": 40
   },
   "kernels_config": {
    "python": {
     "delete_cmd_postfix": "",
     "delete_cmd_prefix": "del ",
     "library": "var_list.py",
     "varRefreshCmd": "print(var_dic_list())"
    },
    "r": {
     "delete_cmd_postfix": ") ",
     "delete_cmd_prefix": "rm(",
     "library": "var_list.r",
     "varRefreshCmd": "cat(var_dic_list()) "
    }
   },
   "types_to_exclude": [
    "module",
    "function",
    "builtin_function_or_method",
    "instance",
    "_Feature"
   ],
   "window_display": false
  }
 },
 "nbformat": 4,
 "nbformat_minor": 1
}
