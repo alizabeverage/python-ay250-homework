{
 "cells": [
  {
   "cell_type": "code",
   "execution_count": 1,
   "metadata": {},
   "outputs": [
    {
     "data": {
      "text/html": [
       "<style>\n",
       "\n",
       ".rendered_html\n",
       "{\n",
       "  color: #2C5494;\n",
       "  font-family: Ubuntu;\n",
       "  font-size: 140%;\n",
       "  line-height: 1.1;\n",
       "  margin: 0.5em 0;\n",
       "  }\n",
       "\n",
       ".talk_title\n",
       "{\n",
       "  color: #498AF3;\n",
       "  font-size: 250%;\n",
       "  font-weight:bold;\n",
       "  line-height: 1.2; \n",
       "  margin: 10px 50px 10px;\n",
       "  }\n",
       "\n",
       ".subtitle\n",
       "{\n",
       "  color: #386BBC;\n",
       "  font-size: 180%;\n",
       "  font-weight:bold;\n",
       "  line-height: 1.2; \n",
       "  margin: 20px 50px 20px;\n",
       "  }\n",
       "\n",
       ".slide-header, p.slide-header\n",
       "{\n",
       "  color: #498AF3;\n",
       "  font-size: 200%;\n",
       "  font-weight:bold;\n",
       "  margin: 0px 20px 10px;\n",
       "  page-break-before: always;\n",
       "  text-align: center;\n",
       "  }\n",
       "\n",
       ".rendered_html h1\n",
       "{\n",
       "  color: #498AF3;\n",
       "  line-height: 1.2; \n",
       "  margin: 0.15em 0em 0.5em;\n",
       "  page-break-before: always;\n",
       "  text-align: center;\n",
       "  }\n",
       "\n",
       "\n",
       ".rendered_html h2\n",
       "{ \n",
       "  color: #386BBC;\n",
       "  line-height: 1.2;\n",
       "  margin: 1.1em 0em 0.5em;\n",
       "  }\n",
       "\n",
       ".rendered_html h3\n",
       "{ \n",
       "  font-size: 100%;\n",
       "  line-height: 1.2;\n",
       "  margin: 1.1em 0em 0.5em;\n",
       "  }\n",
       "\n",
       ".rendered_html li\n",
       "{\n",
       "  line-height: 1.8;\n",
       "  }\n",
       "\n",
       ".text_cell .input_prompt .CodeMirror-lines .output_area pre\n",
       "{\n",
       "    font-family: \"Ubuntu\";\n",
       "    font-size: 130%;\n",
       "}\n",
       "\n",
       ".gap-above\n",
       "{\n",
       "  padding-top: 200px;\n",
       "  }\n",
       "\n",
       ".gap01\n",
       "{\n",
       "  padding-top: 10px;\n",
       "  }\n",
       "\n",
       ".gap05\n",
       "{\n",
       "  padding-top: 50px;\n",
       "  }\n",
       "\n",
       ".gap1\n",
       "{\n",
       "  padding-top: 100px;\n",
       "  }\n",
       "\n",
       ".gap2\n",
       "{\n",
       "  padding-top: 200px;\n",
       "  }\n",
       "\n",
       ".gap3\n",
       "{\n",
       "  padding-top: 300px;\n",
       "  }\n",
       "\n",
       ".emph\n",
       "{\n",
       "  color: #386BBC;\n",
       "  }\n",
       "\n",
       ".warn\n",
       "{\n",
       "  color: red;\n",
       "  }\n",
       "\n",
       ".center\n",
       "{\n",
       "  text-align: center;\n",
       "  }\n",
       "\n",
       ".nb_link\n",
       "{\n",
       "    padding-bottom: 0.5em;\n",
       "}\n",
       "\n",
       "</style>"
      ],
      "text/plain": [
       "<IPython.core.display.HTML object>"
      ]
     },
     "metadata": {},
     "output_type": "display_data"
    }
   ],
   "source": [
    "%run ../talktools.py"
   ]
  },
  {
   "cell_type": "markdown",
   "metadata": {},
   "source": [
    "[![Open In Colab](https://colab.research.google.com/assets/colab-badge.svg)](https://colab.research.google.com/github/profjsb/python-seminar/blob/master/DataFiles_and_Notebooks/07_machine_learning_2/02_neural_nets_with_keras.ipynb)"
   ]
  },
  {
   "cell_type": "markdown",
   "metadata": {},
   "source": [
    "\n",
    "# Deep Learning Frameworks\n",
    "\n",
    "AY 250 (UC Berkeley; 2012-2022)\n",
    "\n",
    "<div class=\"alert alert-info\">sklearn is not built for deep/complex networks such as required in covnets (as we'll see later on). We must go to specialized software (and potentially specialized hardware)</div>\n",
    "\n",
    "Almost all frameworks written in low-level C++/C with Python (or other scripting bindings)\n",
    "\n",
    "### Low-level frameworks\n",
    "\n",
    "   - Tensorflow (Google) Nov 2015. See https://www.tensorflow.org/api_docs/python/tf\n",
    "   - pytorch (Python). https://pytorch.org/docs/stable/index.html\n",
    "   - Theano\n",
    "   - Caffe (Berkeley)\n",
    "   - Torch (Lua)\n",
    "   - CNTK (Microsoft)\n",
    "   - Chainer\n",
    "   - PaddlePaddle (Baidu) Aug 2016\n",
    "   \n",
    "### High-level frameworks (Python)\n",
    "\n",
    "   - Keras (atop Tensorflow, Theano) - https://www.tensorflow.org/api_docs/python/tf/keras\n",
    "   - Skorch - scikit-learn compatible neural network library that wraps PyTorch (https://github.com/skorch-dev/skorch)\n",
    "   - FastAI: https://docs.fast.ai/\n",
    "   - PyTorch Lightning (https://github.com/PyTorchLightning/pytorch-lightning)\n",
    "   \n",
    "<img src=\"https://pbs.twimg.com/media/DX0lfBNU8AEs8KG.png:large\" width=\"75%\">\n",
    "Source: https://twitter.com/fchollet/status/971863128341323776\n",
    "\n",
    "See also: https://www.reddit.com/r/MachineLearning/comments/esrtxu/d_which_pytorchcompatible_training_abstraction/\n",
    "\n",
    "<blockquote class=\"twitter-tweet\" data-lang=\"en\"><p lang=\"en\" dir=\"ltr\">TensorFlow is the platform of choice for deep learning in the research community. These are deep learning framework mentions on arXiv over the past 3 months <img src=\"https://pbs.twimg.com/media/DXy_uc0VAAAIhKG.jpg:small\">\n",
    "\n",
    "&mdash; François Chollet (@fchollet) <a href=\"https://twitter.com/fchollet/status/971863128341323776?ref_src=twsrc%5Etfw\">March 8, 2018</a></blockquote>\n",
    "<script async src=\"https://platform.twitter.com/widgets.js\" charset=\"utf-8\"></script>\n",
    "\n",
    "\n",
    "see also: https://github.com/mbadry1/Top-Deep-Learning"
   ]
  },
  {
   "cell_type": "markdown",
   "metadata": {},
   "source": [
    "Autoencoder: Go through and propogate to hidden layer bottle neck and then predict. \"compressor\" to a \"decompressor\" (AE)\n",
    "\n",
    "DCNs -- you have a kernel cell (transformation of input data) then to outputs"
   ]
  },
  {
   "cell_type": "markdown",
   "metadata": {},
   "source": [
    "<img src=\"http://www.asimovinstitute.org/wp-content/uploads/2016/09/neuralnetworks.png\">\n",
    "\n",
    "Source: http://www.asimovinstitute.org/neural-network-zoo/"
   ]
  },
  {
   "cell_type": "markdown",
   "metadata": {},
   "source": [
    "An example (from Josh's student work): \n",
    "\n",
    "<img src=\"https://github.com/profjsb/deepCR/raw/master/imgs/network.png\">\n",
    "\n",
    "<img src=\"https://raw.githubusercontent.com/profjsb/deepCR/master/imgs/postage-sm.jpg\">\n",
    "\n",
    "\"deepCR: Deep Learning Based Cosmic Ray Removal for Astronomical Images\"\n",
    "https://github.com/profjsb/deepCR"
   ]
  },
  {
   "cell_type": "markdown",
   "metadata": {},
   "source": [
    "# Keras\n",
    "\n",
    "\n",
    "\"Use Keras if you need a deep learning library that:\n",
    "\n",
    "Allows for easy and fast prototyping (through user friendliness, modularity, and extensibility).\n",
    "Supports both convolutional networks and recurrent networks, as well as combinations of the two.\n",
    "Runs seamlessly on CPU and GPU.\"\n",
    "\n",
    "-- keras.io\n",
    "\n",
    "<img src=\"https://www.digikey.com/maker-media/6c3d4f5f-98e0-4104-ad8c-fb0b47000109\">"
   ]
  },
  {
   "cell_type": "markdown",
   "metadata": {},
   "source": [
    "Let's load up the California housing data as in the previous notebook."
   ]
  },
  {
   "cell_type": "code",
   "execution_count": 1,
   "metadata": {},
   "outputs": [],
   "source": [
    "import math\n",
    "\n",
    "import numpy as np\n",
    "import matplotlib.pyplot as plt\n",
    "%matplotlib inline\n",
    "import pandas as pd\n",
    "\n",
    "from sklearn import datasets\n",
    "from sklearn.preprocessing import StandardScaler  \n",
    "\n",
    "cal_data = datasets.fetch_california_housing()\n",
    "X = cal_data['data']   # 8 features \n",
    "Y = cal_data['target'] # response (median house price)\n",
    "\n",
    "half = math.floor(len(Y)/2)\n",
    "train_X = X[:half]\n",
    "train_Y = Y[:half]\n",
    "test_X = X[half:]\n",
    "test_Y = Y[half:]\n",
    "\n",
    "scaler = StandardScaler()  \n",
    "\n",
    "# Don't cheat - fit only on training data\n",
    "scaler.fit(train_X)  \n",
    "train_X = scaler.transform(train_X)  \n",
    "\n",
    "# apply same transformation to test data\n",
    "test_X = scaler.transform(test_X)"
   ]
  },
  {
   "cell_type": "code",
   "execution_count": 2,
   "metadata": {},
   "outputs": [
    {
     "data": {
      "text/plain": [
       "array([ 1.83091342, -1.31085329,  0.84047027, -0.15023587,  0.25295181,\n",
       "        0.0466981 , -0.83013107,  0.92616793])"
      ]
     },
     "execution_count": 2,
     "metadata": {},
     "output_type": "execute_result"
    }
   ],
   "source": [
    "test_X[0,:]"
   ]
  },
  {
   "cell_type": "code",
   "execution_count": 3,
   "metadata": {},
   "outputs": [
    {
     "name": "stdout",
     "output_type": "stream",
     "text": [
      "number of input features = 8\n"
     ]
    }
   ],
   "source": [
    "num_input_features = train_X.shape[1]\n",
    "print(f'number of input features = {num_input_features}')"
   ]
  },
  {
   "cell_type": "code",
   "execution_count": 4,
   "metadata": {},
   "outputs": [
    {
     "name": "stdout",
     "output_type": "stream",
     "text": [
      "2.8.0\n",
      "backend=tensorflow\n"
     ]
    }
   ],
   "source": [
    "import datetime, os\n",
    "\n",
    "import tensorflow.keras\n",
    "from tensorflow.keras.datasets import mnist\n",
    "from tensorflow.keras.models import Sequential\n",
    "from tensorflow.keras.layers import Dense, Dropout, Flatten\n",
    "from tensorflow.keras.layers import Conv2D, MaxPooling2D\n",
    "from tensorflow.keras import backend as K\n",
    "import tensorflow as tf\n",
    "\n",
    "tf.config.set_visible_devices([], 'GPU')\n",
    "\n",
    "import warnings\n",
    "warnings.simplefilter(action='ignore', category=FutureWarning)\n",
    "# Print keras version\n",
    "print(tensorflow.keras.__version__)\n",
    "\n",
    "from tensorflow import keras\n",
    "print(f\"backend={keras.backend.backend()}\")"
   ]
  },
  {
   "cell_type": "code",
   "execution_count": 5,
   "metadata": {},
   "outputs": [],
   "source": [
    "# multi-layer percepton\n",
    "# last layer is linear to transmit data\n",
    "# Take weights of last layer, sum up, and apply linear acitvation\n",
    "# if you did relu, only positive nubmers would be transmitted...\n",
    "\n",
    "# adam starts with big gradient updates and then slows down as it approached\n",
    "# correct value\n",
    "\n",
    "def nn_clf():\n",
    "    model = Sequential()\n",
    "    model.add(Dense(32, input_shape=(num_input_features,), \n",
    "                      activation=\"relu\", kernel_initializer='random_uniform'))\n",
    "    model.add(Dense(32,  activation=\"relu\", kernel_initializer='random_uniform', name=\"dan\"))\n",
    "    model.add(Dense(10,  activation=\"relu\", kernel_initializer='random_uniform'))\n",
    "    model.add(Dense(1, activation=\"linear\", kernel_initializer='random_uniform'))\n",
    "    model.compile(optimizer='adam', loss='mean_squared_error',  metrics=['mae',\"mse\"])\n",
    "    return model"
   ]
  },
  {
   "cell_type": "code",
   "execution_count": 6,
   "metadata": {
    "scrolled": true
   },
   "outputs": [
    {
     "name": "stdout",
     "output_type": "stream",
     "text": [
      "Model: \"sequential\"\n",
      "_________________________________________________________________\n",
      " Layer (type)                Output Shape              Param #   \n",
      "=================================================================\n",
      " dense (Dense)               (None, 32)                288       \n",
      "                                                                 \n",
      " dan (Dense)                 (None, 32)                1056      \n",
      "                                                                 \n",
      " dense_1 (Dense)             (None, 10)                330       \n",
      "                                                                 \n",
      " dense_2 (Dense)             (None, 1)                 11        \n",
      "                                                                 \n",
      "=================================================================\n",
      "Total params: 1,685\n",
      "Trainable params: 1,685\n",
      "Non-trainable params: 0\n",
      "_________________________________________________________________\n"
     ]
    }
   ],
   "source": [
    "model = nn_clf()\n",
    "\n",
    "model.summary()\n",
    "\n",
    "# 288 because 8 input numbers going to 32 numbers plus 32 bias parameters"
   ]
  },
  {
   "cell_type": "code",
   "execution_count": 7,
   "metadata": {},
   "outputs": [
    {
     "data": {
      "image/png": "[encoded data removed]",
      "text/plain": [
       "<IPython.core.display.Image object>"
      ]
     },
     "execution_count": 7,
     "metadata": {},
     "output_type": "execute_result"
    }
   ],
   "source": [
    "from tensorflow.keras.utils import plot_model\n",
    "\n",
    "plot_model(model, to_file='model_plot.png', show_shapes=True, \n",
    "                   show_layer_names=True)\n",
    "\n",
    "from IPython.display import Image\n",
    "Image(\"model_plot.png\")"
   ]
  },
  {
   "cell_type": "code",
   "execution_count": 8,
   "metadata": {},
   "outputs": [],
   "source": [
    "# !pip install scikeras\n"
   ]
  },
  {
   "cell_type": "code",
   "execution_count": 9,
   "metadata": {
    "scrolled": true
   },
   "outputs": [
    {
     "name": "stdout",
     "output_type": "stream",
     "text": [
      "Epoch 1/50\n",
      "323/323 [==============================] - 0s 607us/step - loss: 1.6165 - mae: 0.8758 - mse: 1.6165\n",
      "Epoch 2/50\n",
      "323/323 [==============================] - 0s 648us/step - loss: 0.4240 - mae: 0.4671 - mse: 0.4240\n",
      "Epoch 3/50\n",
      "323/323 [==============================] - 0s 634us/step - loss: 0.3905 - mae: 0.4480 - mse: 0.3905\n",
      "Epoch 4/50\n",
      "323/323 [==============================] - 0s 638us/step - loss: 0.3779 - mae: 0.4380 - mse: 0.3779\n",
      "Epoch 5/50\n",
      "323/323 [==============================] - 0s 602us/step - loss: 0.3688 - mae: 0.4336 - mse: 0.3688\n",
      "Epoch 6/50\n",
      "323/323 [==============================] - 0s 618us/step - loss: 0.3606 - mae: 0.4260 - mse: 0.3606\n",
      "Epoch 7/50\n",
      "323/323 [==============================] - 0s 607us/step - loss: 0.3568 - mae: 0.4212 - mse: 0.3568\n",
      "Epoch 8/50\n",
      "323/323 [==============================] - 0s 610us/step - loss: 0.3522 - mae: 0.4198 - mse: 0.3522\n",
      "Epoch 9/50\n",
      "323/323 [==============================] - 0s 635us/step - loss: 0.3468 - mae: 0.4158 - mse: 0.3468\n",
      "Epoch 10/50\n",
      "323/323 [==============================] - 0s 613us/step - loss: 0.3415 - mae: 0.4114 - mse: 0.3415\n",
      "Epoch 11/50\n",
      "323/323 [==============================] - 0s 623us/step - loss: 0.3387 - mae: 0.4092 - mse: 0.3387\n",
      "Epoch 12/50\n",
      "323/323 [==============================] - 0s 608us/step - loss: 0.3312 - mae: 0.4046 - mse: 0.3312\n",
      "Epoch 13/50\n",
      "323/323 [==============================] - 0s 596us/step - loss: 0.3288 - mae: 0.4024 - mse: 0.3288\n",
      "Epoch 14/50\n",
      "323/323 [==============================] - 0s 617us/step - loss: 0.3239 - mae: 0.3985 - mse: 0.3239\n",
      "Epoch 15/50\n",
      "323/323 [==============================] - 0s 587us/step - loss: 0.3275 - mae: 0.4005 - mse: 0.3275\n",
      "Epoch 16/50\n",
      "323/323 [==============================] - 0s 602us/step - loss: 0.3244 - mae: 0.3979 - mse: 0.3244\n",
      "Epoch 17/50\n",
      "323/323 [==============================] - 0s 603us/step - loss: 0.3193 - mae: 0.3947 - mse: 0.3193\n",
      "Epoch 18/50\n",
      "323/323 [==============================] - 0s 621us/step - loss: 0.3206 - mae: 0.3954 - mse: 0.3206\n",
      "Epoch 19/50\n",
      "323/323 [==============================] - 0s 616us/step - loss: 0.3173 - mae: 0.3918 - mse: 0.3173\n",
      "Epoch 20/50\n",
      "323/323 [==============================] - 0s 614us/step - loss: 0.3139 - mae: 0.3903 - mse: 0.3139\n",
      "Epoch 21/50\n",
      "323/323 [==============================] - 0s 597us/step - loss: 0.3153 - mae: 0.3913 - mse: 0.3153\n",
      "Epoch 22/50\n",
      "323/323 [==============================] - 0s 610us/step - loss: 0.3129 - mae: 0.3888 - mse: 0.3129\n",
      "Epoch 23/50\n",
      "323/323 [==============================] - 0s 622us/step - loss: 0.3185 - mae: 0.3914 - mse: 0.3185\n",
      "Epoch 24/50\n",
      "323/323 [==============================] - 0s 608us/step - loss: 0.3183 - mae: 0.3915 - mse: 0.3183\n",
      "Epoch 25/50\n",
      "323/323 [==============================] - 0s 601us/step - loss: 0.3104 - mae: 0.3877 - mse: 0.3104\n",
      "Epoch 26/50\n",
      "323/323 [==============================] - 0s 630us/step - loss: 0.3093 - mae: 0.3862 - mse: 0.3093\n",
      "Epoch 27/50\n",
      "323/323 [==============================] - 0s 632us/step - loss: 0.3105 - mae: 0.3869 - mse: 0.3105\n",
      "Epoch 28/50\n",
      "323/323 [==============================] - 0s 572us/step - loss: 0.3170 - mae: 0.3899 - mse: 0.3170\n",
      "Epoch 29/50\n",
      "323/323 [==============================] - 0s 615us/step - loss: 0.3132 - mae: 0.3880 - mse: 0.3132\n",
      "Epoch 30/50\n",
      "323/323 [==============================] - 0s 629us/step - loss: 0.3112 - mae: 0.3874 - mse: 0.3112\n",
      "Epoch 31/50\n",
      "323/323 [==============================] - 0s 608us/step - loss: 0.3070 - mae: 0.3834 - mse: 0.3070\n",
      "Epoch 32/50\n",
      "323/323 [==============================] - 0s 687us/step - loss: 0.3066 - mae: 0.3835 - mse: 0.3066\n",
      "Epoch 33/50\n",
      "323/323 [==============================] - 0s 665us/step - loss: 0.3063 - mae: 0.3843 - mse: 0.3063\n",
      "Epoch 34/50\n",
      "323/323 [==============================] - 0s 615us/step - loss: 0.3029 - mae: 0.3812 - mse: 0.3029\n",
      "Epoch 35/50\n",
      "323/323 [==============================] - 0s 611us/step - loss: 0.3058 - mae: 0.3825 - mse: 0.3058\n",
      "Epoch 36/50\n",
      "323/323 [==============================] - 0s 614us/step - loss: 0.3073 - mae: 0.3837 - mse: 0.3073\n",
      "Epoch 37/50\n",
      "323/323 [==============================] - 0s 604us/step - loss: 0.3090 - mae: 0.3852 - mse: 0.3090\n",
      "Epoch 38/50\n",
      "323/323 [==============================] - 0s 597us/step - loss: 0.3027 - mae: 0.3817 - mse: 0.3027\n",
      "Epoch 39/50\n",
      "323/323 [==============================] - 0s 606us/step - loss: 0.3014 - mae: 0.3813 - mse: 0.3014\n",
      "Epoch 40/50\n",
      "323/323 [==============================] - 0s 604us/step - loss: 0.2986 - mae: 0.3783 - mse: 0.2986\n",
      "Epoch 41/50\n",
      "323/323 [==============================] - 0s 614us/step - loss: 0.2971 - mae: 0.3782 - mse: 0.2971\n",
      "Epoch 42/50\n",
      "323/323 [==============================] - 0s 600us/step - loss: 0.2959 - mae: 0.3771 - mse: 0.2959\n",
      "Epoch 43/50\n",
      "323/323 [==============================] - 0s 629us/step - loss: 0.2945 - mae: 0.3760 - mse: 0.2945\n",
      "Epoch 44/50\n",
      "323/323 [==============================] - 0s 610us/step - loss: 0.2922 - mae: 0.3755 - mse: 0.2922\n",
      "Epoch 45/50\n",
      "323/323 [==============================] - 0s 619us/step - loss: 0.2901 - mae: 0.3746 - mse: 0.2901\n",
      "Epoch 46/50\n",
      "323/323 [==============================] - 0s 623us/step - loss: 0.2882 - mae: 0.3731 - mse: 0.2882\n",
      "Epoch 47/50\n",
      "323/323 [==============================] - 0s 623us/step - loss: 0.2865 - mae: 0.3730 - mse: 0.2865\n",
      "Epoch 48/50\n",
      "323/323 [==============================] - 0s 609us/step - loss: 0.2850 - mae: 0.3711 - mse: 0.2850\n",
      "Epoch 49/50\n",
      "323/323 [==============================] - 0s 627us/step - loss: 0.2835 - mae: 0.3700 - mse: 0.2835\n",
      "Epoch 50/50\n",
      "323/323 [==============================] - 0s 623us/step - loss: 0.2803 - mae: 0.3682 - mse: 0.2803\n"
     ]
    },
    {
     "data": {
      "text/plain": [
       "KerasRegressor(\n",
       "\tmodel=<function nn_clf at 0x1059af310>\n",
       "\tbuild_fn=None\n",
       "\twarm_start=False\n",
       "\trandom_state=None\n",
       "\toptimizer=rmsprop\n",
       "\tloss=None\n",
       "\tmetrics=None\n",
       "\tbatch_size=32\n",
       "\tvalidation_batch_size=None\n",
       "\tverbose=1\n",
       "\tcallbacks=None\n",
       "\tvalidation_split=0.0\n",
       "\tshuffle=True\n",
       "\trun_eagerly=False\n",
       "\tepochs=50\n",
       ")"
      ]
     },
     "execution_count": 9,
     "metadata": {},
     "output_type": "execute_result"
    }
   ],
   "source": [
    "from scikeras.wrappers import KerasClassifier, KerasRegressor\n",
    "from sklearn.model_selection import cross_val_score, KFold\n",
    "\n",
    "clf = KerasRegressor(model=nn_clf, batch_size=32, epochs=50)\n",
    "clf.fit(train_X, train_Y)"
   ]
  },
  {
   "cell_type": "code",
   "execution_count": 10,
   "metadata": {},
   "outputs": [
    {
     "name": "stdout",
     "output_type": "stream",
     "text": [
      "323/323 [==============================] - 0s 322us/step\n",
      "MSE 0.5256889756965322\n",
      "323/323 [==============================] - 0s 296us/step\n"
     ]
    },
    {
     "data": {
      "text/plain": [
       "[<matplotlib.lines.Line2D at 0x17fe588e0>]"
      ]
     },
     "execution_count": 10,
     "metadata": {},
     "output_type": "execute_result"
    },
    {
     "data": {
      "image/png": "[encoded data removed]",
      "text/plain": [
       "<Figure size 720x432 with 1 Axes>"
      ]
     },
     "metadata": {
      "needs_background": "light"
     },
     "output_type": "display_data"
    }
   ],
   "source": [
    "# how well did we do?\n",
    "import numpy as np\n",
    "from sklearn.metrics import mean_squared_error\n",
    "mse = mean_squared_error(test_Y, clf.predict(test_X)) ; print(\"MSE\",mse)\n",
    "\n",
    "plt.figure(figsize=(10,6))\n",
    "plt.title(\"NN Regression Residuals - MSE = %.3f\" % mse)\n",
    "plt.scatter(test_Y,clf.predict(test_X),alpha=0.4,s=3)\n",
    "plt.xlabel(\"Test Y\")\n",
    "plt.ylabel(\"Predicted Y\")\n",
    "plt.plot([0.2,5],[0.2,5],c=\"r\")"
   ]
  },
  {
   "cell_type": "markdown",
   "metadata": {},
   "source": [
    "### A More Complete Example\n",
    "\n",
    "We want to train and make some decisions of when to stop based on `validation` data. Ultimately, we'd like to see how well our model would do on truly new data (`test`).\n"
   ]
  },
  {
   "cell_type": "code",
   "execution_count": 11,
   "metadata": {},
   "outputs": [],
   "source": [
    "train_percentage, valid_percentage, test_percentage = (0.90, 0.05, 0.05)"
   ]
  },
  {
   "cell_type": "code",
   "execution_count": 12,
   "metadata": {},
   "outputs": [],
   "source": [
    "from sklearn.model_selection import train_test_split\n",
    "\n",
    "rnd = np.random.RandomState(41)\n",
    "\n",
    "# make an array with the indices of all the rows in the dataset\n",
    "ind_arr = np.arange(X.shape[0])\n",
    "rnd.shuffle(ind_arr)\n",
    "\n",
    "train_ind, tmp = train_test_split(ind_arr, train_size=train_percentage, random_state=rnd)\n",
    "valid_ind, test_ind = \\\n",
    "      train_test_split(tmp, train_size=valid_percentage/(valid_percentage + test_percentage), \n",
    "                               random_state=rnd)"
   ]
  },
  {
   "cell_type": "markdown",
   "metadata": {},
   "source": [
    "Let's make sure that we're getting all the indicies"
   ]
  },
  {
   "cell_type": "code",
   "execution_count": 13,
   "metadata": {},
   "outputs": [],
   "source": [
    "assert np.all(np.array(sorted(list(train_ind) + list(valid_ind) + list(test_ind)))  == \\\n",
    "              sorted(ind_arr))"
   ]
  },
  {
   "cell_type": "code",
   "execution_count": 14,
   "metadata": {},
   "outputs": [
    {
     "data": {
      "text/plain": [
       "((18576,), (1032,), (1032,))"
      ]
     },
     "execution_count": 14,
     "metadata": {},
     "output_type": "execute_result"
    }
   ],
   "source": [
    "train_ind.shape, test_ind.shape, valid_ind.shape"
   ]
  },
  {
   "cell_type": "markdown",
   "metadata": {},
   "source": [
    "Now let's scale the inputs"
   ]
  },
  {
   "cell_type": "code",
   "execution_count": 15,
   "metadata": {},
   "outputs": [],
   "source": [
    "scaler = StandardScaler()  \n",
    "\n",
    "train_X = X[train_ind]\n",
    "# Don't cheat - fit only on training data\n",
    "scaler.fit(train_X)  \n",
    "train_X = scaler.transform(train_X)  \n",
    "\n",
    "# apply same transformation to test, validation data\n",
    "test_X = scaler.transform(X[test_ind])\n",
    "valid_X = scaler.transform(X[valid_ind])\n",
    "\n",
    "train_y = Y[train_ind] ; test_y = Y[test_ind] ; valid_y = Y[valid_ind]\n",
    "\n",
    "assert train_y.shape[0] == train_X.shape[0]\n",
    "assert test_y.shape[0] == test_X.shape[0]\n",
    "assert valid_y.shape[0] == valid_X.shape[0]"
   ]
  },
  {
   "cell_type": "code",
   "execution_count": 16,
   "metadata": {},
   "outputs": [],
   "source": [
    "model = Sequential()\n",
    "model.add(Dense(32, input_shape=(num_input_features,), \n",
    "                  activation=\"relu\", kernel_initializer='random_uniform'))\n",
    "model.add(Dense(32,  activation=\"relu\", kernel_initializer='random_uniform'))\n",
    "model.add(Dense(5,  activation=\"relu\", kernel_initializer='random_uniform'))\n",
    "model.add(Dense(1, activation=\"linear\", kernel_initializer='random_uniform'))"
   ]
  },
  {
   "cell_type": "markdown",
   "metadata": {},
   "source": [
    "The `Model.compile` method in `keras` has a number of input parameters:\n",
    "\n",
    "```python\n",
    "compile(optimizer, loss=None, metrics=None, loss_weights=None, sample_weight_mode=None, weighted_metrics=None, target_tensors=None)\n",
    "```\n",
    "Usually, you'll set the `optimizer`, `loss`, and `metrics`.\n",
    "\n",
    "https://keras.io/models/model/"
   ]
  },
  {
   "cell_type": "code",
   "execution_count": 17,
   "metadata": {},
   "outputs": [
    {
     "name": "stdout",
     "output_type": "stream",
     "text": [
      "Model: \"sequential_2\"\n",
      "_________________________________________________________________\n",
      " Layer (type)                Output Shape              Param #   \n",
      "=================================================================\n",
      " dense_6 (Dense)             (None, 32)                288       \n",
      "                                                                 \n",
      " dense_7 (Dense)             (None, 32)                1056      \n",
      "                                                                 \n",
      " dense_8 (Dense)             (None, 5)                 165       \n",
      "                                                                 \n",
      " dense_9 (Dense)             (None, 1)                 6         \n",
      "                                                                 \n",
      "=================================================================\n",
      "Total params: 1,515\n",
      "Trainable params: 1,515\n",
      "Non-trainable params: 0\n",
      "_________________________________________________________________\n"
     ]
    }
   ],
   "source": [
    "model.summary()"
   ]
  },
  {
   "cell_type": "code",
   "execution_count": 18,
   "metadata": {},
   "outputs": [],
   "source": [
    "model.compile(optimizer='adam', loss='mean_squared_error',  metrics=['mae',\"mse\"])"
   ]
  },
  {
   "cell_type": "code",
   "execution_count": 19,
   "metadata": {},
   "outputs": [
    {
     "name": "stdout",
     "output_type": "stream",
     "text": [
      "Training ... nn_results/ay250_nn_2022-04-04T19:17.h5\n"
     ]
    }
   ],
   "source": [
    "import datetime\n",
    "import os\n",
    "\n",
    "from tensorflow.keras.callbacks import EarlyStopping, CSVLogger, \\\n",
    "                                                ReduceLROnPlateau, ModelCheckpoint, TensorBoard\n",
    "\n",
    "try:\n",
    "    os.mkdir('nn_results')\n",
    "except:\n",
    "    pass\n",
    "\n",
    "batch_size=64\n",
    "num_epochs = 200\n",
    "\n",
    "run_time_string = datetime.datetime.utcnow().isoformat(timespec='minutes')\n",
    "\n",
    "# define path to save model\n",
    "model_path = f'nn_results/ay250_nn_{run_time_string}.h5'\n",
    "print(f\"Training ... {model_path}\")\n",
    "\n",
    "# Tensorboard is a project which can ingest learning logs for interactive display...\n",
    "# more on that later.\n",
    "tb = TensorBoard(log_dir='nn_results', histogram_freq=0,\n",
    "                 write_graph=True, \n",
    "                 write_grads=False, \n",
    "                 write_images=False, \n",
    "                 embeddings_freq=0, \n",
    "                 embeddings_layer_names=None, \n",
    "                 embeddings_metadata=None, embeddings_data=None)\n",
    "\n",
    "reduce_lr = ReduceLROnPlateau(monitor='val_mse', factor=0.75,\n",
    "                              patience=3, min_lr=1e-6, verbose=1, cooldown=0)\n",
    "\n",
    "csv_logger = CSVLogger(f'nn_results/training_{run_time_string}.log')\n",
    "\n",
    "earlystop = EarlyStopping(monitor='val_mse', min_delta=0.001, patience=10, \\\n",
    "                          verbose=1, mode='auto')\n",
    "\n",
    "model_check = ModelCheckpoint(model_path,\n",
    "        monitor='val_mse', \n",
    "        save_best_only=True, \n",
    "        mode='min',\n",
    "        verbose=1)"
   ]
  },
  {
   "cell_type": "markdown",
   "metadata": {},
   "source": [
    "The `Model.fit` method:\n",
    "\n",
    "```python\n",
    "fit(x=None, y=None, batch_size=None, epochs=1, verbose=1, callbacks=None, validation_split=0.0, validation_data=None, shuffle=True, class_weight=None, sample_weight=None, initial_epoch=0, steps_per_epoch=None, validation_steps=None, validation_freq=1)\n",
    "```"
   ]
  },
  {
   "cell_type": "code",
   "execution_count": 20,
   "metadata": {},
   "outputs": [
    {
     "name": "stdout",
     "output_type": "stream",
     "text": [
      "Found GPU at: /device:GPU:0\n"
     ]
    }
   ],
   "source": [
    "import tensorflow as tf\n",
    "device_name = tf.test.gpu_device_name()\n",
    "if device_name != '/device:GPU:0':\n",
    "    print('GPU device not found')\n",
    "    has_gpu = False\n",
    "else:\n",
    "    print('Found GPU at: {}'.format(device_name))\n",
    "    has_gpu = True"
   ]
  },
  {
   "cell_type": "code",
   "execution_count": 21,
   "metadata": {
    "scrolled": true
   },
   "outputs": [
    {
     "name": "stdout",
     "output_type": "stream",
     "text": [
      "Epoch 1/200\n",
      "531/581 [==========================>...] - ETA: 0s - loss: 1.2291 - mae: 0.7549 - mse: 1.2291\n",
      "Epoch 1: val_mse improved from inf to 0.48994, saving model to nn_results/ay250_nn_2022-04-04T19:17.h5\n",
      "581/581 [==============================] - 1s 764us/step - loss: 1.1619 - mae: 0.7308 - mse: 1.1619 - val_loss: 0.4899 - val_mae: 0.5021 - val_mse: 0.4899\n",
      "Epoch 2/200\n",
      "527/581 [==========================>...] - ETA: 0s - loss: 0.4298 - mae: 0.4677 - mse: 0.4298\n",
      "Epoch 2: val_mse improved from 0.48994 to 0.47489, saving model to nn_results/ay250_nn_2022-04-04T19:17.h5\n",
      "581/581 [==============================] - 0s 632us/step - loss: 0.4286 - mae: 0.4660 - mse: 0.4286 - val_loss: 0.4749 - val_mae: 0.4837 - val_mse: 0.4749\n",
      "Epoch 3/200\n",
      "530/581 [==========================>...] - ETA: 0s - loss: 0.4126 - mae: 0.4542 - mse: 0.4126\n",
      "Epoch 3: val_mse improved from 0.47489 to 0.46979, saving model to nn_results/ay250_nn_2022-04-04T19:17.h5\n",
      "581/581 [==============================] - 0s 655us/step - loss: 0.4140 - mae: 0.4554 - mse: 0.4140 - val_loss: 0.4698 - val_mae: 0.4844 - val_mse: 0.4698\n",
      "Epoch 4/200\n",
      "529/581 [==========================>...] - ETA: 0s - loss: 0.3988 - mae: 0.4470 - mse: 0.3988\n",
      "Epoch 4: val_mse did not improve from 0.46979\n",
      "581/581 [==============================] - 0s 610us/step - loss: 0.4051 - mae: 0.4487 - mse: 0.4051 - val_loss: 0.4726 - val_mae: 0.4989 - val_mse: 0.4726\n",
      "Epoch 5/200\n",
      "515/581 [=========================>....] - ETA: 0s - loss: 0.3993 - mae: 0.4460 - mse: 0.3993\n",
      "Epoch 5: val_mse improved from 0.46979 to 0.46603, saving model to nn_results/ay250_nn_2022-04-04T19:17.h5\n",
      "581/581 [==============================] - 0s 646us/step - loss: 0.3967 - mae: 0.4446 - mse: 0.3967 - val_loss: 0.4660 - val_mae: 0.4790 - val_mse: 0.4660\n",
      "Epoch 6/200\n",
      "538/581 [==========================>...] - ETA: 0s - loss: 0.3890 - mae: 0.4398 - mse: 0.3890\n",
      "Epoch 6: val_mse did not improve from 0.46603\n",
      "581/581 [==============================] - 0s 603us/step - loss: 0.3893 - mae: 0.4401 - mse: 0.3893 - val_loss: 0.4671 - val_mae: 0.4909 - val_mse: 0.4671\n",
      "Epoch 7/200\n",
      "496/581 [========================>.....] - ETA: 0s - loss: 0.3851 - mae: 0.4367 - mse: 0.3851\n",
      "Epoch 7: val_mse improved from 0.46603 to 0.45109, saving model to nn_results/ay250_nn_2022-04-04T19:17.h5\n",
      "581/581 [==============================] - 0s 693us/step - loss: 0.3847 - mae: 0.4363 - mse: 0.3847 - val_loss: 0.4511 - val_mae: 0.4696 - val_mse: 0.4511\n",
      "Epoch 8/200\n",
      "524/581 [==========================>...] - ETA: 0s - loss: 0.3798 - mae: 0.4321 - mse: 0.3798\n",
      "Epoch 8: val_mse improved from 0.45109 to 0.43951, saving model to nn_results/ay250_nn_2022-04-04T19:17.h5\n",
      "581/581 [==============================] - 0s 637us/step - loss: 0.3767 - mae: 0.4315 - mse: 0.3767 - val_loss: 0.4395 - val_mae: 0.4610 - val_mse: 0.4395\n",
      "Epoch 9/200\n",
      "505/581 [=========================>....] - ETA: 0s - loss: 0.3740 - mae: 0.4285 - mse: 0.3740\n",
      "Epoch 9: val_mse improved from 0.43951 to 0.43606, saving model to nn_results/ay250_nn_2022-04-04T19:17.h5\n",
      "581/581 [==============================] - 0s 655us/step - loss: 0.3706 - mae: 0.4271 - mse: 0.3706 - val_loss: 0.4361 - val_mae: 0.4703 - val_mse: 0.4361\n",
      "Epoch 10/200\n",
      "517/581 [=========================>....] - ETA: 0s - loss: 0.3650 - mae: 0.4239 - mse: 0.3650\n",
      "Epoch 10: val_mse did not improve from 0.43606\n",
      "581/581 [==============================] - 0s 624us/step - loss: 0.3642 - mae: 0.4238 - mse: 0.3642 - val_loss: 0.4367 - val_mae: 0.4699 - val_mse: 0.4367\n",
      "Epoch 11/200\n",
      "518/581 [=========================>....] - ETA: 0s - loss: 0.3626 - mae: 0.4211 - mse: 0.3626\n",
      "Epoch 11: val_mse improved from 0.43606 to 0.42536, saving model to nn_results/ay250_nn_2022-04-04T19:17.h5\n",
      "581/581 [==============================] - 0s 638us/step - loss: 0.3617 - mae: 0.4210 - mse: 0.3617 - val_loss: 0.4254 - val_mae: 0.4651 - val_mse: 0.4254\n",
      "Epoch 12/200\n",
      "498/581 [========================>.....] - ETA: 0s - loss: 0.3523 - mae: 0.4163 - mse: 0.3523\n",
      "Epoch 12: val_mse did not improve from 0.42536\n",
      "581/581 [==============================] - 0s 638us/step - loss: 0.3555 - mae: 0.4178 - mse: 0.3555 - val_loss: 0.4507 - val_mae: 0.4793 - val_mse: 0.4507\n",
      "Epoch 13/200\n",
      "517/581 [=========================>....] - ETA: 0s - loss: 0.3587 - mae: 0.4188 - mse: 0.3587\n",
      "Epoch 13: val_mse did not improve from 0.42536\n",
      "581/581 [==============================] - 0s 625us/step - loss: 0.3553 - mae: 0.4171 - mse: 0.3553 - val_loss: 0.4301 - val_mae: 0.4664 - val_mse: 0.4301\n",
      "Epoch 14/200\n",
      "521/581 [=========================>....] - ETA: 0s - loss: 0.3513 - mae: 0.4155 - mse: 0.3513\n",
      "Epoch 14: val_mse improved from 0.42536 to 0.41949, saving model to nn_results/ay250_nn_2022-04-04T19:17.h5\n",
      "581/581 [==============================] - 0s 639us/step - loss: 0.3523 - mae: 0.4155 - mse: 0.3523 - val_loss: 0.4195 - val_mae: 0.4549 - val_mse: 0.4195\n",
      "Epoch 15/200\n",
      "502/581 [========================>.....] - ETA: 0s - loss: 0.3508 - mae: 0.4152 - mse: 0.3508\n",
      "Epoch 15: val_mse improved from 0.41949 to 0.41801, saving model to nn_results/ay250_nn_2022-04-04T19:17.h5\n",
      "581/581 [==============================] - 0s 658us/step - loss: 0.3496 - mae: 0.4144 - mse: 0.3496 - val_loss: 0.4180 - val_mae: 0.4430 - val_mse: 0.4180\n",
      "Epoch 16/200\n",
      "500/581 [========================>.....] - ETA: 0s - loss: 0.3521 - mae: 0.4143 - mse: 0.3521\n",
      "Epoch 16: val_mse improved from 0.41801 to 0.41611, saving model to nn_results/ay250_nn_2022-04-04T19:17.h5\n",
      "581/581 [==============================] - 0s 648us/step - loss: 0.3481 - mae: 0.4129 - mse: 0.3481 - val_loss: 0.4161 - val_mae: 0.4467 - val_mse: 0.4161\n",
      "Epoch 17/200\n",
      "523/581 [==========================>...] - ETA: 0s - loss: 0.3475 - mae: 0.4136 - mse: 0.3475\n",
      "Epoch 17: val_mse improved from 0.41611 to 0.41120, saving model to nn_results/ay250_nn_2022-04-04T19:17.h5\n",
      "581/581 [==============================] - 0s 630us/step - loss: 0.3482 - mae: 0.4135 - mse: 0.3482 - val_loss: 0.4112 - val_mae: 0.4449 - val_mse: 0.4112\n",
      "Epoch 18/200\n",
      "495/581 [========================>.....] - ETA: 0s - loss: 0.3466 - mae: 0.4138 - mse: 0.3466\n",
      "Epoch 18: val_mse improved from 0.41120 to 0.40643, saving model to nn_results/ay250_nn_2022-04-04T19:17.h5\n",
      "581/581 [==============================] - 0s 660us/step - loss: 0.3474 - mae: 0.4124 - mse: 0.3474 - val_loss: 0.4064 - val_mae: 0.4437 - val_mse: 0.4064\n",
      "Epoch 19/200\n",
      "511/581 [=========================>....] - ETA: 0s - loss: 0.3439 - mae: 0.4111 - mse: 0.3439\n",
      "Epoch 19: val_mse did not improve from 0.40643\n",
      "581/581 [==============================] - 0s 629us/step - loss: 0.3452 - mae: 0.4118 - mse: 0.3452 - val_loss: 0.4169 - val_mae: 0.4439 - val_mse: 0.4169\n",
      "Epoch 20/200\n",
      "514/581 [=========================>....] - ETA: 0s - loss: 0.3441 - mae: 0.4118 - mse: 0.3441\n",
      "Epoch 20: val_mse did not improve from 0.40643\n",
      "581/581 [==============================] - 0s 629us/step - loss: 0.3428 - mae: 0.4103 - mse: 0.3428 - val_loss: 0.4122 - val_mae: 0.4391 - val_mse: 0.4122\n",
      "Epoch 21/200\n",
      "527/581 [==========================>...] - ETA: 0s - loss: 0.3391 - mae: 0.4076 - mse: 0.3391\n",
      "Epoch 21: val_mse did not improve from 0.40643\n",
      "581/581 [==============================] - 0s 605us/step - loss: 0.3412 - mae: 0.4092 - mse: 0.3412 - val_loss: 0.4128 - val_mae: 0.4524 - val_mse: 0.4128\n",
      "Epoch 22/200\n",
      "527/581 [==========================>...] - ETA: 0s - loss: 0.3412 - mae: 0.4080 - mse: 0.3412\n",
      "Epoch 22: val_mse improved from 0.40643 to 0.40078, saving model to nn_results/ay250_nn_2022-04-04T19:17.h5\n",
      "581/581 [==============================] - 0s 638us/step - loss: 0.3398 - mae: 0.4074 - mse: 0.3398 - val_loss: 0.4008 - val_mae: 0.4382 - val_mse: 0.4008\n",
      "Epoch 23/200\n",
      "513/581 [=========================>....] - ETA: 0s - loss: 0.3384 - mae: 0.4061 - mse: 0.3384\n",
      "Epoch 23: val_mse improved from 0.40078 to 0.39773, saving model to nn_results/ay250_nn_2022-04-04T19:17.h5\n",
      "581/581 [==============================] - 0s 644us/step - loss: 0.3386 - mae: 0.4060 - mse: 0.3386 - val_loss: 0.3977 - val_mae: 0.4417 - val_mse: 0.3977\n",
      "Epoch 24/200\n",
      "513/581 [=========================>....] - ETA: 0s - loss: 0.3304 - mae: 0.4027 - mse: 0.3304\n",
      "Epoch 24: val_mse did not improve from 0.39773\n",
      "581/581 [==============================] - 0s 627us/step - loss: 0.3327 - mae: 0.4021 - mse: 0.3327 - val_loss: 0.4098 - val_mae: 0.4484 - val_mse: 0.4098\n"
     ]
    },
    {
     "name": "stdout",
     "output_type": "stream",
     "text": [
      "Epoch 25/200\n",
      "530/581 [==========================>...] - ETA: 0s - loss: 0.3250 - mae: 0.3964 - mse: 0.3250\n",
      "Epoch 25: val_mse improved from 0.39773 to 0.38408, saving model to nn_results/ay250_nn_2022-04-04T19:17.h5\n",
      "581/581 [==============================] - 0s 630us/step - loss: 0.3268 - mae: 0.3966 - mse: 0.3268 - val_loss: 0.3841 - val_mae: 0.4172 - val_mse: 0.3841\n",
      "Epoch 26/200\n",
      "538/581 [==========================>...] - ETA: 0s - loss: 0.3209 - mae: 0.3924 - mse: 0.3209\n",
      "Epoch 26: val_mse improved from 0.38408 to 0.37729, saving model to nn_results/ay250_nn_2022-04-04T19:17.h5\n",
      "581/581 [==============================] - 0s 620us/step - loss: 0.3217 - mae: 0.3928 - mse: 0.3217 - val_loss: 0.3773 - val_mae: 0.4252 - val_mse: 0.3773\n",
      "Epoch 27/200\n",
      "532/581 [==========================>...] - ETA: 0s - loss: 0.3177 - mae: 0.3888 - mse: 0.3177\n",
      "Epoch 27: val_mse improved from 0.37729 to 0.37638, saving model to nn_results/ay250_nn_2022-04-04T19:17.h5\n",
      "581/581 [==============================] - 0s 623us/step - loss: 0.3190 - mae: 0.3901 - mse: 0.3190 - val_loss: 0.3764 - val_mae: 0.4232 - val_mse: 0.3764\n",
      "Epoch 28/200\n",
      "545/581 [===========================>..] - ETA: 0s - loss: 0.3093 - mae: 0.3849 - mse: 0.3093\n",
      "Epoch 28: val_mse did not improve from 0.37638\n",
      "581/581 [==============================] - 0s 593us/step - loss: 0.3126 - mae: 0.3863 - mse: 0.3126 - val_loss: 0.3914 - val_mae: 0.4411 - val_mse: 0.3914\n",
      "Epoch 29/200\n",
      "532/581 [==========================>...] - ETA: 0s - loss: 0.3124 - mae: 0.3872 - mse: 0.3124\n",
      "Epoch 29: val_mse improved from 0.37638 to 0.36446, saving model to nn_results/ay250_nn_2022-04-04T19:17.h5\n",
      "581/581 [==============================] - 0s 617us/step - loss: 0.3136 - mae: 0.3870 - mse: 0.3136 - val_loss: 0.3645 - val_mae: 0.4108 - val_mse: 0.3645\n",
      "Epoch 30/200\n",
      "549/581 [===========================>..] - ETA: 0s - loss: 0.3123 - mae: 0.3849 - mse: 0.3123\n",
      "Epoch 30: val_mse did not improve from 0.36446\n",
      "581/581 [==============================] - 0s 591us/step - loss: 0.3122 - mae: 0.3850 - mse: 0.3122 - val_loss: 0.3648 - val_mae: 0.4131 - val_mse: 0.3648\n",
      "Epoch 31/200\n",
      "546/581 [===========================>..] - ETA: 0s - loss: 0.3086 - mae: 0.3816 - mse: 0.3086\n",
      "Epoch 31: val_mse improved from 0.36446 to 0.36001, saving model to nn_results/ay250_nn_2022-04-04T19:17.h5\n",
      "581/581 [==============================] - 0s 614us/step - loss: 0.3080 - mae: 0.3814 - mse: 0.3080 - val_loss: 0.3600 - val_mae: 0.4084 - val_mse: 0.3600\n",
      "Epoch 32/200\n",
      "535/581 [==========================>...] - ETA: 0s - loss: 0.3112 - mae: 0.3833 - mse: 0.3112\n",
      "Epoch 32: val_mse did not improve from 0.36001\n",
      "581/581 [==============================] - 0s 606us/step - loss: 0.3116 - mae: 0.3839 - mse: 0.3116 - val_loss: 0.3877 - val_mae: 0.4171 - val_mse: 0.3877\n",
      "Epoch 33/200\n",
      "542/581 [==========================>...] - ETA: 0s - loss: 0.3101 - mae: 0.3834 - mse: 0.3101\n",
      "Epoch 33: val_mse did not improve from 0.36001\n",
      "581/581 [==============================] - 0s 682us/step - loss: 0.3074 - mae: 0.3816 - mse: 0.3074 - val_loss: 0.3738 - val_mae: 0.4139 - val_mse: 0.3738\n",
      "Epoch 34/200\n",
      "521/581 [=========================>....] - ETA: 0s - loss: 0.3031 - mae: 0.3774 - mse: 0.3031\n",
      "Epoch 34: val_mse improved from 0.36001 to 0.35467, saving model to nn_results/ay250_nn_2022-04-04T19:17.h5\n",
      "581/581 [==============================] - 0s 634us/step - loss: 0.3037 - mae: 0.3780 - mse: 0.3037 - val_loss: 0.3547 - val_mae: 0.4075 - val_mse: 0.3547\n",
      "Epoch 35/200\n",
      "543/581 [===========================>..] - ETA: 0s - loss: 0.3039 - mae: 0.3774 - mse: 0.3039\n",
      "Epoch 35: val_mse improved from 0.35467 to 0.35149, saving model to nn_results/ay250_nn_2022-04-04T19:17.h5\n",
      "581/581 [==============================] - 0s 613us/step - loss: 0.3026 - mae: 0.3772 - mse: 0.3026 - val_loss: 0.3515 - val_mae: 0.3989 - val_mse: 0.3515\n",
      "Epoch 36/200\n",
      "545/581 [===========================>..] - ETA: 0s - loss: 0.3033 - mae: 0.3766 - mse: 0.3033\n",
      "Epoch 36: val_mse improved from 0.35149 to 0.35061, saving model to nn_results/ay250_nn_2022-04-04T19:17.h5\n",
      "581/581 [==============================] - 0s 614us/step - loss: 0.3033 - mae: 0.3768 - mse: 0.3033 - val_loss: 0.3506 - val_mae: 0.4028 - val_mse: 0.3506\n",
      "Epoch 37/200\n",
      "528/581 [==========================>...] - ETA: 0s - loss: 0.3007 - mae: 0.3758 - mse: 0.3007\n",
      "Epoch 37: val_mse did not improve from 0.35061\n",
      "581/581 [==============================] - 0s 613us/step - loss: 0.2990 - mae: 0.3751 - mse: 0.2990 - val_loss: 0.3540 - val_mae: 0.4052 - val_mse: 0.3540\n",
      "Epoch 38/200\n",
      "533/581 [==========================>...] - ETA: 0s - loss: 0.3044 - mae: 0.3778 - mse: 0.3044\n",
      "Epoch 38: val_mse did not improve from 0.35061\n",
      "581/581 [==============================] - 0s 605us/step - loss: 0.2995 - mae: 0.3748 - mse: 0.2995 - val_loss: 0.3545 - val_mae: 0.4003 - val_mse: 0.3545\n",
      "Epoch 39/200\n",
      "511/581 [=========================>....] - ETA: 0s - loss: 0.2968 - mae: 0.3729 - mse: 0.2968\n",
      "Epoch 39: val_mse did not improve from 0.35061\n",
      "581/581 [==============================] - 0s 625us/step - loss: 0.2988 - mae: 0.3746 - mse: 0.2988 - val_loss: 0.3547 - val_mae: 0.3990 - val_mse: 0.3547\n",
      "Epoch 40/200\n",
      "534/581 [==========================>...] - ETA: 0s - loss: 0.2940 - mae: 0.3726 - mse: 0.2940\n",
      "Epoch 40: val_mse did not improve from 0.35061\n",
      "581/581 [==============================] - 0s 601us/step - loss: 0.2958 - mae: 0.3736 - mse: 0.2958 - val_loss: 0.3657 - val_mae: 0.4175 - val_mse: 0.3657\n",
      "Epoch 41/200\n",
      "515/581 [=========================>....] - ETA: 0s - loss: 0.2941 - mae: 0.3717 - mse: 0.2941\n",
      "Epoch 41: val_mse did not improve from 0.35061\n",
      "581/581 [==============================] - 0s 621us/step - loss: 0.2945 - mae: 0.3719 - mse: 0.2945 - val_loss: 0.3552 - val_mae: 0.3997 - val_mse: 0.3552\n",
      "Epoch 42/200\n",
      "524/581 [==========================>...] - ETA: 0s - loss: 0.3005 - mae: 0.3749 - mse: 0.3005\n",
      "Epoch 42: val_mse improved from 0.35061 to 0.34697, saving model to nn_results/ay250_nn_2022-04-04T19:17.h5\n",
      "581/581 [==============================] - 0s 623us/step - loss: 0.2965 - mae: 0.3730 - mse: 0.2965 - val_loss: 0.3470 - val_mae: 0.3921 - val_mse: 0.3470\n",
      "Epoch 43/200\n",
      "533/581 [==========================>...] - ETA: 0s - loss: 0.2917 - mae: 0.3694 - mse: 0.2917\n",
      "Epoch 43: val_mse did not improve from 0.34697\n",
      "581/581 [==============================] - 0s 602us/step - loss: 0.2929 - mae: 0.3703 - mse: 0.2929 - val_loss: 0.3516 - val_mae: 0.4062 - val_mse: 0.3516\n",
      "Epoch 44/200\n",
      "523/581 [==========================>...] - ETA: 0s - loss: 0.2894 - mae: 0.3682 - mse: 0.2894\n",
      "Epoch 44: val_mse did not improve from 0.34697\n",
      "581/581 [==============================] - 0s 613us/step - loss: 0.2922 - mae: 0.3691 - mse: 0.2922 - val_loss: 0.3492 - val_mae: 0.3959 - val_mse: 0.3492\n",
      "Epoch 45/200\n",
      "541/581 [==========================>...] - ETA: 0s - loss: 0.2919 - mae: 0.3678 - mse: 0.2919\n",
      "Epoch 45: val_mse did not improve from 0.34697\n",
      "581/581 [==============================] - 0s 599us/step - loss: 0.2908 - mae: 0.3679 - mse: 0.2908 - val_loss: 0.3540 - val_mae: 0.3946 - val_mse: 0.3540\n",
      "Epoch 46/200\n",
      "527/581 [==========================>...] - ETA: 0s - loss: 0.2878 - mae: 0.3660 - mse: 0.2878\n",
      "Epoch 46: val_mse did not improve from 0.34697\n",
      "581/581 [==============================] - 0s 608us/step - loss: 0.2891 - mae: 0.3676 - mse: 0.2891 - val_loss: 0.3532 - val_mae: 0.4083 - val_mse: 0.3532\n",
      "Epoch 47/200\n",
      "517/581 [=========================>....] - ETA: 0s - loss: 0.2934 - mae: 0.3691 - mse: 0.2934\n",
      "Epoch 47: val_mse did not improve from 0.34697\n",
      "581/581 [==============================] - 0s 624us/step - loss: 0.2913 - mae: 0.3670 - mse: 0.2913 - val_loss: 0.3507 - val_mae: 0.3926 - val_mse: 0.3507\n",
      "Epoch 48/200\n",
      "529/581 [==========================>...] - ETA: 0s - loss: 0.2880 - mae: 0.3669 - mse: 0.2880\n",
      "Epoch 48: val_mse improved from 0.34697 to 0.34426, saving model to nn_results/ay250_nn_2022-04-04T19:17.h5\n",
      "581/581 [==============================] - 0s 630us/step - loss: 0.2888 - mae: 0.3671 - mse: 0.2888 - val_loss: 0.3443 - val_mae: 0.3901 - val_mse: 0.3443\n",
      "Epoch 49/200\n",
      "506/581 [=========================>....] - ETA: 0s - loss: 0.2877 - mae: 0.3657 - mse: 0.2877\n",
      "Epoch 49: val_mse improved from 0.34426 to 0.34328, saving model to nn_results/ay250_nn_2022-04-04T19:17.h5\n"
     ]
    },
    {
     "name": "stdout",
     "output_type": "stream",
     "text": [
      "581/581 [==============================] - 0s 655us/step - loss: 0.2876 - mae: 0.3654 - mse: 0.2876 - val_loss: 0.3433 - val_mae: 0.3942 - val_mse: 0.3433\n",
      "Epoch 50/200\n",
      "538/581 [==========================>...] - ETA: 0s - loss: 0.2863 - mae: 0.3650 - mse: 0.2863\n",
      "Epoch 50: val_mse did not improve from 0.34328\n",
      "581/581 [==============================] - 0s 600us/step - loss: 0.2877 - mae: 0.3651 - mse: 0.2877 - val_loss: 0.3516 - val_mae: 0.4055 - val_mse: 0.3516\n",
      "Epoch 51/200\n",
      "529/581 [==========================>...] - ETA: 0s - loss: 0.2844 - mae: 0.3649 - mse: 0.2844\n",
      "Epoch 51: val_mse did not improve from 0.34328\n",
      "581/581 [==============================] - 0s 610us/step - loss: 0.2851 - mae: 0.3647 - mse: 0.2851 - val_loss: 0.3570 - val_mae: 0.4089 - val_mse: 0.3570\n",
      "Epoch 52/200\n",
      "537/581 [==========================>...] - ETA: 0s - loss: 0.2870 - mae: 0.3660 - mse: 0.2870\n",
      "Epoch 52: val_mse did not improve from 0.34328\n",
      "581/581 [==============================] - 0s 600us/step - loss: 0.2870 - mae: 0.3658 - mse: 0.2870 - val_loss: 0.3497 - val_mae: 0.4032 - val_mse: 0.3497\n",
      "Epoch 53/200\n",
      "525/581 [==========================>...] - ETA: 0s - loss: 0.2835 - mae: 0.3631 - mse: 0.2835\n",
      "Epoch 53: val_mse improved from 0.34328 to 0.34322, saving model to nn_results/ay250_nn_2022-04-04T19:17.h5\n",
      "581/581 [==============================] - 0s 629us/step - loss: 0.2846 - mae: 0.3635 - mse: 0.2846 - val_loss: 0.3432 - val_mae: 0.3917 - val_mse: 0.3432\n",
      "Epoch 54/200\n",
      "535/581 [==========================>...] - ETA: 0s - loss: 0.2845 - mae: 0.3628 - mse: 0.2845\n",
      "Epoch 54: val_mse improved from 0.34322 to 0.33908, saving model to nn_results/ay250_nn_2022-04-04T19:17.h5\n",
      "581/581 [==============================] - 0s 619us/step - loss: 0.2827 - mae: 0.3619 - mse: 0.2827 - val_loss: 0.3391 - val_mae: 0.3874 - val_mse: 0.3391\n",
      "Epoch 55/200\n",
      "531/581 [==========================>...] - ETA: 0s - loss: 0.2840 - mae: 0.3633 - mse: 0.2840\n",
      "Epoch 55: val_mse did not improve from 0.33908\n",
      "581/581 [==============================] - 0s 607us/step - loss: 0.2827 - mae: 0.3628 - mse: 0.2827 - val_loss: 0.3407 - val_mae: 0.3898 - val_mse: 0.3407\n",
      "Epoch 56/200\n",
      "530/581 [==========================>...] - ETA: 0s - loss: 0.2850 - mae: 0.3633 - mse: 0.2850\n",
      "Epoch 56: val_mse did not improve from 0.33908\n",
      "581/581 [==============================] - 0s 603us/step - loss: 0.2830 - mae: 0.3624 - mse: 0.2830 - val_loss: 0.3410 - val_mae: 0.3852 - val_mse: 0.3410\n",
      "Epoch 57/200\n",
      "532/581 [==========================>...] - ETA: 0s - loss: 0.2822 - mae: 0.3620 - mse: 0.2822\n",
      "Epoch 57: val_mse did not improve from 0.33908\n",
      "581/581 [==============================] - 0s 609us/step - loss: 0.2812 - mae: 0.3613 - mse: 0.2812 - val_loss: 0.3471 - val_mae: 0.3915 - val_mse: 0.3471\n",
      "Epoch 58/200\n",
      "521/581 [=========================>....] - ETA: 0s - loss: 0.2822 - mae: 0.3610 - mse: 0.2822\n",
      "Epoch 58: val_mse improved from 0.33908 to 0.33568, saving model to nn_results/ay250_nn_2022-04-04T19:17.h5\n",
      "581/581 [==============================] - 0s 628us/step - loss: 0.2825 - mae: 0.3614 - mse: 0.2825 - val_loss: 0.3357 - val_mae: 0.3828 - val_mse: 0.3357\n",
      "Epoch 59/200\n",
      "548/581 [===========================>..] - ETA: 0s - loss: 0.2827 - mae: 0.3616 - mse: 0.2827\n",
      "Epoch 59: val_mse did not improve from 0.33568\n",
      "581/581 [==============================] - 0s 592us/step - loss: 0.2817 - mae: 0.3614 - mse: 0.2817 - val_loss: 0.3419 - val_mae: 0.3873 - val_mse: 0.3419\n",
      "Epoch 60/200\n",
      "533/581 [==========================>...] - ETA: 0s - loss: 0.2814 - mae: 0.3608 - mse: 0.2814\n",
      "Epoch 60: val_mse did not improve from 0.33568\n",
      "581/581 [==============================] - 0s 612us/step - loss: 0.2802 - mae: 0.3602 - mse: 0.2802 - val_loss: 0.3405 - val_mae: 0.3911 - val_mse: 0.3405\n",
      "Epoch 61/200\n",
      "544/581 [===========================>..] - ETA: 0s - loss: 0.2803 - mae: 0.3611 - mse: 0.2803\n",
      "Epoch 61: val_mse improved from 0.33568 to 0.33246, saving model to nn_results/ay250_nn_2022-04-04T19:17.h5\n",
      "581/581 [==============================] - 0s 606us/step - loss: 0.2808 - mae: 0.3614 - mse: 0.2808 - val_loss: 0.3325 - val_mae: 0.3874 - val_mse: 0.3325\n",
      "Epoch 62/200\n",
      "535/581 [==========================>...] - ETA: 0s - loss: 0.2818 - mae: 0.3621 - mse: 0.2818\n",
      "Epoch 62: val_mse did not improve from 0.33246\n",
      "581/581 [==============================] - 0s 602us/step - loss: 0.2805 - mae: 0.3608 - mse: 0.2805 - val_loss: 0.3356 - val_mae: 0.3823 - val_mse: 0.3356\n",
      "Epoch 63/200\n",
      "529/581 [==========================>...] - ETA: 0s - loss: 0.2764 - mae: 0.3589 - mse: 0.2764\n",
      "Epoch 63: val_mse did not improve from 0.33246\n",
      "581/581 [==============================] - 0s 609us/step - loss: 0.2789 - mae: 0.3594 - mse: 0.2789 - val_loss: 0.3522 - val_mae: 0.3951 - val_mse: 0.3522\n",
      "Epoch 64/200\n",
      "546/581 [===========================>..] - ETA: 0s - loss: 0.2762 - mae: 0.3583 - mse: 0.2762\n",
      "Epoch 64: val_mse did not improve from 0.33246\n",
      "581/581 [==============================] - 0s 587us/step - loss: 0.2763 - mae: 0.3578 - mse: 0.2763 - val_loss: 0.3379 - val_mae: 0.3857 - val_mse: 0.3379\n",
      "Epoch 65/200\n",
      "545/581 [===========================>..] - ETA: 0s - loss: 0.2803 - mae: 0.3602 - mse: 0.2803\n",
      "Epoch 65: val_mse did not improve from 0.33246\n",
      "581/581 [==============================] - 0s 587us/step - loss: 0.2795 - mae: 0.3600 - mse: 0.2795 - val_loss: 0.3354 - val_mae: 0.3835 - val_mse: 0.3354\n",
      "Epoch 66/200\n",
      "541/581 [==========================>...] - ETA: 0s - loss: 0.2788 - mae: 0.3589 - mse: 0.2788\n",
      "Epoch 66: val_mse did not improve from 0.33246\n",
      "581/581 [==============================] - 0s 599us/step - loss: 0.2789 - mae: 0.3589 - mse: 0.2789 - val_loss: 0.3375 - val_mae: 0.3817 - val_mse: 0.3375\n",
      "Epoch 67/200\n",
      "536/581 [==========================>...] - ETA: 0s - loss: 0.2779 - mae: 0.3585 - mse: 0.2779\n",
      "Epoch 67: val_mse did not improve from 0.33246\n",
      "581/581 [==============================] - 0s 605us/step - loss: 0.2770 - mae: 0.3577 - mse: 0.2770 - val_loss: 0.3530 - val_mae: 0.3946 - val_mse: 0.3530\n",
      "Epoch 68/200\n",
      "505/581 [=========================>....] - ETA: 0s - loss: 0.2772 - mae: 0.3580 - mse: 0.2772\n",
      "Epoch 68: val_mse did not improve from 0.33246\n",
      "581/581 [==============================] - 0s 634us/step - loss: 0.2791 - mae: 0.3586 - mse: 0.2791 - val_loss: 0.3468 - val_mae: 0.3949 - val_mse: 0.3468\n",
      "Epoch 69/200\n",
      "531/581 [==========================>...] - ETA: 0s - loss: 0.2788 - mae: 0.3593 - mse: 0.2788\n",
      "Epoch 69: val_mse did not improve from 0.33246\n",
      "581/581 [==============================] - 0s 604us/step - loss: 0.2761 - mae: 0.3575 - mse: 0.2761 - val_loss: 0.3507 - val_mae: 0.3924 - val_mse: 0.3507\n",
      "Epoch 70/200\n",
      "529/581 [==========================>...] - ETA: 0s - loss: 0.2742 - mae: 0.3555 - mse: 0.2742\n",
      "Epoch 70: val_mse did not improve from 0.33246\n",
      "581/581 [==============================] - 0s 610us/step - loss: 0.2752 - mae: 0.3563 - mse: 0.2752 - val_loss: 0.3516 - val_mae: 0.3969 - val_mse: 0.3516\n",
      "Epoch 71/200\n",
      "535/581 [==========================>...] - ETA: 0s - loss: 0.2781 - mae: 0.3584 - mse: 0.2781\n",
      "Epoch 71: val_mse did not improve from 0.33246\n",
      "581/581 [==============================] - 0s 604us/step - loss: 0.2761 - mae: 0.3573 - mse: 0.2761 - val_loss: 0.3389 - val_mae: 0.3845 - val_mse: 0.3389\n",
      "Epoch 71: early stopping\n"
     ]
    }
   ],
   "source": [
    "history = model.fit(x=train_X, y=train_y,\n",
    "               epochs=num_epochs,\n",
    "               validation_data=(valid_X, valid_y),\n",
    "               verbose=1, shuffle=True,\n",
    "               callbacks=[csv_logger, earlystop, model_check, tb])"
   ]
  },
  {
   "cell_type": "code",
   "execution_count": 22,
   "metadata": {},
   "outputs": [
    {
     "name": "stdout",
     "output_type": "stream",
     "text": [
      "ay250_nn_2022-04-04T17:54.h5  training_2022-04-04T17:54.log\r\n",
      "ay250_nn_2022-04-04T19:17.h5  training_2022-04-04T19:17.log\r\n",
      "\u001b[1m\u001b[36mtrain\u001b[m\u001b[m                         \u001b[1m\u001b[36mvalidation\u001b[m\u001b[m\r\n"
     ]
    }
   ],
   "source": [
    "!ls nn_results/"
   ]
  },
  {
   "cell_type": "markdown",
   "metadata": {},
   "source": [
    "Let's look at the history of the training results:"
   ]
  },
  {
   "cell_type": "code",
   "execution_count": 23,
   "metadata": {},
   "outputs": [
    {
     "data": {
      "text/html": [
       "<div>\n",
       "<style scoped>\n",
       "    .dataframe tbody tr th:only-of-type {\n",
       "        vertical-align: middle;\n",
       "    }\n",
       "\n",
       "    .dataframe tbody tr th {\n",
       "        vertical-align: top;\n",
       "    }\n",
       "\n",
       "    .dataframe thead th {\n",
       "        text-align: right;\n",
       "    }\n",
       "</style>\n",
       "<table border=\"1\" class=\"dataframe\">\n",
       "  <thead>\n",
       "    <tr style=\"text-align: right;\">\n",
       "      <th></th>\n",
       "      <th>epoch</th>\n",
       "      <th>loss</th>\n",
       "      <th>mae</th>\n",
       "      <th>mse</th>\n",
       "      <th>val_loss</th>\n",
       "      <th>val_mae</th>\n",
       "      <th>val_mse</th>\n",
       "    </tr>\n",
       "  </thead>\n",
       "  <tbody>\n",
       "    <tr>\n",
       "      <th>0</th>\n",
       "      <td>0</td>\n",
       "      <td>1.161940</td>\n",
       "      <td>0.730839</td>\n",
       "      <td>1.161940</td>\n",
       "      <td>0.489938</td>\n",
       "      <td>0.502066</td>\n",
       "      <td>0.489938</td>\n",
       "    </tr>\n",
       "    <tr>\n",
       "      <th>1</th>\n",
       "      <td>1</td>\n",
       "      <td>0.428634</td>\n",
       "      <td>0.465961</td>\n",
       "      <td>0.428634</td>\n",
       "      <td>0.474887</td>\n",
       "      <td>0.483683</td>\n",
       "      <td>0.474887</td>\n",
       "    </tr>\n",
       "    <tr>\n",
       "      <th>2</th>\n",
       "      <td>2</td>\n",
       "      <td>0.414049</td>\n",
       "      <td>0.455386</td>\n",
       "      <td>0.414049</td>\n",
       "      <td>0.469793</td>\n",
       "      <td>0.484370</td>\n",
       "      <td>0.469793</td>\n",
       "    </tr>\n",
       "    <tr>\n",
       "      <th>3</th>\n",
       "      <td>3</td>\n",
       "      <td>0.405055</td>\n",
       "      <td>0.448723</td>\n",
       "      <td>0.405055</td>\n",
       "      <td>0.472569</td>\n",
       "      <td>0.498850</td>\n",
       "      <td>0.472569</td>\n",
       "    </tr>\n",
       "    <tr>\n",
       "      <th>4</th>\n",
       "      <td>4</td>\n",
       "      <td>0.396744</td>\n",
       "      <td>0.444583</td>\n",
       "      <td>0.396744</td>\n",
       "      <td>0.466027</td>\n",
       "      <td>0.478992</td>\n",
       "      <td>0.466027</td>\n",
       "    </tr>\n",
       "    <tr>\n",
       "      <th>...</th>\n",
       "      <td>...</td>\n",
       "      <td>...</td>\n",
       "      <td>...</td>\n",
       "      <td>...</td>\n",
       "      <td>...</td>\n",
       "      <td>...</td>\n",
       "      <td>...</td>\n",
       "    </tr>\n",
       "    <tr>\n",
       "      <th>66</th>\n",
       "      <td>66</td>\n",
       "      <td>0.276980</td>\n",
       "      <td>0.357711</td>\n",
       "      <td>0.276980</td>\n",
       "      <td>0.352955</td>\n",
       "      <td>0.394606</td>\n",
       "      <td>0.352955</td>\n",
       "    </tr>\n",
       "    <tr>\n",
       "      <th>67</th>\n",
       "      <td>67</td>\n",
       "      <td>0.279135</td>\n",
       "      <td>0.358601</td>\n",
       "      <td>0.279135</td>\n",
       "      <td>0.346788</td>\n",
       "      <td>0.394877</td>\n",
       "      <td>0.346788</td>\n",
       "    </tr>\n",
       "    <tr>\n",
       "      <th>68</th>\n",
       "      <td>68</td>\n",
       "      <td>0.276105</td>\n",
       "      <td>0.357476</td>\n",
       "      <td>0.276105</td>\n",
       "      <td>0.350654</td>\n",
       "      <td>0.392405</td>\n",
       "      <td>0.350654</td>\n",
       "    </tr>\n",
       "    <tr>\n",
       "      <th>69</th>\n",
       "      <td>69</td>\n",
       "      <td>0.275213</td>\n",
       "      <td>0.356326</td>\n",
       "      <td>0.275213</td>\n",
       "      <td>0.351634</td>\n",
       "      <td>0.396940</td>\n",
       "      <td>0.351634</td>\n",
       "    </tr>\n",
       "    <tr>\n",
       "      <th>70</th>\n",
       "      <td>70</td>\n",
       "      <td>0.276081</td>\n",
       "      <td>0.357307</td>\n",
       "      <td>0.276081</td>\n",
       "      <td>0.338898</td>\n",
       "      <td>0.384540</td>\n",
       "      <td>0.338898</td>\n",
       "    </tr>\n",
       "  </tbody>\n",
       "</table>\n",
       "<p>71 rows × 7 columns</p>\n",
       "</div>"
      ],
      "text/plain": [
       "    epoch      loss       mae       mse  val_loss   val_mae   val_mse\n",
       "0       0  1.161940  0.730839  1.161940  0.489938  0.502066  0.489938\n",
       "1       1  0.428634  0.465961  0.428634  0.474887  0.483683  0.474887\n",
       "2       2  0.414049  0.455386  0.414049  0.469793  0.484370  0.469793\n",
       "3       3  0.405055  0.448723  0.405055  0.472569  0.498850  0.472569\n",
       "4       4  0.396744  0.444583  0.396744  0.466027  0.478992  0.466027\n",
       "..    ...       ...       ...       ...       ...       ...       ...\n",
       "66     66  0.276980  0.357711  0.276980  0.352955  0.394606  0.352955\n",
       "67     67  0.279135  0.358601  0.279135  0.346788  0.394877  0.346788\n",
       "68     68  0.276105  0.357476  0.276105  0.350654  0.392405  0.350654\n",
       "69     69  0.275213  0.356326  0.275213  0.351634  0.396940  0.351634\n",
       "70     70  0.276081  0.357307  0.276081  0.338898  0.384540  0.338898\n",
       "\n",
       "[71 rows x 7 columns]"
      ]
     },
     "execution_count": 23,
     "metadata": {},
     "output_type": "execute_result"
    }
   ],
   "source": [
    "lastest_log_file = !ls -t1 nn_results/training* | head -1\n",
    "hist_df = pd.read_csv(lastest_log_file[0])\n",
    "hist_df"
   ]
  },
  {
   "cell_type": "markdown",
   "metadata": {},
   "source": [
    "This is also available in the return value from `.fit`:"
   ]
  },
  {
   "cell_type": "code",
   "execution_count": 24,
   "metadata": {},
   "outputs": [
    {
     "data": {
      "text/plain": [
       "dict_keys(['loss', 'mae', 'mse', 'val_loss', 'val_mae', 'val_mse'])"
      ]
     },
     "execution_count": 24,
     "metadata": {},
     "output_type": "execute_result"
    }
   ],
   "source": [
    "history.history.keys()"
   ]
  },
  {
   "cell_type": "code",
   "execution_count": 25,
   "metadata": {},
   "outputs": [
    {
     "data": {
      "text/plain": [
       "<matplotlib.legend.Legend at 0x2a28afd90>"
      ]
     },
     "execution_count": 25,
     "metadata": {},
     "output_type": "execute_result"
    },
    {
     "data": {
      "image/png": "[encoded data removed]",
      "text/plain": [
       "<Figure size 504x432 with 1 Axes>"
      ]
     },
     "metadata": {
      "needs_background": "light"
     },
     "output_type": "display_data"
    }
   ],
   "source": [
    "import seaborn as sns\n",
    "sns.set_context(\"poster\")\n",
    "plt.figure(figsize=(7,6))\n",
    "plt.title(\"Training History\")\n",
    "plt.plot(hist_df.index + 1,hist_df[\"val_mse\"] ,alpha=0.4, label=\"validation\")\n",
    "plt.plot(hist_df.index + 1,hist_df[\"mse\"] ,alpha=0.4, label=\"training\")\n",
    "\n",
    "plt.xlabel(\"Epoch\")\n",
    "plt.ylabel(\"Loss (MSE)\")\n",
    "plt.loglog()\n",
    "plt.legend()"
   ]
  },
  {
   "cell_type": "markdown",
   "metadata": {},
   "source": [
    "Let's take a look at the predictions on the test set"
   ]
  },
  {
   "cell_type": "code",
   "execution_count": 26,
   "metadata": {},
   "outputs": [
    {
     "name": "stdout",
     "output_type": "stream",
     "text": [
      "ay250_nn_2022-04-04T17:54.h5  training_2022-04-04T17:54.log\r\n",
      "\u001b[1m\u001b[36mtrain\u001b[m\u001b[m                         \u001b[1m\u001b[36mvalidation\u001b[m\u001b[m\r\n"
     ]
    }
   ],
   "source": [
    "!ls nn_results"
   ]
  },
  {
   "cell_type": "code",
   "execution_count": null,
   "metadata": {},
   "outputs": [],
   "source": [
    "#!pip install 'h5py==2.10.0' --force-reinstall"
   ]
  },
  {
   "cell_type": "code",
   "execution_count": 26,
   "metadata": {},
   "outputs": [],
   "source": [
    "# reload the best model\n",
    "from tensorflow.keras.models import load_model\n",
    "import tensorflow as tf\n",
    "\n",
    "model = load_model(\"nn_results/ay250_nn_2022-04-04T19:17.h5\")"
   ]
  },
  {
   "cell_type": "code",
   "execution_count": 27,
   "metadata": {},
   "outputs": [
    {
     "data": {
      "text/plain": [
       "array([[2.2216864 ],\n",
       "       [0.85954016],\n",
       "       [1.5983793 ],\n",
       "       ...,\n",
       "       [1.3001375 ],\n",
       "       [1.8034052 ],\n",
       "       [3.6975365 ]], dtype=float32)"
      ]
     },
     "execution_count": 27,
     "metadata": {},
     "output_type": "execute_result"
    }
   ],
   "source": [
    "pred_y = model.predict(test_X)\n",
    "pred_y"
   ]
  },
  {
   "cell_type": "code",
   "execution_count": 28,
   "metadata": {},
   "outputs": [
    {
     "name": "stdout",
     "output_type": "stream",
     "text": [
      "MSE 0.2287700070557135\n"
     ]
    },
    {
     "data": {
      "text/plain": [
       "[<matplotlib.lines.Line2D at 0x2a3662160>]"
      ]
     },
     "execution_count": 28,
     "metadata": {},
     "output_type": "execute_result"
    },
    {
     "data": {
      "image/png": "[encoded data removed]",
      "text/plain": [
       "<Figure size 720x432 with 1 Axes>"
      ]
     },
     "metadata": {
      "needs_background": "light"
     },
     "output_type": "display_data"
    }
   ],
   "source": [
    "# how well did we do?\n",
    "import numpy as np\n",
    "from sklearn.metrics import mean_squared_error\n",
    "mse = mean_squared_error(test_y, pred_y[:,0]); print(\"MSE\",mse)\n",
    "\n",
    "plt.figure(figsize=(10,6))\n",
    "plt.title(\"NN Regression Residuals - MSE = %.3f\" % mse)\n",
    "plt.scatter(test_y,pred_y[:,0] ,alpha=0.4,s=3)\n",
    "plt.xlabel(\"Test Y\")\n",
    "plt.ylabel(\"Predicted Y\")\n",
    "plt.plot([0.2,5],[0.2,5],c=\"r\")"
   ]
  },
  {
   "cell_type": "markdown",
   "metadata": {},
   "source": [
    "How did we do compared to the validation and training data?"
   ]
  },
  {
   "cell_type": "markdown",
   "metadata": {},
   "source": [
    "If you're interested in hyperparameter optimization, you could try out Weights & Biases for Keras (https://wandb.ai/site/articles/intro-to-keras-with-weights-biases)."
   ]
  },
  {
   "cell_type": "markdown",
   "metadata": {},
   "source": [
    "## Aside: Training on a GPU (on Colab)"
   ]
  },
  {
   "cell_type": "code",
   "execution_count": null,
   "metadata": {},
   "outputs": [],
   "source": [
    "import tensorflow as tf\n",
    "device_name = tf.test.gpu_device_name()\n",
    "if device_name != '/device:GPU:0':\n",
    "    print('GPU device not found')\n",
    "    has_gpu = False\n",
    "else:\n",
    "    print('Found GPU at: {}'.format(device_name))\n",
    "    has_gpu = True"
   ]
  },
  {
   "cell_type": "markdown",
   "metadata": {},
   "source": [
    "Build, compile, and fit the model within the GPU context:\n",
    "```python\n",
    "with tf.device('/device:GPU:0'):\n",
    "  model = Sequential()\n",
    "  model.add(Dense(32, input_shape=(num_input_features,), \n",
    "                    activation=\"relu\", kernel_initializer='random_uniform'))\n",
    "  ...\n",
    "  model.compile(optimizer='adam', loss='mean_squared_error',  metrics=['mae',\"mse\"])\n",
    "  \n",
    "  history = model.fit(x=train_X, y=train_y,\n",
    "               epochs=num_epochs,\n",
    "               validation_data=(valid_X, valid_y),\n",
    "               verbose=1, shuffle=True,\n",
    "               callbacks=[csv_logger, earlystop, model_check, tb])\n",
    "```\n",
    "\n",
    "To use the TPU (way overkill for this project) see https://colab.research.google.com/github/tensorflow/tpu/blob/master/tools/colab/fashion_mnist.ipynb"
   ]
  },
  {
   "cell_type": "code",
   "execution_count": null,
   "metadata": {},
   "outputs": [],
   "source": [
    "#!pip install watermark"
   ]
  },
  {
   "cell_type": "code",
   "execution_count": null,
   "metadata": {},
   "outputs": [],
   "source": [
    "%load_ext watermark"
   ]
  },
  {
   "cell_type": "code",
   "execution_count": 34,
   "metadata": {},
   "outputs": [
    {
     "name": "stdout",
     "output_type": "stream",
     "text": [
      "numpy     : 1.20.3\n",
      "autopep8  : 1.6.0\n",
      "sklearn   : 0.0\n",
      "seaborn   : 0.11.2\n",
      "json      : 2.0.9\n",
      "matplotlib: 3.5.1\n",
      "tensorflow: 2.8.0\n",
      "keras     : 2.8.0\n",
      "pandas    : 1.3.5\n",
      "\n"
     ]
    }
   ],
   "source": [
    "%watermark --iversions"
   ]
  },
  {
   "cell_type": "code",
   "execution_count": null,
   "metadata": {},
   "outputs": [],
   "source": []
  }
 ],
 "metadata": {
  "kernelspec": {
   "display_name": "Python 3",
   "language": "python",
   "name": "python3"
  },
  "language_info": {
   "codemirror_mode": {
    "name": "ipython",
    "version": 3
   },
   "file_extension": ".py",
   "mimetype": "text/x-python",
   "name": "python",
   "nbconvert_exporter": "python",
   "pygments_lexer": "ipython3",
   "version": "3.8.13"
  },
  "toc": {
   "base_numbering": 1,
   "nav_menu": {},
   "number_sections": true,
   "sideBar": true,
   "skip_h1_title": false,
   "title_cell": "Table of Contents",
   "title_sidebar": "Contents",
   "toc_cell": false,
   "toc_position": {},
   "toc_section_display": true,
   "toc_window_display": false
  },
  "varInspector": {
   "cols": {
    "lenName": 16,
    "lenType": 16,
    "lenVar": 40
   },
   "kernels_config": {
    "python": {
     "delete_cmd_postfix": "",
     "delete_cmd_prefix": "del ",
     "library": "var_list.py",
     "varRefreshCmd": "print(var_dic_list())"
    },
    "r": {
     "delete_cmd_postfix": ") ",
     "delete_cmd_prefix": "rm(",
     "library": "var_list.r",
     "varRefreshCmd": "cat(var_dic_list()) "
    }
   },
   "types_to_exclude": [
    "module",
    "function",
    "builtin_function_or_method",
    "instance",
    "_Feature"
   ],
   "window_display": false
  }
 },
 "nbformat": 4,
 "nbformat_minor": 2
}
