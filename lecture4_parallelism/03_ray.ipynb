{
 "cells": [
  {
   "cell_type": "markdown",
   "id": "hollow-dining",
   "metadata": {},
   "source": [
    "<img src=\"https://github.com/ray-project/ray/raw/master/doc/source/images/ray_header_logo.png\">\n",
    "\n",
    "Ray provides a simple, universal API for building distributed applications.\n",
    "\n",
    "  * Providing simple primitives for building and running distributed applications.\n",
    "  * Enabling end users to parallelize single machine code, with little to zero code changes.\n",
    "  * Including a large ecosystem of applications, libraries, and tools on top of the core Ray to enable complex applications.\n",
    "\n",
    "https://docs.ray.io/en/latest/using-ray.html"
   ]
  },
  {
   "cell_type": "code",
   "execution_count": 3,
   "id": "caroline-cathedral",
   "metadata": {},
   "outputs": [],
   "source": [
    "#!pip install -U \"ray[default]\""
   ]
  },
  {
   "cell_type": "markdown",
   "id": "moved-flavor",
   "metadata": {},
   "source": [
    "Ray programs are able to parallelize and distribute by leveraging an underlying Ray runtime. The Ray runtime consists of multiple services/processes started in the background for communication, data transfer, scheduling, and more. The Ray runtime can be started on a laptop, a single server, or multiple servers.\n",
    "\n",
    "We start it here with `ray.init()` and stop the runtime with `ray.shutdown()`. Calling `ray.init()` (without any address args) starts a Ray runtime on your laptop/machine. "
   ]
  },
  {
   "cell_type": "code",
   "execution_count": 18,
   "id": "unsigned-carroll",
   "metadata": {},
   "outputs": [
    {
     "name": "stderr",
     "output_type": "stream",
     "text": [
      "2022-02-11 15:54:16,382\tINFO services.py:1374 -- View the Ray dashboard at \u001b[1m\u001b[32mhttp://127.0.0.1:8266\u001b[39m\u001b[22m\n"
     ]
    },
    {
     "name": "stdout",
     "output_type": "stream",
     "text": [
      "Ray is up\n"
     ]
    }
   ],
   "source": [
    "import ray\n",
    "\n",
    "# Start Ray. If you're connecting to an existing cluster, you would use\n",
    "# ray.init(address=<cluster-address>) instead.\n",
    "ray.init(num_cpus=4, num_gpus=0)\n",
    "\n",
    "print(f'Ray is {\"up\" if ray.is_initialized() else \"down\"}')"
   ]
  },
  {
   "cell_type": "markdown",
   "id": "divine-minutes",
   "metadata": {},
   "source": [
    "Note: If you need to debug your Ray program, it may be easier to do everything on a single process. You can force all Ray functions to occur on a single process by enabling local mode: `ray.init(local_mode=True)`"
   ]
  },
  {
   "cell_type": "code",
   "execution_count": 19,
   "id": "regular-ecuador",
   "metadata": {},
   "outputs": [
    {
     "name": "stdout",
     "output_type": "stream",
     "text": [
      "[0, 1, 4, 9]\n"
     ]
    }
   ],
   "source": [
    "# By adding the `@ray.remote` decorator, a regular Python function\n",
    "# becomes a Ray remote function.\n",
    "@ray.remote\n",
    "def f(x):\n",
    "    return x * x\n",
    "\n",
    "# our function has a remote method now...\n",
    "futures = [f.remote(i) for i in range(4)]\n",
    "print(ray.get(futures)) # [0, 1, 4, 9]"
   ]
  },
  {
   "cell_type": "code",
   "execution_count": 17,
   "id": "opening-hawaii",
   "metadata": {},
   "outputs": [
    {
     "name": "stdout",
     "output_type": "stream",
     "text": [
      "Ray is down\n"
     ]
    }
   ],
   "source": [
    "ray.shutdown()\n",
    "print(f'Ray is {\"up\" if ray.is_initialized() else \"down\"}')"
   ]
  },
  {
   "cell_type": "markdown",
   "id": "announced-lover",
   "metadata": {},
   "source": [
    "Ray Actors: An actor is essentially a stateful worker (or a service). "
   ]
  },
  {
   "cell_type": "code",
   "execution_count": 1,
   "id": "abandoned-horse",
   "metadata": {},
   "outputs": [
    {
     "name": "stderr",
     "output_type": "stream",
     "text": [
      "2022-02-11 16:20:57,302\tINFO services.py:1374 -- View the Ray dashboard at \u001b[1m\u001b[32mhttp://127.0.0.1:8265\u001b[39m\u001b[22m\n"
     ]
    },
    {
     "name": "stdout",
     "output_type": "stream",
     "text": [
      "['Oski growls.', 'Yogi growls.']\n"
     ]
    }
   ],
   "source": [
    "import ray\n",
    "\n",
    "if not ray.is_initialized():\n",
    "    ray.init(num_cpus=4)\n",
    "\n",
    "@ray.remote\n",
    "class Bears:\n",
    "    \n",
    "    def __init__(self, name):\n",
    "        self.name = name\n",
    "        \n",
    "    def growl(self):\n",
    "        return(f\"{self.name} growls.\")\n",
    "\n",
    "bears_list = [Bears.remote(\"Oski\"), Bears.remote(\"Yogi\")]\n",
    "futures = [bear.growl.remote() for bear in bears_list]\n",
    "print(ray.get(futures))"
   ]
  },
  {
   "cell_type": "markdown",
   "id": "innocent-attitude",
   "metadata": {},
   "source": [
    "Asyncio for Actors: https://docs.ray.io/en/latest/async_api.html#async-actors"
   ]
  },
  {
   "cell_type": "code",
   "execution_count": 2,
   "id": "filled-volunteer",
   "metadata": {},
   "outputs": [
    {
     "name": "stdout",
     "output_type": "stream",
     "text": [
      "[1, 4, 9, 16]\n"
     ]
    }
   ],
   "source": [
    "from ray.util import ActorPool\n",
    "\n",
    "@ray.remote\n",
    "class Actor:\n",
    "\n",
    "    def square_it(self, n):\n",
    "        return n ** 2\n",
    "\n",
    "a1, a2 = Actor.remote(), Actor.remote()\n",
    "pool = ActorPool([a1, a2])\n",
    "\n",
    "# pool.map(..) returns a Python generator object ActorPool.map\n",
    "gen = pool.map(lambda a, v: a.square_it.remote(v), [1, 2, 3, 4])\n",
    "print([v for v in gen])"
   ]
  },
  {
   "cell_type": "code",
   "execution_count": null,
   "id": "wicked-bundle",
   "metadata": {},
   "outputs": [],
   "source": []
  }
 ],
 "metadata": {
  "kernelspec": {
   "display_name": "py3.9 AY250",
   "language": "python",
   "name": "ay250"
  },
  "language_info": {
   "codemirror_mode": {
    "name": "ipython",
    "version": 3
   },
   "file_extension": ".py",
   "mimetype": "text/x-python",
   "name": "python",
   "nbconvert_exporter": "python",
   "pygments_lexer": "ipython3",
   "version": "3.9.9"
  },
  "toc": {
   "base_numbering": 1,
   "nav_menu": {},
   "number_sections": true,
   "sideBar": true,
   "skip_h1_title": false,
   "title_cell": "Table of Contents",
   "title_sidebar": "Contents",
   "toc_cell": false,
   "toc_position": {},
   "toc_section_display": true,
   "toc_window_display": false
  },
  "varInspector": {
   "cols": {
    "lenName": 16,
    "lenType": 16,
    "lenVar": 40
   },
   "kernels_config": {
    "python": {
     "delete_cmd_postfix": "",
     "delete_cmd_prefix": "del ",
     "library": "var_list.py",
     "varRefreshCmd": "print(var_dic_list())"
    },
    "r": {
     "delete_cmd_postfix": ") ",
     "delete_cmd_prefix": "rm(",
     "library": "var_list.r",
     "varRefreshCmd": "cat(var_dic_list()) "
    }
   },
   "types_to_exclude": [
    "module",
    "function",
    "builtin_function_or_method",
    "instance",
    "_Feature"
   ],
   "window_display": false
  }
 },
 "nbformat": 4,
 "nbformat_minor": 5
}
