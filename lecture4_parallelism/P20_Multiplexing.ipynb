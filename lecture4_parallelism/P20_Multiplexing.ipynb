{
 "cells": [
  {
   "cell_type": "markdown",
   "metadata": {},
   "source": [
    "# DirectView as multiplexer"
   ]
  },
  {
   "cell_type": "code",
   "execution_count": 1,
   "metadata": {},
   "outputs": [],
   "source": [
    "from IPython.display import display\n",
    "from ipyparallel import Client\n",
    "rc = Client()"
   ]
  },
  {
   "cell_type": "markdown",
   "metadata": {},
   "source": [
    "The DirectView can be readily understood as an Engine Multiplexer -\n",
    "it does the same thing on all of its engines.\n",
    "\n",
    "The only difference between running code on a single remote engine\n",
    "and running code in parallel is how many engines the DirectView is\n",
    "instructed to use.\n",
    "\n",
    "You can create DirectViews by index-access to the Client.  This creates\n",
    "a DirectView using the engines after passing the same index (or slice)\n",
    "to the `ids` list."
   ]
  },
  {
   "cell_type": "code",
   "execution_count": 2,
   "metadata": {},
   "outputs": [],
   "source": [
    "e0 = rc[0]\n",
    "eall = rc[:]\n",
    "even = rc[::2]\n",
    "odd = rc[1::2]\n",
    "\n",
    "# this is the one we are going to use:\n",
    "dview = eall\n",
    "dview.block = True"
   ]
  },
  {
   "cell_type": "markdown",
   "metadata": {},
   "source": [
    "Now, the only difference from single-engine remote execution is that the code we run happens on all of the engines of a given view:"
   ]
  },
  {
   "cell_type": "code",
   "execution_count": 3,
   "metadata": {},
   "outputs": [
    {
     "name": "stdout",
     "output_type": "stream",
     "text": [
      "<DirectView 0> 11797\n",
      "<DirectView [0, 1, 2, 3]> [11797, 11798, 11796, 11799]\n",
      "<DirectView [0, 2]> [11797, 11796]\n",
      "<DirectView [1, 3]> [11798, 11799]\n"
     ]
    }
   ],
   "source": [
    "import os\n",
    "for view in (e0, eall, even, odd):\n",
    "    print(view, view.apply_sync(os.getpid))"
   ]
  },
  {
   "cell_type": "markdown",
   "metadata": {},
   "source": [
    "The results of multiplexed execution is always a list of the length of the number of engines."
   ]
  },
  {
   "cell_type": "code",
   "execution_count": 4,
   "metadata": {},
   "outputs": [
    {
     "data": {
      "text/plain": [
       "[5, 5, 5, 5]"
      ]
     },
     "execution_count": 4,
     "metadata": {},
     "output_type": "execute_result"
    }
   ],
   "source": [
    "dview['a'] = 5\n",
    "dview['a']"
   ]
  },
  {
   "cell_type": "markdown",
   "metadata": {},
   "source": [
    "# Scatter and Gather\n",
    "\n",
    "Lots of parallel computations involve partitioning data onto processes.  \n",
    "DirectViews have `scatter()` and `gather()` methods, to help with this.\n",
    "Pass any container or numpy array, and IPython will partition the object onto the engines wih `scatter`,\n",
    "or reconstruct the full object in the Client with `gather()`."
   ]
  },
  {
   "cell_type": "code",
   "execution_count": 5,
   "metadata": {},
   "outputs": [
    {
     "name": "stdout",
     "output_type": "stream",
     "text": [
      "a in the engines: [array([0, 1, 2, 3]), array([4, 5, 6, 7]), array([ 8,  9, 10, 11]), array([12, 13, 14, 15])]\n",
      "a here: 4\n",
      "len of whole thing: 16\n",
      "[ 0  1  2  3  4  5  6  7  8  9 10 11 12 13 14 15]\n"
     ]
    }
   ],
   "source": [
    "import numpy as np\n",
    "dview.scatter('a',np.arange(16))\n",
    "a = len(dview['a'])\n",
    "\n",
    "print('a in the engines:',dview['a'])\n",
    "print('a here:', a)\n",
    "print('len of whole thing:', len(dview.gather('a')))\n",
    "print(dview.gather('a'))"
   ]
  },
  {
   "cell_type": "code",
   "execution_count": 6,
   "metadata": {},
   "outputs": [
    {
     "data": {
      "text/plain": [
       "array([ 0,  1,  2,  3,  4,  5,  6,  7,  8,  9, 10, 11, 12, 13, 14, 15])"
      ]
     },
     "execution_count": 6,
     "metadata": {},
     "output_type": "execute_result"
    }
   ],
   "source": [
    "e0.block = True\n",
    "e0.scatter('a',np.arange(16))\n",
    "e0['a']"
   ]
  },
  {
   "cell_type": "code",
   "execution_count": 7,
   "metadata": {},
   "outputs": [
    {
     "data": {
      "text/plain": [
       "array([ 0,  1,  2,  3,  4,  5,  6,  7,  8,  9, 10, 11, 12, 13, 14, 15,  4,\n",
       "        5,  6,  7,  8,  9, 10, 11, 12, 13, 14, 15])"
      ]
     },
     "execution_count": 7,
     "metadata": {},
     "output_type": "execute_result"
    }
   ],
   "source": [
    "dview.gather('a')"
   ]
  },
  {
   "cell_type": "code",
   "execution_count": 8,
   "metadata": {},
   "outputs": [
    {
     "data": {
      "text/plain": [
       "[120, 22, 38, 54]"
      ]
     },
     "execution_count": 8,
     "metadata": {},
     "output_type": "execute_result"
    }
   ],
   "source": [
    "dview.execute(\"asum = sum(a)\")\n",
    "dview.gather('asum')"
   ]
  },
  {
   "cell_type": "markdown",
   "metadata": {},
   "source": [
    "The cell magic `%%px` is equivalent to calling `dview.execute()` on an entire cell, with a more convenient syntax:"
   ]
  },
  {
   "cell_type": "code",
   "execution_count": 9,
   "metadata": {},
   "outputs": [],
   "source": [
    "%%px\n",
    "# This entire cell will be executed in all the engines as if we'd called\n",
    "# dview.execute(\"...\") with the contents below.\n",
    "asum2 = 2*sum(a)\n",
    "import numpy as np\n",
    "b = np.random.rand(4)"
   ]
  },
  {
   "cell_type": "markdown",
   "metadata": {},
   "source": [
    "We can now agther"
   ]
  },
  {
   "cell_type": "code",
   "execution_count": 10,
   "metadata": {},
   "outputs": [
    {
     "name": "stdout",
     "output_type": "stream",
     "text": [
      "asum2:\n",
      " [240, 44, 76, 108]\n",
      "b    :\n",
      " [0.16180269 0.21380825 0.69635711 0.07673496 0.54969269 0.72831087\n",
      " 0.70668113 0.67625155 0.06017366 0.37962166 0.38871766 0.23981086\n",
      " 0.27313408 0.81904247 0.58196427 0.03409342]\n"
     ]
    }
   ],
   "source": [
    "print('asum2:\\n', dview.gather('asum2'))\n",
    "print('b    :\\n', dview.gather('b'))"
   ]
  },
  {
   "cell_type": "markdown",
   "metadata": {},
   "source": [
    "With gather and `%%px` we can conveniently break up computation across multiple engines, for example a set of data files that need processing:"
   ]
  },
  {
   "cell_type": "code",
   "execution_count": 11,
   "metadata": {},
   "outputs": [
    {
     "data": {
      "text/plain": [
       "[['one.txt'], ['two.txt'], ['three.txt'], []]"
      ]
     },
     "execution_count": 11,
     "metadata": {},
     "output_type": "execute_result"
    }
   ],
   "source": [
    "files = ['one.txt', 'two.txt', 'three.txt']\n",
    "dview.scatter('files', files)\n",
    "dview['files']"
   ]
  },
  {
   "cell_type": "markdown",
   "metadata": {},
   "source": [
    "Note  how when  we run code with `%%px`, IPython automatically captures and summarizes print output for us from all engines:"
   ]
  },
  {
   "cell_type": "code",
   "execution_count": 12,
   "metadata": {},
   "outputs": [
    {
     "data": {
      "text/plain": [
       "[stdout:1] filename: two.txt\n"
      ]
     },
     "metadata": {},
     "output_type": "display_data"
    },
    {
     "data": {
      "text/plain": [
       "[stdout:0] filename: one.txt\n"
      ]
     },
     "metadata": {},
     "output_type": "display_data"
    },
    {
     "data": {
      "text/plain": [
       "[stdout:2] filename: three.txt\n"
      ]
     },
     "metadata": {},
     "output_type": "display_data"
    }
   ],
   "source": [
    "%%px\n",
    "for file in files:\n",
    "    print('filename:', file)"
   ]
  },
  {
   "cell_type": "markdown",
   "metadata": {},
   "source": [
    "We can pass a 'flatten' keyword,\n",
    "to instruct engines that will only get one item of the list to\n",
    "get the actual item, rather than a one-element sublist:"
   ]
  },
  {
   "cell_type": "code",
   "execution_count": 13,
   "metadata": {},
   "outputs": [
    {
     "data": {
      "text/plain": [
       "[[0], [1], [2], [3]]"
      ]
     },
     "execution_count": 13,
     "metadata": {},
     "output_type": "execute_result"
    }
   ],
   "source": [
    "dview.scatter('id',rc.ids)\n",
    "dview['id']"
   ]
  },
  {
   "cell_type": "code",
   "execution_count": 14,
   "metadata": {},
   "outputs": [
    {
     "data": {
      "text/plain": [
       "[0, 1, 2, 3]"
      ]
     },
     "execution_count": 14,
     "metadata": {},
     "output_type": "execute_result"
    }
   ],
   "source": [
    "dview.scatter('id',rc.ids, flatten=True)\n",
    "dview['id']"
   ]
  },
  {
   "cell_type": "markdown",
   "metadata": {},
   "source": [
    "Scatter and gather also work with numpy arrays"
   ]
  },
  {
   "cell_type": "code",
   "execution_count": 15,
   "metadata": {},
   "outputs": [
    {
     "data": {
      "text/plain": [
       "array([[7, 6, 1, 4],\n",
       "       [9, 5, 9, 6],\n",
       "       [6, 6, 1, 5],\n",
       "       [7, 8, 9, 1],\n",
       "       [8, 4, 4, 1],\n",
       "       [8, 8, 5, 8],\n",
       "       [3, 9, 6, 7],\n",
       "       [6, 9, 6, 5],\n",
       "       [4, 6, 2, 4],\n",
       "       [8, 7, 4, 9],\n",
       "       [7, 9, 6, 2],\n",
       "       [3, 9, 3, 8],\n",
       "       [9, 4, 3, 7],\n",
       "       [3, 1, 4, 1],\n",
       "       [7, 8, 3, 4],\n",
       "       [9, 2, 9, 8]])"
      ]
     },
     "metadata": {},
     "output_type": "display_data"
    },
    {
     "data": {
      "text/plain": [
       "array([[9, 1, 7, 7, 3, 4, 5, 3, 8, 4, 9, 7, 3, 8, 8, 9],\n",
       "       [4, 6, 2, 7, 6, 1, 5, 7, 8, 2, 8, 8, 5, 1, 6, 6],\n",
       "       [6, 7, 8, 8, 1, 1, 9, 2, 6, 2, 6, 2, 7, 6, 1, 2],\n",
       "       [5, 2, 7, 1, 9, 6, 7, 8, 2, 6, 3, 6, 6, 7, 4, 9]])"
      ]
     },
     "metadata": {},
     "output_type": "display_data"
    }
   ],
   "source": [
    "A = np.random.randint(1,10,(16,4))\n",
    "B = np.random.randint(1,10,(4,16))\n",
    "display(A)\n",
    "display(B)"
   ]
  },
  {
   "cell_type": "code",
   "execution_count": 16,
   "metadata": {},
   "outputs": [
    {
     "data": {
      "text/plain": [
       "array([[7, 6, 1, 4],\n",
       "       [9, 5, 9, 6],\n",
       "       [6, 6, 1, 5],\n",
       "       [7, 8, 9, 1]])"
      ]
     },
     "metadata": {},
     "output_type": "display_data"
    },
    {
     "data": {
      "text/plain": [
       "array([[9, 1, 7, 7, 3, 4, 5, 3, 8, 4, 9, 7, 3, 8, 8, 9]])"
      ]
     },
     "metadata": {},
     "output_type": "display_data"
    }
   ],
   "source": [
    "dview.scatter('A', A)\n",
    "dview.scatter('B', B)\n",
    "display(e0['A'])\n",
    "display(e0['B'])"
   ]
  },
  {
   "cell_type": "markdown",
   "metadata": {},
   "source": [
    "# Example: Parallel Matrix Multiply\n",
    "\n",
    "With what we have seen so far, we can write our own (completely terrible!) parallel matrix multiply.\n",
    "\n",
    "* Remember - multiply rows of one by the columns of the other.\n",
    "* easiest implementation involves one each of: push, scatter, execute, gather"
   ]
  },
  {
   "cell_type": "code",
   "execution_count": 19,
   "metadata": {},
   "outputs": [],
   "source": [
    "# %load soln/matmul.py\n",
    "def pdot(v, A, B):\n",
    "    v['B'] = B # push B everywhere\n",
    "    v.scatter('A', A) # scatter A\n",
    "    v.execute('C=A.dot(B)') # compute the dot-product\n",
    "    return v.gather('C', block=True) # gather the resulting sub-arrays\n"
   ]
  },
  {
   "cell_type": "markdown",
   "metadata": {},
   "source": [
    "Let's run this, and validate the result against a local computation."
   ]
  },
  {
   "cell_type": "code",
   "execution_count": 20,
   "metadata": {},
   "outputs": [
    {
     "data": {
      "text/plain": [
       "True"
      ]
     },
     "execution_count": 20,
     "metadata": {},
     "output_type": "execute_result"
    }
   ],
   "source": [
    "C_ref = A.dot(B)\n",
    "C1 = pdot(dview, A, B)\n",
    "# validation:\n",
    "(C1==C_ref).all()"
   ]
  },
  {
   "cell_type": "markdown",
   "metadata": {},
   "source": [
    "# Map\n",
    "\n",
    "DirectViews have a map method, which behaves just like the builtin map,\n",
    "but computed in parallel."
   ]
  },
  {
   "cell_type": "code",
   "execution_count": 21,
   "metadata": {},
   "outputs": [
    {
     "data": {
      "text/plain": [
       "False"
      ]
     },
     "execution_count": 21,
     "metadata": {},
     "output_type": "execute_result"
    }
   ],
   "source": [
    "dview.block = True\n",
    "\n",
    "serial_result   =       map(lambda x:x**10, range(32))\n",
    "parallel_result = dview.map(lambda x:x**10, range(32))\n",
    "\n",
    "serial_result==parallel_result"
   ]
  },
  {
   "cell_type": "markdown",
   "metadata": {},
   "source": [
    "`DirectView.map` partitions the sequences onto each engine,\n",
    "and then calls `map` remotely.  The result is always a single\n",
    "IPython task per engine."
   ]
  },
  {
   "cell_type": "code",
   "execution_count": 22,
   "metadata": {},
   "outputs": [
    {
     "data": {
      "text/plain": [
       "['5d787271-9c5160456c6bb41f49141b0d_122',\n",
       " '5d787271-9c5160456c6bb41f49141b0d_123',\n",
       " '5d787271-9c5160456c6bb41f49141b0d_124',\n",
       " '5d787271-9c5160456c6bb41f49141b0d_125']"
      ]
     },
     "execution_count": 22,
     "metadata": {},
     "output_type": "execute_result"
    }
   ],
   "source": [
    "amr = dview.map_async(lambda x:x**10, range(32))\n",
    "amr.msg_ids"
   ]
  },
  {
   "cell_type": "markdown",
   "metadata": {},
   "source": [
    "We can see this by splitting a larger input range, we still get the same number of message ids (one per task having been created):"
   ]
  },
  {
   "cell_type": "code",
   "execution_count": 23,
   "metadata": {},
   "outputs": [
    {
     "data": {
      "text/plain": [
       "['5d787271-9c5160456c6bb41f49141b0d_126',\n",
       " '5d787271-9c5160456c6bb41f49141b0d_127',\n",
       " '5d787271-9c5160456c6bb41f49141b0d_128',\n",
       " '5d787271-9c5160456c6bb41f49141b0d_129']"
      ]
     },
     "execution_count": 23,
     "metadata": {},
     "output_type": "execute_result"
    }
   ],
   "source": [
    "amr = dview.map_async(lambda x:x**10, range(64))\n",
    "amr.msg_ids"
   ]
  },
  {
   "cell_type": "markdown",
   "metadata": {},
   "source": [
    "### Example: Pi via simple Monte Carlo\n",
    "\n",
    "![Monte Carlo Pi](http://docs.picloud.com/_images/basic_example_monte.png)"
   ]
  },
  {
   "cell_type": "code",
   "execution_count": 24,
   "metadata": {},
   "outputs": [],
   "source": [
    "def sample_circle(n):\n",
    "    import numpy as np\n",
    "    m = 0\n",
    "    for i in range(int(n)):\n",
    "        p = np.random.rand(2)\n",
    "        if sum(p**2.) <= 1.:\n",
    "            m += 1\n",
    "    return m\n",
    "\n",
    "def brute_pi(n):\n",
    "    m = sample_circle(n)\n",
    "    return 4.* m/n\n",
    "\n",
    "def err(npi):\n",
    "    return 100*abs(np.pi-npi)/np.pi"
   ]
  },
  {
   "cell_type": "code",
   "execution_count": 25,
   "metadata": {},
   "outputs": [],
   "source": [
    "n = 5e5"
   ]
  },
  {
   "cell_type": "code",
   "execution_count": 26,
   "metadata": {},
   "outputs": [
    {
     "name": "stdout",
     "output_type": "stream",
     "text": [
      "CPU times: user 2.41 s, sys: 46.7 ms, total: 2.46 s\n",
      "Wall time: 2.65 s\n",
      "\n",
      "Error: 0.06%\n"
     ]
    }
   ],
   "source": [
    "%time bpi = brute_pi(n)\n",
    "print(\"\\nError: %.2f%%\" % err(bpi))"
   ]
  },
  {
   "cell_type": "markdown",
   "metadata": {},
   "source": [
    "**Your homework**\n",
    "\n",
    "Write a function `cluster_pi` that uses the cluster to run the computation in parallel (use `brute_pi` as inspiration)."
   ]
  },
  {
   "cell_type": "code",
   "execution_count": 40,
   "metadata": {},
   "outputs": [
    {
     "name": "stdout",
     "output_type": "stream",
     "text": [
      "CPU times: user 13.1 ms, sys: 2.74 ms, total: 15.8 ms\n",
      "Wall time: 1.49 s\n"
     ]
    }
   ],
   "source": []
  },
  {
   "cell_type": "code",
   "execution_count": null,
   "metadata": {
    "collapsed": true
   },
   "outputs": [],
   "source": []
  }
 ],
 "metadata": {
  "kernelspec": {
   "display_name": "Python 3 (ipykernel)",
   "language": "python",
   "name": "python3"
  },
  "language_info": {
   "codemirror_mode": {
    "name": "ipython",
    "version": 3
   },
   "file_extension": ".py",
   "mimetype": "text/x-python",
   "name": "python",
   "nbconvert_exporter": "python",
   "pygments_lexer": "ipython3",
   "version": "3.9.9"
  },
  "toc": {
   "base_numbering": 1,
   "nav_menu": {},
   "number_sections": true,
   "sideBar": true,
   "skip_h1_title": false,
   "title_cell": "Table of Contents",
   "title_sidebar": "Contents",
   "toc_cell": false,
   "toc_position": {},
   "toc_section_display": true,
   "toc_window_display": false
  },
  "varInspector": {
   "cols": {
    "lenName": 16,
    "lenType": 16,
    "lenVar": 40
   },
   "kernels_config": {
    "python": {
     "delete_cmd_postfix": "",
     "delete_cmd_prefix": "del ",
     "library": "var_list.py",
     "varRefreshCmd": "print(var_dic_list())"
    },
    "r": {
     "delete_cmd_postfix": ") ",
     "delete_cmd_prefix": "rm(",
     "library": "var_list.r",
     "varRefreshCmd": "cat(var_dic_list()) "
    }
   },
   "types_to_exclude": [
    "module",
    "function",
    "builtin_function_or_method",
    "instance",
    "_Feature"
   ],
   "window_display": false
  }
 },
 "nbformat": 4,
 "nbformat_minor": 1
}
