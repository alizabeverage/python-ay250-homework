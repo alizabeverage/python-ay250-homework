{
 "cells": [
  {
   "cell_type": "code",
   "execution_count": null,
   "metadata": {},
   "outputs": [],
   "source": [
    "%run ../../DataFiles_and_Notebooks/talktools.py"
   ]
  },
  {
   "cell_type": "markdown",
   "metadata": {},
   "source": [
    "# Making Python Faster\n",
    "\n",
    "<img src=\"slides/warp1.jpg\">\n",
    "\n",
    "\n",
    "<h2> ... and using legacy code</h2>\n",
    "\n",
    "- we've already seen `numexpr`, parallelization, etc.\n",
    "\n",
    "- Python is _slow_ ... it's interpreted on the fly\n",
    "\n",
    "- no static typing ... even integers are objects (bulky memory!)\n",
    "\n",
    "- what if we want to write Python, but use it as a *glue* to fast C-code?"
   ]
  },
  {
   "cell_type": "markdown",
   "metadata": {},
   "source": [
    "<pre>\n",
    "Premature optimization is the root of all evil \n",
    "   -- Donald Knuth\n",
    "</pre>\n",
    "\n",
    "<pre>\n",
    "C is premature optimization\n",
    "   -- Josh Bloom\n",
    "</pre>\n"
   ]
  },
  {
   "cell_type": "markdown",
   "metadata": {},
   "source": [
    "## Profiling ##"
   ]
  },
  {
   "cell_type": "markdown",
   "metadata": {},
   "source": [
    "You already know that Python comes with batteries include, and performance profiling is no exception.\n",
    "\n",
    "You can keep track of how much time each *function* is taking up using tools from the standard library.\n",
    "\n",
    "Here's the [documentation of `profile` and `cProfile`](http://docs.python.org/3/library/profile.html), but you probably won't need to use them directly.  A profile is a set of statistics that describes how often and for how long various parts of the program executed. These statistics can be formatted into reports via the pstats module."
   ]
  },
  {
   "cell_type": "code",
   "execution_count": null,
   "metadata": {},
   "outputs": [],
   "source": [
    "import cProfile\n",
    "import re\n",
    "cProfile.run('re.compile(\"ay250|berkeley\")') # run a piece of code"
   ]
  },
  {
   "cell_type": "code",
   "execution_count": null,
   "metadata": {},
   "outputs": [],
   "source": [
    "import cProfile, pstats, io\n",
    "pr = cProfile.Profile()\n",
    "pr.enable()\n",
    "\n",
    "# here's the code you want to profile\n",
    "def waste_of_time(n=1000):\n",
    "    [x for x in range(n)]\n",
    "[waste_of_time(y) for y in range(10000)]\n",
    "## end of code you want to profile\n",
    "\n",
    "pr.disable()\n",
    "s = io.StringIO()\n",
    "sortby = 'cumulative'\n",
    "ps = pstats.Stats(pr, stream=s).sort_stats(sortby)\n",
    "ps.print_stats()\n",
    "print(s.getvalue())"
   ]
  },
  {
   "cell_type": "markdown",
   "metadata": {},
   "source": [
    "## There's a magic for that!\n",
    "\n",
    "### `%timeit` to learn how long it takes a chunk of code to run\n",
    "\n",
    "### `%prun` for function-by-function breakdown of code in your namespace\n",
    "\n",
    "### `%run -p` for function-by-function breakdown of running a whole file"
   ]
  },
  {
   "cell_type": "code",
   "execution_count": null,
   "metadata": {},
   "outputs": [],
   "source": [
    "cd demos/profile"
   ]
  },
  {
   "cell_type": "code",
   "execution_count": null,
   "metadata": {},
   "outputs": [],
   "source": [
    "!cat sometask.py"
   ]
  },
  {
   "cell_type": "code",
   "execution_count": null,
   "metadata": {},
   "outputs": [],
   "source": [
    "import sometask"
   ]
  },
  {
   "cell_type": "code",
   "execution_count": null,
   "metadata": {},
   "outputs": [],
   "source": [
    "%prun sometask.execute()"
   ]
  },
  {
   "cell_type": "code",
   "execution_count": null,
   "metadata": {},
   "outputs": [],
   "source": [
    "%run -p sometask.py"
   ]
  },
  {
   "cell_type": "markdown",
   "metadata": {},
   "source": [
    "With the `-D` flag, you can dump the profile to binary file that external tools can use.\n",
    "\n",
    "\n",
    "You  can also produce this .profile without Jupyter using:\n",
    "\n",
    "```bash\n",
    "    python -m cProfile -o sometask.profile sometask.py\n",
    "```"
   ]
  },
  {
   "cell_type": "code",
   "execution_count": null,
   "metadata": {},
   "outputs": [],
   "source": [
    "%run -p -D sometask.profile sometask.py"
   ]
  },
  {
   "cell_type": "code",
   "execution_count": null,
   "metadata": {},
   "outputs": [],
   "source": [
    "!head sometask.profile"
   ]
  },
  {
   "cell_type": "code",
   "execution_count": null,
   "metadata": {},
   "outputs": [],
   "source": [
    "!pip install snakeviz py-heat-magic"
   ]
  },
  {
   "cell_type": "code",
   "execution_count": null,
   "metadata": {},
   "outputs": [],
   "source": [
    "!snakeviz sometask.profile"
   ]
  },
  {
   "cell_type": "code",
   "execution_count": null,
   "metadata": {},
   "outputs": [],
   "source": [
    "%load_ext snakeviz"
   ]
  },
  {
   "cell_type": "code",
   "execution_count": null,
   "metadata": {},
   "outputs": [],
   "source": [
    "%%snakeviz\n",
    "sometask.execute()"
   ]
  },
  {
   "cell_type": "markdown",
   "metadata": {},
   "source": [
    "## Profiling line-by-line\n",
    "\n",
    "    %lprun\n",
    "    \n",
    "This magic is not built into Jupyter, it is provided by the [line_profiler package by Robert Kern](http://pythonhosted.org/line_profiler/)."
   ]
  },
  {
   "cell_type": "code",
   "execution_count": null,
   "metadata": {},
   "outputs": [],
   "source": [
    "#!conda install line_profiler -y"
   ]
  },
  {
   "cell_type": "code",
   "execution_count": null,
   "metadata": {},
   "outputs": [],
   "source": [
    "%load_ext line_profiler"
   ]
  },
  {
   "cell_type": "markdown",
   "metadata": {},
   "source": [
    "Run the code, but only run the line profiler on the function `square()`"
   ]
  },
  {
   "cell_type": "code",
   "execution_count": null,
   "metadata": {},
   "outputs": [],
   "source": [
    "import sometask"
   ]
  },
  {
   "cell_type": "code",
   "execution_count": null,
   "metadata": {},
   "outputs": [],
   "source": [
    "!cat sometask.py"
   ]
  },
  {
   "cell_type": "code",
   "execution_count": null,
   "metadata": {},
   "outputs": [],
   "source": [
    "%lprun -f sometask.square sometask.execute()"
   ]
  },
  {
   "cell_type": "code",
   "execution_count": null,
   "metadata": {},
   "outputs": [],
   "source": [
    "%load_ext heat "
   ]
  },
  {
   "cell_type": "code",
   "execution_count": null,
   "metadata": {},
   "outputs": [],
   "source": [
    "import numpy as np"
   ]
  },
  {
   "cell_type": "code",
   "execution_count": null,
   "metadata": {},
   "outputs": [],
   "source": [
    "%%heat \n",
    "import numpy as np\n",
    "def expensive_square(x):\n",
    "    x = x.copy()\n",
    "    y = x.copy()\n",
    "    for i in range(x.size):\n",
    "        x[i] = x[i] ** 2\n",
    "    \n",
    "    del y\n",
    "    return x\n",
    "\n",
    "def cheap_square(x):\n",
    "    return x**2\n",
    "\n",
    "square = expensive_square\n",
    "square = cheap_square\n",
    "\n",
    "def execute():\n",
    "    print(\"Squaring some numbers...\")\n",
    "    x = np.arange((5000))\n",
    "    y = square(x)\n",
    "    \n",
    "execute()"
   ]
  },
  {
   "cell_type": "markdown",
   "metadata": {},
   "source": [
    "## Profiling memory usage (line-by-line)\n",
    "\n",
    "    %mprun\n",
    "    \n",
    "        \n",
    "This magic is not built into Jupyter, it is provided by the [memory_profiler package by Fabian Pedregosa](https://pypi.python.org/pypi/memory_profiler)."
   ]
  },
  {
   "cell_type": "code",
   "execution_count": null,
   "metadata": {},
   "outputs": [],
   "source": [
    "!pip install  -U memory_profiler"
   ]
  },
  {
   "cell_type": "code",
   "execution_count": null,
   "metadata": {},
   "outputs": [],
   "source": [
    "%load_ext memory_profiler"
   ]
  },
  {
   "cell_type": "code",
   "execution_count": null,
   "metadata": {},
   "outputs": [],
   "source": [
    "%mprun?"
   ]
  },
  {
   "cell_type": "code",
   "execution_count": null,
   "metadata": {},
   "outputs": [],
   "source": [
    "cd demos/profile"
   ]
  },
  {
   "cell_type": "code",
   "execution_count": null,
   "metadata": {},
   "outputs": [],
   "source": [
    "import sometask"
   ]
  },
  {
   "cell_type": "code",
   "execution_count": null,
   "metadata": {},
   "outputs": [],
   "source": [
    "!cat sometask.py"
   ]
  },
  {
   "cell_type": "code",
   "execution_count": null,
   "metadata": {},
   "outputs": [],
   "source": [
    "%mprun -f sometask.square sometask.execute()"
   ]
  },
  {
   "cell_type": "markdown",
   "metadata": {},
   "source": [
    "# Other tools for profiling:\n",
    "\n",
    "[gprof](http://en.wikipedia.org/wiki/Gprof) -- command line profiling tool for C code. [GNU Gprof documentation](https://sourceware.org/binutils/docs/gprof/) is pretty good.\n",
    "\n",
    "[valgrind](http://valgrind.org/docs/manual/cl-manual.html) -- very complex suite for analyzing callgrind and kcachegrind. \"*Valgrind is an instrumentation framework for building dynamic analysis tools. There are Valgrind tools that can automatically detect many memory management and threading bugs, and profile your programs in detail.*\"\n",
    "\n",
    "[memray](https://github.com/bloomberg/memray) track memory allocations in Python code, in native extension modules, and in the Python interpreter itself. It can generate several different types of reports to help you analyze the captured memory usage data. Works on linux."
   ]
  },
  {
   "cell_type": "markdown",
   "metadata": {},
   "source": [
    "[Timing and Profiling in IPython](http://pynash.org/2013/03/06/timing-and-profiling/) : Blogpost at the PyNash"
   ]
  },
  {
   "cell_type": "markdown",
   "metadata": {},
   "source": [
    "Calculate the variance\n",
    "\n",
    "$$\\sigma^2 = \\frac {\\sum_{i=1}^N (x_i - \\sum_{j=1}^N x_j/N)^2}{N - 1}. $$\n",
    "\n",
    "problem here is that you must first pass over all the data (to get the mean) then pass over the data again.  There's a bunch of Pythonic ways to do this. Here's a few..."
   ]
  },
  {
   "cell_type": "code",
   "execution_count": null,
   "metadata": {},
   "outputs": [],
   "source": [
    "#%%writefile var.py\n",
    "def variance(data):\n",
    "    sample_mean = 0.0\n",
    "    \n",
    "    # 1st loop\n",
    "    for x in data:\n",
    "        sample_mean += float(x)\n",
    "    \n",
    "    sample_mean /= len(data)\n",
    "    \n",
    "    # second loop\n",
    "    sum_of_squared_errors = 0.0\n",
    "    for x in data:\n",
    "        sum_of_squared_errors += (float(x) - sample_mean) ** 2\n",
    "    \n",
    "    return sum_of_squared_errors / (float(len(data)) - 1.0)\n",
    "    \n",
    "def variance0(data):\n",
    "    sample_mean = sum(data) / len(data) # loop 1\n",
    "    sum_of_squared_errors = sum((i - sample_mean) ** 2 for i in data) # loop 2\n",
    "    return sum_of_squared_errors / (len(data) - 1)\n",
    "\n",
    "import functools\n",
    "def variance1(data):\n",
    "    mean = float(functools.reduce(lambda x,y : x+y, data)) / len(data)\n",
    "    return functools.reduce(lambda x,y: x+y, map(lambda xi: (xi-mean)**2, data))/ (len(data) - 1)\n",
    "\n",
    "def execute():\n",
    "    variance(range(100000))\n",
    "    \n",
    "def execute1():\n",
    "    variance1(range(100000))"
   ]
  },
  {
   "cell_type": "code",
   "execution_count": null,
   "metadata": {},
   "outputs": [],
   "source": [
    "%timeit variance(range(100000))"
   ]
  },
  {
   "cell_type": "code",
   "execution_count": null,
   "metadata": {},
   "outputs": [],
   "source": [
    "%timeit variance0(range(100000))"
   ]
  },
  {
   "cell_type": "code",
   "execution_count": null,
   "metadata": {},
   "outputs": [],
   "source": [
    "%timeit variance1(range(100000))"
   ]
  },
  {
   "cell_type": "markdown",
   "metadata": {},
   "source": [
    "We'd like to do this with just one pass over the data. Have a look at Welford's Method (1962):"
   ]
  },
  {
   "cell_type": "code",
   "execution_count": null,
   "metadata": {},
   "outputs": [],
   "source": [
    "def online_variance(data):\n",
    "    mean,M2= 0.,0.\n",
    "    for n,d in enumerate(data):\n",
    "        delta = d - mean\n",
    "        mean += delta/(n + 1)\n",
    "        M2 += delta*(d - mean)  \n",
    "    return M2/n"
   ]
  },
  {
   "cell_type": "code",
   "execution_count": null,
   "metadata": {},
   "outputs": [],
   "source": [
    "%timeit online_variance(range(100000))"
   ]
  },
  {
   "cell_type": "code",
   "execution_count": null,
   "metadata": {},
   "outputs": [],
   "source": [
    "import var\n",
    "import importlib\n",
    "importlib.reload(var)"
   ]
  },
  {
   "cell_type": "code",
   "execution_count": null,
   "metadata": {},
   "outputs": [],
   "source": [
    "%load_ext line_profiler"
   ]
  },
  {
   "cell_type": "code",
   "execution_count": null,
   "metadata": {},
   "outputs": [],
   "source": [
    "%lprun -f var.variance var.execute()"
   ]
  }
 ],
 "metadata": {
  "kernelspec": {
   "display_name": "Python 3 (ipykernel)",
   "language": "python",
   "name": "python3"
  },
  "language_info": {
   "codemirror_mode": {
    "name": "ipython",
    "version": 3
   },
   "file_extension": ".py",
   "mimetype": "text/x-python",
   "name": "python",
   "nbconvert_exporter": "python",
   "pygments_lexer": "ipython3",
   "version": "3.9.9"
  },
  "toc": {
   "base_numbering": 1,
   "nav_menu": {},
   "number_sections": true,
   "sideBar": true,
   "skip_h1_title": false,
   "title_cell": "Table of Contents",
   "title_sidebar": "Contents",
   "toc_cell": false,
   "toc_position": {},
   "toc_section_display": true,
   "toc_window_display": false
  },
  "varInspector": {
   "cols": {
    "lenName": 16,
    "lenType": 16,
    "lenVar": 40
   },
   "kernels_config": {
    "python": {
     "delete_cmd_postfix": "",
     "delete_cmd_prefix": "del ",
     "library": "var_list.py",
     "varRefreshCmd": "print(var_dic_list())"
    },
    "r": {
     "delete_cmd_postfix": ") ",
     "delete_cmd_prefix": "rm(",
     "library": "var_list.r",
     "varRefreshCmd": "cat(var_dic_list()) "
    }
   },
   "types_to_exclude": [
    "module",
    "function",
    "builtin_function_or_method",
    "instance",
    "_Feature"
   ],
   "window_display": false
  }
 },
 "nbformat": 4,
 "nbformat_minor": 4
}
