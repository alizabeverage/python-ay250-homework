{
 "cells": [
  {
   "cell_type": "code",
   "execution_count": null,
   "id": "0ad49e9c-6ed6-4c75-aef5-c39ca9b255a7",
   "metadata": {},
   "outputs": [],
   "source": [
    "%run ../../../DataFiles_and_Notebooks/talktools.py"
   ]
  },
  {
   "cell_type": "markdown",
   "id": "96efafaa-147e-4f84-ac50-2ed266fc91a0",
   "metadata": {
    "tags": []
   },
   "source": [
    "## Ctypes ##\n",
    "\n",
    "ctypes is a foreign function library for Python. It provides C compatible data types, and allows calling functions in DLLs or shared libraries. It can be used to wrap these libraries in pure Python.\n",
    "\n",
    "https://docs.python.org/3/library/ctypes.html"
   ]
  },
  {
   "cell_type": "code",
   "execution_count": 1,
   "id": "1b92f9ea-b167-42bb-bf6e-fa1b90051d50",
   "metadata": {},
   "outputs": [],
   "source": [
    "from ctypes import *"
   ]
  },
  {
   "cell_type": "code",
   "execution_count": 2,
   "id": "d05b6a6e-0580-4257-9207-2735c6a952f4",
   "metadata": {},
   "outputs": [],
   "source": [
    "p = create_string_buffer(b\"Hello\", 10)   # create a 10 byte buffer"
   ]
  },
  {
   "cell_type": "code",
   "execution_count": 3,
   "id": "77436029-f9a5-4a25-8e2d-80f542b407c6",
   "metadata": {},
   "outputs": [
    {
     "data": {
      "text/plain": [
       "<ctypes.c_char_Array_10 at 0x10f6391c0>"
      ]
     },
     "execution_count": 3,
     "metadata": {},
     "output_type": "execute_result"
    }
   ],
   "source": [
    "p"
   ]
  },
  {
   "cell_type": "code",
   "execution_count": 4,
   "id": "d6d170ef-dd31-495d-ab71-af587c90c4af",
   "metadata": {},
   "outputs": [
    {
     "data": {
      "text/plain": [
       "b'Hello'"
      ]
     },
     "execution_count": 4,
     "metadata": {},
     "output_type": "execute_result"
    }
   ],
   "source": [
    "p.value"
   ]
  },
  {
   "cell_type": "code",
   "execution_count": 5,
   "id": "6e7eeb27-38c1-43fd-8ad4-afaacb5e9bd5",
   "metadata": {},
   "outputs": [
    {
     "name": "stdout",
     "output_type": "stream",
     "text": [
      "10\n"
     ]
    },
    {
     "data": {
      "text/plain": [
       "\"b'Hello\\\\x00\\\\x00\\\\x00\\\\x00\\\\x00'\""
      ]
     },
     "execution_count": 5,
     "metadata": {},
     "output_type": "execute_result"
    }
   ],
   "source": [
    "print(sizeof(p)) ; repr(p.raw)"
   ]
  },
  {
   "cell_type": "code",
   "execution_count": 6,
   "id": "08a9144b-fd84-4448-82a0-15c0e92e4c9a",
   "metadata": {},
   "outputs": [
    {
     "data": {
      "text/plain": [
       "\"b'Hello\\\\x00\\\\x00\\\\x00\\\\x00\\\\x00'\""
      ]
     },
     "execution_count": 6,
     "metadata": {},
     "output_type": "execute_result"
    }
   ],
   "source": [
    "repr(p.raw)"
   ]
  },
  {
   "cell_type": "code",
   "execution_count": 7,
   "id": "a5d336c0-c7c5-4eb2-a2d9-54118af130d4",
   "metadata": {},
   "outputs": [],
   "source": [
    "p.value = b\"Bye.\""
   ]
  },
  {
   "cell_type": "code",
   "execution_count": 8,
   "id": "9d8819dc-f408-43d4-84f0-176b9843d8f4",
   "metadata": {},
   "outputs": [
    {
     "name": "stdout",
     "output_type": "stream",
     "text": [
      "10\n"
     ]
    },
    {
     "data": {
      "text/plain": [
       "\"b'Bye.\\\\x00\\\\x00\\\\x00\\\\x00\\\\x00\\\\x00'\""
      ]
     },
     "execution_count": 8,
     "metadata": {},
     "output_type": "execute_result"
    }
   ],
   "source": [
    "print(sizeof(p)) ; repr(p.raw)"
   ]
  },
  {
   "cell_type": "markdown",
   "id": "839bbd5e-aa42-4be2-8eb9-247a0595e460",
   "metadata": {},
   "source": [
    "<table border=\"1\" class=\"docutils\">\n",
    "<colgroup>\n",
    "<col width=\"24%\" />\n",
    "<col width=\"46%\" />\n",
    "<col width=\"30%\" />\n",
    "</colgroup>\n",
    "<thead valign=\"bottom\">\n",
    "<tr><th class=\"head\">ctypes type</th>\n",
    "<th class=\"head\">C type</th>\n",
    "<th class=\"head\">Python type</th>\n",
    "</tr>\n",
    "</thead>\n",
    "<tbody valign=\"top\">\n",
    "<tr><td><a class=\"reference internal\" href=\"#ctypes.c_bool\" title=\"ctypes.c_bool\"><tt class=\"xref py py-class docutils literal\"><span class=\"pre\">c_bool</span></tt></a></td>\n",
    "<td><tt class=\"xref c c-type docutils literal\"><span class=\"pre\">_Bool</span></tt></td>\n",
    "<td>bool (1)</td>\n",
    "</tr>\n",
    "<tr><td><a class=\"reference internal\" href=\"#ctypes.c_char\" title=\"ctypes.c_char\"><tt class=\"xref py py-class docutils literal\"><span class=\"pre\">c_char</span></tt></a></td>\n",
    "<td><tt class=\"xref c c-type docutils literal\"><span class=\"pre\">char</span></tt></td>\n",
    "<td>1-character string</td>\n",
    "</tr>\n",
    "<tr><td><a class=\"reference internal\" href=\"#ctypes.c_wchar\" title=\"ctypes.c_wchar\"><tt class=\"xref py py-class docutils literal\"><span class=\"pre\">c_wchar</span></tt></a></td>\n",
    "<td><tt class=\"xref c c-type docutils literal\"><span class=\"pre\">wchar_t</span></tt></td>\n",
    "<td>1-character unicode string</td>\n",
    "</tr>\n",
    "<tr><td><a class=\"reference internal\" href=\"#ctypes.c_byte\" title=\"ctypes.c_byte\"><tt class=\"xref py py-class docutils literal\"><span class=\"pre\">c_byte</span></tt></a></td>\n",
    "<td><tt class=\"xref c c-type docutils literal\"><span class=\"pre\">char</span></tt></td>\n",
    "<td>int/long</td>\n",
    "</tr>\n",
    "<tr><td><a class=\"reference internal\" href=\"#ctypes.c_ubyte\" title=\"ctypes.c_ubyte\"><tt class=\"xref py py-class docutils literal\"><span class=\"pre\">c_ubyte</span></tt></a></td>\n",
    "<td><tt class=\"xref c c-type docutils literal\"><span class=\"pre\">unsigned</span> <span class=\"pre\">char</span></tt></td>\n",
    "<td>int/long</td>\n",
    "</tr>\n",
    "<tr><td><a class=\"reference internal\" href=\"#ctypes.c_short\" title=\"ctypes.c_short\"><tt class=\"xref py py-class docutils literal\"><span class=\"pre\">c_short</span></tt></a></td>\n",
    "<td><tt class=\"xref c c-type docutils literal\"><span class=\"pre\">short</span></tt></td>\n",
    "<td>int/long</td>\n",
    "</tr>\n",
    "<tr><td><a class=\"reference internal\" href=\"#ctypes.c_ushort\" title=\"ctypes.c_ushort\"><tt class=\"xref py py-class docutils literal\"><span class=\"pre\">c_ushort</span></tt></a></td>\n",
    "<td><tt class=\"xref c c-type docutils literal\"><span class=\"pre\">unsigned</span> <span class=\"pre\">short</span></tt></td>\n",
    "<td>int/long</td>\n",
    "</tr>\n",
    "<tr><td><a class=\"reference internal\" href=\"#ctypes.c_int\" title=\"ctypes.c_int\"><tt class=\"xref py py-class docutils literal\"><span class=\"pre\">c_int</span></tt></a></td>\n",
    "<td><tt class=\"xref c c-type docutils literal\"><span class=\"pre\">int</span></tt></td>\n",
    "<td>int/long</td>\n",
    "</tr>\n",
    "<tr><td><a class=\"reference internal\" href=\"#ctypes.c_uint\" title=\"ctypes.c_uint\"><tt class=\"xref py py-class docutils literal\"><span class=\"pre\">c_uint</span></tt></a></td>\n",
    "<td><tt class=\"xref c c-type docutils literal\"><span class=\"pre\">unsigned</span> <span class=\"pre\">int</span></tt></td>\n",
    "<td>int/long</td>\n",
    "</tr>\n",
    "<tr><td><a class=\"reference internal\" href=\"#ctypes.c_long\" title=\"ctypes.c_long\"><tt class=\"xref py py-class docutils literal\"><span class=\"pre\">c_long</span></tt></a></td>\n",
    "<td><tt class=\"xref c c-type docutils literal\"><span class=\"pre\">long</span></tt></td>\n",
    "<td>int/long</td>\n",
    "</tr>\n",
    "<tr><td><a class=\"reference internal\" href=\"#ctypes.c_ulong\" title=\"ctypes.c_ulong\"><tt class=\"xref py py-class docutils literal\"><span class=\"pre\">c_ulong</span></tt></a></td>\n",
    "<td><tt class=\"xref c c-type docutils literal\"><span class=\"pre\">unsigned</span> <span class=\"pre\">long</span></tt></td>\n",
    "<td>int/long</td>\n",
    "</tr>\n",
    "<tr><td><a class=\"reference internal\" href=\"#ctypes.c_longlong\" title=\"ctypes.c_longlong\"><tt class=\"xref py py-class docutils literal\"><span class=\"pre\">c_longlong</span></tt></a></td>\n",
    "<td><tt class=\"xref c c-type docutils literal\"><span class=\"pre\">__int64</span></tt> or <tt class=\"xref c c-type docutils literal\"><span class=\"pre\">long</span> <span class=\"pre\">long</span></tt></td>\n",
    "<td>int/long</td>\n",
    "</tr>\n",
    "<tr><td><a class=\"reference internal\" href=\"#ctypes.c_ulonglong\" title=\"ctypes.c_ulonglong\"><tt class=\"xref py py-class docutils literal\"><span class=\"pre\">c_ulonglong</span></tt></a></td>\n",
    "<td><tt class=\"xref c c-type docutils literal\"><span class=\"pre\">unsigned</span> <span class=\"pre\">__int64</span></tt> or\n",
    "<tt class=\"xref c c-type docutils literal\"><span class=\"pre\">unsigned</span> <span class=\"pre\">long</span> <span class=\"pre\">long</span></tt></td>\n",
    "<td>int/long</td>\n",
    "</tr>\n",
    "<tr><td><a class=\"reference internal\" href=\"#ctypes.c_float\" title=\"ctypes.c_float\"><tt class=\"xref py py-class docutils literal\"><span class=\"pre\">c_float</span></tt></a></td>\n",
    "<td><tt class=\"xref c c-type docutils literal\"><span class=\"pre\">float</span></tt></td>\n",
    "<td>float</td>\n",
    "</tr>\n",
    "<tr><td><a class=\"reference internal\" href=\"#ctypes.c_double\" title=\"ctypes.c_double\"><tt class=\"xref py py-class docutils literal\"><span class=\"pre\">c_double</span></tt></a></td>\n",
    "<td><tt class=\"xref c c-type docutils literal\"><span class=\"pre\">double</span></tt></td>\n",
    "<td>float</td>\n",
    "</tr>\n",
    "<tr><td><a class=\"reference internal\" href=\"#ctypes.c_longdouble\" title=\"ctypes.c_longdouble\"><tt class=\"xref py py-class docutils literal\"><span class=\"pre\">c_longdouble</span></tt></a></td>\n",
    "<td><tt class=\"xref c c-type docutils literal\"><span class=\"pre\">long</span> <span class=\"pre\">double</span></tt></td>\n",
    "<td>float</td>\n",
    "</tr>\n",
    "<tr><td><a class=\"reference internal\" href=\"#ctypes.c_char_p\" title=\"ctypes.c_char_p\"><tt class=\"xref py py-class docutils literal\"><span class=\"pre\">c_char_p</span></tt></a></td>\n",
    "<td><tt class=\"xref c c-type docutils literal\"><span class=\"pre\">char</span> <span class=\"pre\">*</span></tt> (NUL terminated)</td>\n",
    "<td>string or <tt class=\"xref docutils literal\"><span class=\"pre\">None</span></tt></td>\n",
    "</tr>\n",
    "<tr><td><a class=\"reference internal\" href=\"#ctypes.c_wchar_p\" title=\"ctypes.c_wchar_p\"><tt class=\"xref py py-class docutils literal\"><span class=\"pre\">c_wchar_p</span></tt></a></td>\n",
    "<td><tt class=\"xref c c-type docutils literal\"><span class=\"pre\">wchar_t</span> <span class=\"pre\">*</span></tt> (NUL terminated)</td>\n",
    "<td>unicode or <tt class=\"xref docutils literal\"><span class=\"pre\">None</span></tt></td>\n",
    "</tr>\n",
    "<tr><td><a class=\"reference internal\" href=\"#ctypes.c_void_p\" title=\"ctypes.c_void_p\"><tt class=\"xref py py-class docutils literal\"><span class=\"pre\">c_void_p</span></tt></a></td>\n",
    "<td><tt class=\"xref c c-type docutils literal\"><span class=\"pre\">void</span> <span class=\"pre\">*</span></tt></td>\n",
    "<td>int/long or <tt class=\"xref docutils literal\"><span class=\"pre\">None</span></tt></td>\n",
    "</tr>\n",
    "</tbody>\n",
    "</table>"
   ]
  },
  {
   "cell_type": "code",
   "execution_count": 9,
   "id": "9e68fd4b-4117-479c-848a-5ad68ec365d8",
   "metadata": {},
   "outputs": [],
   "source": [
    "x = c_int(100)"
   ]
  },
  {
   "cell_type": "code",
   "execution_count": 10,
   "id": "47ea1958-c7ce-4acb-8e03-c204b51b07cd",
   "metadata": {},
   "outputs": [
    {
     "name": "stdout",
     "output_type": "stream",
     "text": [
      "c_int(100)\n"
     ]
    }
   ],
   "source": [
    "print(x)"
   ]
  },
  {
   "cell_type": "code",
   "execution_count": 11,
   "id": "152115f6-3610-4c47-b4e8-4b7127073e0e",
   "metadata": {},
   "outputs": [
    {
     "data": {
      "text/plain": [
       "int"
      ]
     },
     "execution_count": 11,
     "metadata": {},
     "output_type": "execute_result"
    }
   ],
   "source": [
    "type(x.value)"
   ]
  },
  {
   "cell_type": "code",
   "execution_count": 12,
   "id": "3d0a7d3c-42b0-43e9-a165-849ff6e7213f",
   "metadata": {},
   "outputs": [
    {
     "data": {
      "text/plain": [
       "4"
      ]
     },
     "execution_count": 12,
     "metadata": {},
     "output_type": "execute_result"
    }
   ],
   "source": [
    "sizeof(x)"
   ]
  },
  {
   "cell_type": "code",
   "execution_count": 13,
   "id": "2726f169-0692-4386-8d02-8e80850011f4",
   "metadata": {},
   "outputs": [],
   "source": [
    "y = 100"
   ]
  },
  {
   "cell_type": "code",
   "execution_count": 14,
   "id": "24470c09-8b89-48b7-baba-d9d012bf251c",
   "metadata": {},
   "outputs": [
    {
     "data": {
      "text/plain": [
       "28"
      ]
     },
     "execution_count": 14,
     "metadata": {},
     "output_type": "execute_result"
    }
   ],
   "source": [
    "import sys\n",
    "sys.getsizeof(y)"
   ]
  },
  {
   "cell_type": "code",
   "execution_count": 15,
   "id": "315ba308-8903-4095-bd9d-faec234786c4",
   "metadata": {},
   "outputs": [
    {
     "data": {
      "text/plain": [
       "128"
      ]
     },
     "execution_count": 15,
     "metadata": {},
     "output_type": "execute_result"
    }
   ],
   "source": [
    "sys.getsizeof(x)"
   ]
  },
  {
   "cell_type": "code",
   "execution_count": 16,
   "id": "939b1dbf-4db6-46c9-98b5-046b2ce63a39",
   "metadata": {},
   "outputs": [
    {
     "name": "stdout",
     "output_type": "stream",
     "text": [
      "Writing test.c\n"
     ]
    }
   ],
   "source": [
    "%%file test.c\n",
    "#include <stdio.h>\n",
    "\n",
    "void myprint(void);\n",
    "\n",
    "void myprint()\n",
    "{\n",
    "    printf(\"hello world\\n\");\n",
    "}"
   ]
  },
  {
   "cell_type": "code",
   "execution_count": 17,
   "id": "ffc036d2-0280-422f-ac8a-e70efeaf7110",
   "metadata": {},
   "outputs": [
    {
     "name": "stdout",
     "output_type": "stream",
     "text": [
      "#include <stdio.h>\r\n",
      "\r\n",
      "void myprint(void);\r\n",
      "\r\n",
      "void myprint()\r\n",
      "{\r\n",
      "    printf(\"hello world\\n\");\r\n",
      "}\r\n"
     ]
    }
   ],
   "source": [
    "!cat test.c"
   ]
  },
  {
   "cell_type": "code",
   "execution_count": 18,
   "id": "92c99de3-1bc7-4533-8617-b9635c40c25b",
   "metadata": {},
   "outputs": [],
   "source": [
    "# linux\n",
    "#!gcc -shared -Wl,-soname,test -o test.so -fPIC test.c\n",
    "\n",
    "# or... for Mac OS X \n",
    "!gcc -shared -Wl,-install_name,testlib.so -o test.so -fPIC test.c"
   ]
  },
  {
   "cell_type": "code",
   "execution_count": 19,
   "id": "f463c2b7-60b7-4dd0-ba2b-e154dfc24b65",
   "metadata": {},
   "outputs": [
    {
     "name": "stdout",
     "output_type": "stream",
     "text": [
      "total 288\r\n",
      "-rwxr-xr-x   1 alizabeverage  staff  32952 Apr 25 17:31 test.so\r\n",
      "drwxr-xr-x  14 alizabeverage  staff    448 Apr 25 17:31 .\r\n",
      "-rw-r--r--   1 alizabeverage  staff     89 Apr 25 17:31 test.c\r\n",
      "-rw-r--r--   1 alizabeverage  staff  33976 Apr 25 17:29 01_jax_and_numba.ipynb\r\n",
      "drwxr-xr-x   3 alizabeverage  staff     96 Apr 25 16:55 .ipynb_checkpoints\r\n",
      "drwxr-xr-x   8 alizabeverage  staff    256 Apr 25 16:53 demos\r\n",
      "-rw-r--r--   1 alizabeverage  staff  24594 Apr 25 16:53 03_cython.ipynb\r\n",
      "drwxr-xr-x  12 alizabeverage  staff    384 Apr 25 16:53 sketse\r\n",
      "-rw-r--r--   1 alizabeverage  staff   2959 Apr 25 16:53 misc.ipynb\r\n"
     ]
    }
   ],
   "source": [
    "!ls -lat |head"
   ]
  },
  {
   "cell_type": "code",
   "execution_count": 20,
   "id": "a40fbf15-47a0-48fa-8100-c9d2e1a9c222",
   "metadata": {},
   "outputs": [
    {
     "name": "stdout",
     "output_type": "stream",
     "text": [
      "Writing myctest.py\n"
     ]
    }
   ],
   "source": [
    "%%file myctest.py\n",
    "import ctypes\n",
    "myctest = ctypes.CDLL('./test.so')\n",
    "myctest.myprint()"
   ]
  },
  {
   "cell_type": "code",
   "execution_count": 21,
   "id": "7a0265c8-db72-49ea-8d38-e3161974fbc7",
   "metadata": {},
   "outputs": [
    {
     "data": {
      "text/plain": [
       "12"
      ]
     },
     "execution_count": 21,
     "metadata": {},
     "output_type": "execute_result"
    }
   ],
   "source": [
    "import ctypes\n",
    "myctest = ctypes.CDLL('./test.so')\n",
    "myctest.myprint()"
   ]
  },
  {
   "cell_type": "code",
   "execution_count": 22,
   "id": "fb98f346-0980-4467-b26a-2e2574516017",
   "metadata": {},
   "outputs": [
    {
     "name": "stdout",
     "output_type": "stream",
     "text": [
      "Writing test1.c\n"
     ]
    }
   ],
   "source": [
    "%%file test1.c\n",
    "int add(int a, int b);\n",
    "\n",
    "int add(int a, int b)\n",
    "{\n",
    "    return(a+b);\n",
    "}"
   ]
  },
  {
   "cell_type": "code",
   "execution_count": 23,
   "id": "c530d7b7-f79c-4836-9cde-53b3428e3d4b",
   "metadata": {},
   "outputs": [],
   "source": [
    "!gcc -shared -Wl,-install_name,test1lib.so -o test1.so -fPIC test1.c"
   ]
  },
  {
   "cell_type": "code",
   "execution_count": 24,
   "id": "8092e4e3-b302-43c8-98b3-a2a9d2a83aec",
   "metadata": {},
   "outputs": [
    {
     "name": "stdout",
     "output_type": "stream",
     "text": [
      "110\n"
     ]
    }
   ],
   "source": [
    "from ctypes import *\n",
    "\n",
    "# load the shared object\n",
    "libtest = cdll.LoadLibrary('./test1.so')\n",
    "\n",
    "# call the function, yes it is as simple as that!\n",
    "print(libtest.add(100, 10))"
   ]
  },
  {
   "cell_type": "code",
   "execution_count": 25,
   "id": "86019d8b-569f-4c91-ba25-c3292b7134b1",
   "metadata": {},
   "outputs": [
    {
     "name": "stdout",
     "output_type": "stream",
     "text": [
      "267 ns ± 0.919 ns per loop (mean ± std. dev. of 7 runs, 1,000,000 loops each)\n"
     ]
    }
   ],
   "source": [
    "%timeit libtest.add(10,20)"
   ]
  },
  {
   "cell_type": "code",
   "execution_count": 26,
   "id": "71b775be-9d35-43d9-b944-abc49c46dd52",
   "metadata": {},
   "outputs": [
    {
     "name": "stdout",
     "output_type": "stream",
     "text": [
      "95 ns ± 0.447 ns per loop (mean ± std. dev. of 7 runs, 10,000,000 loops each)\n"
     ]
    }
   ],
   "source": [
    "%timeit sum([10,20])"
   ]
  },
  {
   "cell_type": "code",
   "execution_count": 27,
   "id": "6ae936e0-f302-4aa9-84a9-9f6719fd3bc5",
   "metadata": {},
   "outputs": [],
   "source": [
    "sum?"
   ]
  },
  {
   "cell_type": "code",
   "execution_count": null,
   "id": "344bac5b-9287-442f-b892-03659e07b449",
   "metadata": {},
   "outputs": [],
   "source": [
    "%timeit 10 + 20"
   ]
  },
  {
   "cell_type": "markdown",
   "id": "ba899cff-29f7-4ef3-a882-1e50a7b0daa5",
   "metadata": {},
   "source": [
    "For a whole lot of timing comparisons, see \n",
    "http://nbviewer.ipython.org/url/jakevdp.github.io/downloads/notebooks/NumbaCython.ipynb"
   ]
  },
  {
   "cell_type": "markdown",
   "id": "7f22c580-1a53-45f4-9854-6e2c3e3b10f7",
   "metadata": {},
   "source": [
    "## f2py \n",
    "\n",
    "<pre>\n",
    "...automatically construct an extension module that interfaces to routines in Fortran 77/90/95 code. It has the ability to parse Fortran 77/90/95 code and automatically generate Python signatures for the subroutines it encounters, or you can guide how the subroutine interfaces with Python by constructing an interface-definition-file (or modifying the f2py-produced one).\n",
    "</pre>\n",
    "\n",
    "It's part of numpy!\n",
    "\n",
    "(http://docs.scipy.org/doc/numpy/user/c-info.python-as-glue.html#f2py)"
   ]
  },
  {
   "cell_type": "code",
   "execution_count": 32,
   "id": "bb54e943-6fd0-4980-a0bd-beec0955c10f",
   "metadata": {},
   "outputs": [
    {
     "name": "stdout",
     "output_type": "stream",
     "text": [
      "Overwriting pairwise_fort.f\n"
     ]
    }
   ],
   "source": [
    "%%file pairwise_fort.f\n",
    "\n",
    "      subroutine pairwise_fort(X,D,m,n)\n",
    "              integer :: n,m\n",
    "              double precision, intent(in) :: X(m,n)\n",
    "              double precision, intent(out) :: D(m,m) \n",
    "              integer :: i,j,k\n",
    "              double precision :: r \n",
    "              do i = 1,m \n",
    "                  do j = 1,m \n",
    "                      r = 0\n",
    "                      do k = 1,n \n",
    "                          r = r + (X(i,k) - X(j,k)) * (X(i,k) - X(j,k)) \n",
    "                      end do \n",
    "                      D(i,j) = sqrt(r) \n",
    "                  end do \n",
    "              end do \n",
    "      end subroutine pairwise_fort"
   ]
  },
  {
   "cell_type": "code",
   "execution_count": 33,
   "id": "0339445e-c759-4a6f-b1b4-28c591a108f3",
   "metadata": {},
   "outputs": [],
   "source": [
    "!f2py -c pairwise_fort.f -m pairwise_fort >& /dev/null"
   ]
  },
  {
   "cell_type": "code",
   "execution_count": 34,
   "id": "fd4e8a59-b032-4228-af12-1379891b5da2",
   "metadata": {},
   "outputs": [
    {
     "name": "stdout",
     "output_type": "stream",
     "text": [
      "\u001b[31mpairwise_fort.cpython-39-darwin.so\u001b[m\u001b[m pairwise_fort.f\r\n"
     ]
    }
   ],
   "source": [
    "!ls pa*"
   ]
  },
  {
   "cell_type": "code",
   "execution_count": 35,
   "id": "3b52d218-399a-41c2-ad67-7cbf5eb5c314",
   "metadata": {},
   "outputs": [
    {
     "ename": "ImportError",
     "evalue": "dlopen(/Users/alizabeverage/Class/python-ay250-homework/11_Cython/pairwise_fort.cpython-39-darwin.so, 0x0002): tried: '/usr/local/lib/pairwise_fort.cpython-39-darwin.so' (no such file), '/pairwise_fort.cpython-39-darwin.so' (no such file), '/Users/alizabeverage/Class/python-ay250-homework/11_Cython/pairwise_fort.cpython-39-darwin.so' (mach-o file, but is an incompatible architecture (have 'arm64', need 'x86_64')), '/usr/local/lib/pairwise_fort.cpython-39-darwin.so' (no such file), '/usr/lib/pairwise_fort.cpython-39-darwin.so' (no such file)",
     "output_type": "error",
     "traceback": [
      "\u001b[0;31m---------------------------------------------------------------------------\u001b[0m",
      "\u001b[0;31mImportError\u001b[0m                               Traceback (most recent call last)",
      "Input \u001b[0;32mIn [35]\u001b[0m, in \u001b[0;36m<cell line: 3>\u001b[0;34m()\u001b[0m\n\u001b[1;32m      1\u001b[0m \u001b[38;5;28;01mimport\u001b[39;00m \u001b[38;5;21;01mnumpy\u001b[39;00m \u001b[38;5;28;01mas\u001b[39;00m \u001b[38;5;21;01mnp\u001b[39;00m\n\u001b[1;32m      2\u001b[0m X \u001b[38;5;241m=\u001b[39m np\u001b[38;5;241m.\u001b[39mrandom\u001b[38;5;241m.\u001b[39mrandom((\u001b[38;5;241m1000\u001b[39m, \u001b[38;5;241m3\u001b[39m))\n\u001b[0;32m----> 3\u001b[0m \u001b[38;5;28;01mfrom\u001b[39;00m \u001b[38;5;21;01mpairwise_fort\u001b[39;00m \u001b[38;5;28;01mimport\u001b[39;00m pairwise_fort\n\u001b[1;32m      4\u001b[0m XF \u001b[38;5;241m=\u001b[39m np\u001b[38;5;241m.\u001b[39masarray(X, order\u001b[38;5;241m=\u001b[39m\u001b[38;5;124m'\u001b[39m\u001b[38;5;124mC\u001b[39m\u001b[38;5;124m'\u001b[39m)\n\u001b[1;32m      5\u001b[0m get_ipython()\u001b[38;5;241m.\u001b[39mrun_line_magic(\u001b[38;5;124m'\u001b[39m\u001b[38;5;124mtimeit\u001b[39m\u001b[38;5;124m'\u001b[39m, \u001b[38;5;124m'\u001b[39m\u001b[38;5;124mpairwise_fort(XF)\u001b[39m\u001b[38;5;124m'\u001b[39m)\n",
      "\u001b[0;31mImportError\u001b[0m: dlopen(/Users/alizabeverage/Class/python-ay250-homework/11_Cython/pairwise_fort.cpython-39-darwin.so, 0x0002): tried: '/usr/local/lib/pairwise_fort.cpython-39-darwin.so' (no such file), '/pairwise_fort.cpython-39-darwin.so' (no such file), '/Users/alizabeverage/Class/python-ay250-homework/11_Cython/pairwise_fort.cpython-39-darwin.so' (mach-o file, but is an incompatible architecture (have 'arm64', need 'x86_64')), '/usr/local/lib/pairwise_fort.cpython-39-darwin.so' (no such file), '/usr/lib/pairwise_fort.cpython-39-darwin.so' (no such file)"
     ]
    }
   ],
   "source": [
    "import numpy as np\n",
    "X = np.random.random((1000, 3))\n",
    "from pairwise_fort import pairwise_fort\n",
    "XF = np.asarray(X, order='C')\n",
    "%timeit pairwise_fort(XF)\n",
    "print(XF)\n",
    "print(np.asarray(X, order='F'))"
   ]
  },
  {
   "cell_type": "code",
   "execution_count": null,
   "id": "eb875ffb-7ede-4245-a953-c3060f0020f2",
   "metadata": {},
   "outputs": [],
   "source": [
    "!ls -lat | head"
   ]
  }
 ],
 "metadata": {
  "kernelspec": {
   "display_name": "astrods",
   "language": "python",
   "name": "astrods"
  },
  "language_info": {
   "codemirror_mode": {
    "name": "ipython",
    "version": 3
   },
   "file_extension": ".py",
   "mimetype": "text/x-python",
   "name": "python",
   "nbconvert_exporter": "python",
   "pygments_lexer": "ipython3",
   "version": "3.9.10"
  },
  "toc": {
   "base_numbering": 1,
   "nav_menu": {},
   "number_sections": true,
   "sideBar": true,
   "skip_h1_title": false,
   "title_cell": "Table of Contents",
   "title_sidebar": "Contents",
   "toc_cell": false,
   "toc_position": {},
   "toc_section_display": true,
   "toc_window_display": false
  },
  "varInspector": {
   "cols": {
    "lenName": 16,
    "lenType": 16,
    "lenVar": 40
   },
   "kernels_config": {
    "python": {
     "delete_cmd_postfix": "",
     "delete_cmd_prefix": "del ",
     "library": "var_list.py",
     "varRefreshCmd": "print(var_dic_list())"
    },
    "r": {
     "delete_cmd_postfix": ") ",
     "delete_cmd_prefix": "rm(",
     "library": "var_list.r",
     "varRefreshCmd": "cat(var_dic_list()) "
    }
   },
   "types_to_exclude": [
    "module",
    "function",
    "builtin_function_or_method",
    "instance",
    "_Feature"
   ],
   "window_display": false
  }
 },
 "nbformat": 4,
 "nbformat_minor": 5
}
