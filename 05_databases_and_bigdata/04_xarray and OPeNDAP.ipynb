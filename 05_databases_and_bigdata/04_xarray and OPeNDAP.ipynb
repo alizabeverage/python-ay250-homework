{
 "cells": [
  {
   "cell_type": "code",
   "execution_count": null,
   "metadata": {},
   "outputs": [],
   "source": [
    "%run ../talktools.py"
   ]
  },
  {
   "cell_type": "markdown",
   "metadata": {},
   "source": [
    "# xarray\n",
    "\n",
    "<img src=\"https://docs.xarray.dev/en/stable/_static/dataset-diagram-logo.png\">\n",
    "\n",
    "Adding dimensions names and coordinate indexes to numpy’s ndarray makes many powerful array operations possible:\n",
    "\n",
    "- Apply operations over dimensions by name: `x.sum('time')`.\n",
    "- Select values by label instead of integer location: `x.loc['2022-01-01']` or `x.sel(time='2022-01-01')`.\n",
    "- Mathematical operations (e.g., `x - y`) vectorize across multiple dimensions (array broadcasting) based on dimension names, not shape.\n",
    "- Flexible split-apply-combine operations with groupby: `x.groupby('time.dayofyear').mean()`.\n",
    "- Database like alignment based on coordinate labels that smoothly handles missing values: `x, y = xr.align(x, y, join='outer')`.\n",
    "- Keep track of arbitrary metadata in the form of a Python dictionary: x.attrs.\n",
    "\n",
    "Works with dask too.\n",
    "\n",
    "- **DataArray**: labeled, N-dimensional array. It is an N-D generalization of a pandas.Series. \n",
    "\n",
    "- **Dataset** multi-dimensional, in-memory array database. It is a dict-like container of DataArray objects aligned along any number of shared dimensions, and serves a similar purpose in xarray to the pandas.DataFrame\n",
    "\n",
    "<img src=\"https://docs.xarray.dev/en/stable/_images/dataset-diagram.png\">\n",
    "\n",
    "http://xarray.pydata.org/en/stable/why-xarray.html#features"
   ]
  },
  {
   "cell_type": "code",
   "execution_count": null,
   "metadata": {},
   "outputs": [],
   "source": [
    "#!conda install xarray netCDF4 -y"
   ]
  },
  {
   "cell_type": "code",
   "execution_count": null,
   "metadata": {},
   "outputs": [],
   "source": [
    "import xarray as xr\n",
    "import numpy as np\n",
    "import pandas as pd"
   ]
  },
  {
   "cell_type": "markdown",
   "metadata": {},
   "source": [
    "Let's create a small timeseries of data of wind speed at different California airports."
   ]
  },
  {
   "cell_type": "code",
   "execution_count": null,
   "metadata": {},
   "outputs": [],
   "source": [
    "wind_array = 10*np.random.rand(4, 3) + 3\n",
    "\n",
    "locs = [\"OAK\", \"LAX\", \"SFO\"]\n",
    "\n",
    "times = pd.date_range(\"2022-02-28\", periods=4)"
   ]
  },
  {
   "cell_type": "code",
   "execution_count": null,
   "metadata": {},
   "outputs": [],
   "source": [
    "foo = xr.DataArray(wind_array, coords=[times, locs], dims=[\"time\", \"space\"])"
   ]
  },
  {
   "cell_type": "code",
   "execution_count": null,
   "metadata": {},
   "outputs": [],
   "source": [
    "foo"
   ]
  },
  {
   "cell_type": "code",
   "execution_count": null,
   "metadata": {},
   "outputs": [],
   "source": [
    "foo.dims"
   ]
  },
  {
   "cell_type": "code",
   "execution_count": null,
   "metadata": {},
   "outputs": [],
   "source": [
    "type(foo.values)"
   ]
  },
  {
   "cell_type": "code",
   "execution_count": null,
   "metadata": {},
   "outputs": [],
   "source": [
    "foo.attrs"
   ]
  },
  {
   "cell_type": "code",
   "execution_count": null,
   "metadata": {},
   "outputs": [],
   "source": [
    "foo.name = \"airport speed\"\n",
    "\n",
    "foo.attrs[\"units\"] = \"m/s\""
   ]
  },
  {
   "cell_type": "code",
   "execution_count": null,
   "metadata": {},
   "outputs": [],
   "source": [
    "# positional and by integer label, like numpy\n",
    "foo[[0]]"
   ]
  },
  {
   "cell_type": "code",
   "execution_count": null,
   "metadata": {},
   "outputs": [],
   "source": [
    "foo[\"airport_ranking\"] = (\"space\", [1, 3, 2])"
   ]
  },
  {
   "cell_type": "code",
   "execution_count": null,
   "metadata": {},
   "outputs": [],
   "source": [
    "# by dimension name and coordinate label\n",
    "foo.sel(space=['OAK'])"
   ]
  },
  {
   "cell_type": "code",
   "execution_count": null,
   "metadata": {},
   "outputs": [],
   "source": [
    "foo.mean(dim='time')"
   ]
  },
  {
   "cell_type": "code",
   "execution_count": null,
   "metadata": {},
   "outputs": [],
   "source": [
    "!rm /tmp/wind.nc\n",
    "foo.to_netcdf(\"/tmp/wind.nc\")"
   ]
  },
  {
   "cell_type": "code",
   "execution_count": null,
   "metadata": {},
   "outputs": [],
   "source": [
    "ds1 = xr.open_dataset(\"/tmp/wind.nc\")"
   ]
  },
  {
   "cell_type": "code",
   "execution_count": null,
   "metadata": {},
   "outputs": [],
   "source": [
    "ds1.sel(space=\"LAX\")"
   ]
  },
  {
   "attachments": {},
   "cell_type": "markdown",
   "metadata": {},
   "source": [
    "## OPeNDAP\n",
    "\n",
    "`xarray` includes support for OPeNDAP (via the netCDF4 library or Pydap), which lets us access large datasets over HTTP. Let's get some  climate data from http://thredds.northwestknowledge.net:8080/thredds/catalog.html"
   ]
  },
  {
   "cell_type": "code",
   "execution_count": null,
   "metadata": {},
   "outputs": [],
   "source": [
    "data_path = \"http://thredds.northwestknowledge.net:8080/thredds/dodsC/agg_macav2metdata_tasmax_BNU-ESM_r1i1p1_historical_1950_2005_CONUS_monthly.nc\"\n",
    "\n",
    "max_temp_xr  = xr.open_dataset(data_path)  \n",
    "# View xarray object\n",
    "max_temp_xr"
   ]
  },
  {
   "cell_type": "code",
   "execution_count": null,
   "metadata": {},
   "outputs": [],
   "source": [
    "# View first 5 latitude values\n",
    "max_temp_xr[\"air_temperature\"][\"lat\"].values[:5]\n",
    "\n",
    "print(\"The min and max latitude values in the data is:\", \n",
    "      max_temp_xr[\"air_temperature\"][\"lat\"].values.min(), \n",
    "      max_temp_xr[\"air_temperature\"][\"lat\"].values.max())\n",
    "print(\"The min and max longitude values in the data is:\", \n",
    "      max_temp_xr[\"air_temperature\"][\"lon\"].values.min(), \n",
    "      max_temp_xr[\"air_temperature\"][\"lon\"].values.max())\n",
    "\n",
    "print(\"The earliest date in the data is:\", max_temp_xr[\"air_temperature\"][\"time\"].values.min())\n",
    "print(\"The latest date in the data is:\", max_temp_xr[\"air_temperature\"][\"time\"].values.max())    \n"
   ]
  },
  {
   "cell_type": "code",
   "execution_count": null,
   "metadata": {},
   "outputs": [],
   "source": [
    "max_temp_xr.attrs"
   ]
  },
  {
   "cell_type": "code",
   "execution_count": null,
   "metadata": {},
   "outputs": [],
   "source": [
    "%matplotlib inline\n",
    "import matplotlib.pyplot as plt\n",
    "import seaborn as sns"
   ]
  },
  {
   "cell_type": "code",
   "execution_count": null,
   "metadata": {},
   "outputs": [],
   "source": [
    "#!pip install nc-time-axis"
   ]
  },
  {
   "cell_type": "code",
   "execution_count": null,
   "metadata": {},
   "outputs": [],
   "source": [
    "key=500\n",
    "longitude = max_temp_xr[\"air_temperature\"][\"lon\"].values[key]\n",
    "latitude = max_temp_xr[\"air_temperature\"][\"lat\"].values[key]\n",
    "\n",
    "one_point = max_temp_xr[\"air_temperature\"].sel(lat=latitude,\n",
    "                                               lon=longitude)\n",
    "plt.figure(figsize=(14,8))\n",
    "\n",
    "one_point.plot()\n"
   ]
  },
  {
   "cell_type": "code",
   "execution_count": null,
   "metadata": {},
   "outputs": [],
   "source": []
  }
 ],
 "metadata": {
  "kernelspec": {
   "display_name": "Python 3 (ipykernel)",
   "language": "python",
   "name": "python3"
  },
  "language_info": {
   "codemirror_mode": {
    "name": "ipython",
    "version": 3
   },
   "file_extension": ".py",
   "mimetype": "text/x-python",
   "name": "python",
   "nbconvert_exporter": "python",
   "pygments_lexer": "ipython3",
   "version": "3.9.9"
  },
  "toc": {
   "base_numbering": 1,
   "nav_menu": {},
   "number_sections": true,
   "sideBar": true,
   "skip_h1_title": false,
   "title_cell": "Table of Contents",
   "title_sidebar": "Contents",
   "toc_cell": false,
   "toc_position": {},
   "toc_section_display": true,
   "toc_window_display": false
  },
  "varInspector": {
   "cols": {
    "lenName": 16,
    "lenType": 16,
    "lenVar": 40
   },
   "kernels_config": {
    "python": {
     "delete_cmd_postfix": "",
     "delete_cmd_prefix": "del ",
     "library": "var_list.py",
     "varRefreshCmd": "print(var_dic_list())"
    },
    "r": {
     "delete_cmd_postfix": ") ",
     "delete_cmd_prefix": "rm(",
     "library": "var_list.r",
     "varRefreshCmd": "cat(var_dic_list()) "
    }
   },
   "types_to_exclude": [
    "module",
    "function",
    "builtin_function_or_method",
    "instance",
    "_Feature"
   ],
   "window_display": false
  }
 },
 "nbformat": 4,
 "nbformat_minor": 1
}
