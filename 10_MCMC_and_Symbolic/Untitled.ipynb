{
 "cells": [
  {
   "cell_type": "code",
   "execution_count": 1,
   "id": "323f5aa5",
   "metadata": {},
   "outputs": [
    {
     "data": {
      "text/plain": [
       "'/Users/alizabeverage/Class/python-seminar/DataFiles_and_Notebooks/10_MCMC_and_Symbolic'"
      ]
     },
     "execution_count": 1,
     "metadata": {},
     "output_type": "execute_result"
    }
   ],
   "source": [
    "pwd"
   ]
  },
  {
   "cell_type": "code",
   "execution_count": 3,
   "id": "e9a0227f",
   "metadata": {},
   "outputs": [],
   "source": [
    "from astropy.table import Table\n",
    "a = Table.read('/Users/alizabeverage/Research/LEGAC_II/paper/summary_table.fits')"
   ]
  },
  {
   "cell_type": "code",
   "execution_count": 13,
   "id": "166489ac",
   "metadata": {},
   "outputs": [],
   "source": [
    "ids = ['M10_225441',\n",
    "'M11_245621',\n",
    "'M13_233281',\n",
    "'M26_240621',\n",
    "# 'M27_241641',\n",
    "# 'M5_206771',\n",
    "'M9_212391',\n",
    "'M9_218701',\n",
    "'M9_233169']"
   ]
  },
  {
   "cell_type": "code",
   "execution_count": 14,
   "id": "f7ae63b9",
   "metadata": {},
   "outputs": [
    {
     "data": {
      "text/plain": [
       "[53.24807622915175,\n",
       " 35.85278996868338,\n",
       " 39.47996385263121,\n",
       " 30.582780058228565,\n",
       " 58.99983154965172,\n",
       " 57.637427295630516,\n",
       " 100.42203198249504]"
      ]
     },
     "execution_count": 14,
     "metadata": {},
     "output_type": "execute_result"
    }
   ],
   "source": [
    "[a[a['SPECT_ID']==i]['SN4850'][0] for i in ids]"
   ]
  },
  {
   "cell_type": "code",
   "execution_count": null,
   "id": "404a451c",
   "metadata": {},
   "outputs": [],
   "source": []
  }
 ],
 "metadata": {
  "kernelspec": {
   "display_name": "astrods",
   "language": "python",
   "name": "astrods"
  },
  "language_info": {
   "codemirror_mode": {
    "name": "ipython",
    "version": 3
   },
   "file_extension": ".py",
   "mimetype": "text/x-python",
   "name": "python",
   "nbconvert_exporter": "python",
   "pygments_lexer": "ipython3",
   "version": "3.9.10"
  }
 },
 "nbformat": 4,
 "nbformat_minor": 5
}
