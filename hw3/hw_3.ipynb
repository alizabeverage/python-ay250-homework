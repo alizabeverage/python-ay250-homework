{
 "cells": [
  {
   "cell_type": "markdown",
   "metadata": {},
   "source": [
    "# Homework 3 - Application Building\n",
    "\n",
    "- Python Computing for Data Science (2022)\n",
    "\n",
    "- Due Tuesday Feb 15 (8pm)\n",
    "\n",
    "## CalCalc\n",
    "\n",
    "Write a module called `CalCalc`, with a method called `calculate` that evaluates any string passed to it, and can be used from either the command line (using `argparse` with reasonable flags) or imported within Python. Feel free to use something like `eval()`, but be aware of some of the nasty things it can do, and make sure it doesn’t have too much power:  http://nedbatchelder.com/blog/201206/eval_really_is_dangerous.html. Perhaps explore the use of `numexpr` to constrain the landscape of possible uses to math expressions.\n",
    "\n",
    "EXAMPLE:\n",
    "```bash\n",
    "$ python CalCalc.py -s '34*28'\n",
    "$ 952\n",
    "```\n",
    " AND, from within Python\n",
    " \n",
    "```python\n",
    ">>> from CalCalc import calculate\n",
    ">>> calculate('34*20')\n",
    ">>> 952\n",
    "```"
   ]
  },
  {
   "cell_type": "code",
   "execution_count": 135,
   "metadata": {
    "scrolled": true
   },
   "outputs": [
    {
     "name": "stdout",
     "output_type": "stream",
     "text": [
      "Overwriting calcalc/CalCalc.py\n"
     ]
    }
   ],
   "source": [
    "%%writefile calcalc/CalCalc.py\n",
    "import numexpr as ne\n",
    "import urllib.request\n",
    "\n",
    "appID = 'JWKAQ4-U2LKHL8YEE'\n",
    "\n",
    "\n",
    "def eval_wolfram(s, return_float=True):\n",
    "    s = s.replace(' ','+')\n",
    "    f = urllib.request.urlopen(f'http://api.wolframalpha.com/v1/result?appid={appID}&i={s}%3F&units=metric')\n",
    "    result = str(f.peek(),\"utf-8\")\n",
    "    result = result.replace('about ','') # remove the `about`\n",
    "\n",
    "    # convert result to a float\n",
    "    if return_float: \n",
    "        result = result.replace(' times 10 to the ','e') # put in scientific notation\n",
    "        # replace common words with numerical value\n",
    "        sub_words = {' thousand':'e3', ' million':'e6', ' billion':'e8', ' trillion':'e9'}\n",
    "        for key in sub_words.keys():\n",
    "            result = result.replace(key, sub_words[key])\n",
    "        return(float(result.split(' ')[0]))\n",
    "\n",
    "    # or return the string\n",
    "    else: return(result)\n",
    "\n",
    "def calculate(s, run_python=False, run_wolfram=False, return_float=True):\n",
    "    '''\n",
    "    use numexpr to evaluate string expression\n",
    "    return result in desired format\n",
    "    '''\n",
    "    if run_python:\n",
    "        try: \n",
    "            return(ne.evaluate(s).item())\n",
    "        except Exception as e:\n",
    "            print(\"Oops!\", e.__class__, \"occurred.\")\n",
    "            return(\"Perhaps try running with Wolfram (-w flag)\")\n",
    "    \n",
    "    elif run_wolfram:\n",
    "        return eval_wolfram(s, return_float)\n",
    "    \n",
    "    # if for some reason both python and wolfram flags are set, try evaluating\n",
    "    # in python. If test fails, evaluate in wolfram\n",
    "    else: \n",
    "        try: \n",
    "            return(ne.evaluate(s).item())\n",
    "        except:\n",
    "            return eval_wolfram(s, return_float)\n",
    "        \n",
    "\n",
    "def test_1():\n",
    "    assert abs(4. - calculate('2**2')) < 0.001\n",
    "    \n",
    "def test_2():\n",
    "    assert isinstance(calculate('mass of the earth',return_float=True), float)\n",
    "    \n",
    "def test_3():\n",
    "    assert abs(1e6 - calculate('one million')) < 0.01\n",
    "    \n",
    "def test_4():\n",
    "    assert abs(4. - calculate('2+2')) < 0.001\n",
    "    \n",
    "def test_5():\n",
    "    print(type(calculate('2**2',return_float=False)))\n",
    "    assert isinstance(calculate('mass of the earth',return_float=False), str)\n",
    "\n",
    "    \n",
    "if __name__ == '__main__':\n",
    "    import argparse\n",
    "    \n",
    "    # parse command line arguments\n",
    "    parser = argparse.ArgumentParser(description='Evaluate a string.')\n",
    "    \n",
    "    # define input argument\n",
    "    parser.add_argument('string',\n",
    "                       help='String to be evaulated')\n",
    "    \n",
    "    # -s will try to evaluate using python\n",
    "    parser.add_argument('-s', action='store_true', default=False,\n",
    "                        dest='run_python',\n",
    "                        help='Run in python?')\n",
    "    \n",
    "    # -w will try to evaluate using wolfram\n",
    "    parser.add_argument('-w', action='store_true', default=False,\n",
    "                        dest='run_wolfram',\n",
    "                        help='Send to wolfram?')\n",
    "    # add versioning\n",
    "    parser.add_argument('--version', action='version', version='%(prog)s 1.1')\n",
    "    \n",
    "    results = parser.parse_args()\n",
    "    print(calculate(results.string, run_python=results.run_python, run_wolfram=results.run_wolfram))\n",
    "    "
   ]
  },
  {
   "cell_type": "code",
   "execution_count": 130,
   "metadata": {},
   "outputs": [
    {
     "name": "stdout",
     "output_type": "stream",
     "text": [
      "952\r\n"
     ]
    }
   ],
   "source": [
    "# show it works from command line\n",
    "!python CalCalc.py -s '34*28'"
   ]
  },
  {
   "cell_type": "code",
   "execution_count": 111,
   "metadata": {},
   "outputs": [
    {
     "data": {
      "text/plain": [
       "952"
      ]
     },
     "execution_count": 111,
     "metadata": {},
     "output_type": "execute_result"
    }
   ],
   "source": [
    "# show it works form within python\n",
    "from CalCalc import calculate\n",
    "calculate('34*28')"
   ]
  },
  {
   "cell_type": "markdown",
   "metadata": {},
   "source": [
    "### Add Wolfram\n",
    "\n",
    "To make this more awesome, have your function interact with the Wolfram|Alpha API to ask it what it thinks of the difficult questions.  To make this work, experiment with `urllib` and a URL like this:\n",
    "'http://api.wolframalpha.com/v2/query?input=XXXXX&appid=YYYYY'\n",
    "where you replace the XXXXX with what you want to know.  NOTE: the ‘&appid=YYYYY’ part is vital; it is my W|A AppID.  You should get your own app ID from Wolfram by following the instructions here: https://products.wolframalpha.com/simple-api/documentation/. You will need a wolfram account to be able to access their products, but it doesn't need to be a paid account for the app id.\n",
    "EXAMPLE:\n",
    "\n",
    "```bash\n",
    "$ python CalCalc.py -w 'mass of the moon in kg'\n",
    "7.3459e+22\n",
    "```\n",
    "\n",
    "AND, from within Python\n",
    "\n",
    "```python\n",
    ">>> from CalCalc import calculate\n",
    ">>> calculate('mass of the moon in kg',  return_float=True) * 10\n",
    ">>> 7.3459e+23\n",
    "```\n",
    "\n",
    "We are requesting that your `CalCalc.py` script should be able to evaluate some inputs locally in python (Example 1 from the homework), and some remotely in wolfram (Example 2 from the homework) all from within the same script file, even if the first example could technically be achieved within Wolfram as well."
   ]
  },
  {
   "cell_type": "code",
   "execution_count": 91,
   "metadata": {},
   "outputs": [
    {
     "name": "stdout",
     "output_type": "stream",
     "text": [
      "7.3459e+22\r\n"
     ]
    }
   ],
   "source": [
    "# from command line\n",
    "!python CalCalc.py -w 'mass of the moon in kg'"
   ]
  },
  {
   "cell_type": "code",
   "execution_count": 92,
   "metadata": {},
   "outputs": [
    {
     "data": {
      "text/plain": [
       "7.3459e+23"
      ]
     },
     "execution_count": 92,
     "metadata": {},
     "output_type": "execute_result"
    }
   ],
   "source": [
    "# from within Python\n",
    "from CalCalc import calculate\n",
    "calculate('mass of the moon in kg',  return_float=True) * 10"
   ]
  },
  {
   "cell_type": "markdown",
   "metadata": {},
   "source": [
    "## Adding it to Github\n",
    "\n",
    "Start a github project for CalCalc. Include a setup.py, README.txt, LICENSE.txt, MANIFEST.in, etc. and turn your module into a proper Python Distribution, so that we can install it and use it. See https://packaging.python.org/en/latest/guides/distributing-packages-using-setuptools/ \n",
    "\n",
    "Example Folder Hierarchy:\n",
    "```bash\n",
    "Your_Homework3_Folder/calcalc\n",
    "                      |--> CalCalc.py\n",
    "                      |--> __init__.py\n",
    "Your_Homework3_Folder/setup.py\n",
    "Your_Homework3_Folder/README.txt\n",
    "...\n",
    "```\n",
    "Include at least 5 test functions in CalCalc.py, and test with `pytest`, to make sure it behaves the way you think it should.\n",
    "\n",
    "EXAMPLE `CalCalc.py`:\n",
    "```python\n",
    "# ...\n",
    "def calculate([...]):\n",
    "    [...]\n",
    "\n",
    "def test_1():\n",
    "    assert abs(4. - calculate('2**2')) < 0.001\n",
    "```\n",
    "\n",
    "When grading, we will create a virtual environment and attempt to install your module by running:\n",
    "\n",
    "```bash\n",
    "pip install build\n",
    "```"
   ]
  },
  {
   "cell_type": "markdown",
   "metadata": {},
   "source": [
    "`~~~~~~~~~~~~~~~~~~~~~~~~~~~~~~~~~~~~~~~~~~~~~~~~~~~~~~~~~~~~~~~~~~~~~~~~~`"
   ]
  },
  {
   "cell_type": "markdown",
   "metadata": {},
   "source": [
    "## Hey! Please install my package using\n",
    "```bash\n",
    "pip install abeverage-calculator\n",
    "```\n",
    "\n",
    "## Then it can be run from the command line like:\n",
    "```bash\n",
    "calc -w \"mass of earth\"\n",
    "```\n",
    "\n",
    "## Or from python like:\n",
    "```python\n",
    "from calcalc.CalCalc import *\n",
    "calcualte('mass of earth')\n",
    "```"
   ]
  },
  {
   "cell_type": "code",
   "execution_count": 136,
   "metadata": {
    "scrolled": true
   },
   "outputs": [
    {
     "name": "stdout",
     "output_type": "stream",
     "text": [
      "\u001b[1m============================= test session starts ==============================\u001b[0m\n",
      "platform darwin -- Python 3.9.7, pytest-6.2.4, py-1.10.0, pluggy-0.13.1 -- /Users/alizabeverage/opt/anaconda3/bin/python\n",
      "cachedir: .pytest_cache\n",
      "rootdir: /Users/alizabeverage/Class/python-ay250-homework/hw3\n",
      "plugins: anyio-2.2.0\n",
      "collected 5 items                                                              \u001b[0m\n",
      "\n",
      "calcalc/CalCalc.py::test_1 \u001b[32mPASSED\u001b[0m\u001b[32m                                        [ 20%]\u001b[0m\n",
      "calcalc/CalCalc.py::test_2 \u001b[32mPASSED\u001b[0m\u001b[32m                                        [ 40%]\u001b[0m\n",
      "calcalc/CalCalc.py::test_3 \u001b[32mPASSED\u001b[0m\u001b[32m                                        [ 60%]\u001b[0m\n",
      "calcalc/CalCalc.py::test_4 \u001b[32mPASSED\u001b[0m\u001b[32m                                        [ 80%]\u001b[0m\n",
      "calcalc/CalCalc.py::test_5 \u001b[32mPASSED\u001b[0m\u001b[32m                                        [100%]\u001b[0m\n",
      "\n",
      "\u001b[32m============================== \u001b[32m\u001b[1m5 passed\u001b[0m\u001b[32m in 2.16s\u001b[0m\u001b[32m ===============================\u001b[0m\n"
     ]
    }
   ],
   "source": [
    "!pytest calcalc/CalCalc.py --verbose"
   ]
  },
  {
   "cell_type": "code",
   "execution_count": 137,
   "metadata": {},
   "outputs": [
    {
     "name": "stdout",
     "output_type": "stream",
     "text": [
      "Overwriting README.md\n"
     ]
    }
   ],
   "source": [
    "%%writefile README.md\n",
    "## Hey! Please install my package using\n",
    "```bash\n",
    "pip install abeverage-calculator\n",
    "```\n",
    "\n",
    "## Then it can be run from the command line like:\n",
    "```bash\n",
    "calc -w \"mass of earth\"\n",
    "```\n",
    "\n",
    "## Or from python like:\n",
    "```python\n",
    "from calcalc.CalCalc import *\n",
    "calcualte('mass of earth')\n",
    "```"
   ]
  },
  {
   "cell_type": "code",
   "execution_count": 138,
   "metadata": {},
   "outputs": [
    {
     "name": "stdout",
     "output_type": "stream",
     "text": [
      "Overwriting setup.py\n"
     ]
    }
   ],
   "source": [
    "%%writefile setup.py\n",
    "from setuptools import setup, find_packages\n",
    "import pathlib\n",
    "\n",
    "here = pathlib.Path(__file__).parent.resolve()\n",
    "\n",
    "# Get the long description from the README file\n",
    "long_description = (here / 'README.md').read_text(encoding='utf-8')\n",
    "\n",
    "# Arguments marked as \"Required\" below must be included for upload to PyPI.\n",
    "# Fields marked as \"Optional\" may be commented out.\n",
    "\n",
    "setup(\n",
    "    # This is the name of your project. The first time you publish this\n",
    "    # package, this name will be registered for you. It will determine how\n",
    "    # users can install this project, e.g.:\n",
    "    #\n",
    "    # $ pip install sampleproject\n",
    "    #\n",
    "    # And where it will live on PyPI: https://pypi.org/project/sampleproject/\n",
    "    #\n",
    "    # There are some restrictions on what makes a valid project name\n",
    "    # specification here:\n",
    "    # https://packaging.python.org/specifications/core-metadata/#name\n",
    "    name='abeverage_calculator',  # Required\n",
    "\n",
    "    # Versions should comply with PEP 440:\n",
    "    # https://www.python.org/dev/peps/pep-0440/\n",
    "    #\n",
    "    # For a discussion on single-sourcing the version across setup.py and the\n",
    "    # project code, see\n",
    "    # https://packaging.python.org/guides/single-sourcing-package-version/\n",
    "    version='1.4',  # Required\n",
    "\n",
    "    # This is a one-line description or tagline of what your project does. This\n",
    "    # corresponds to the \"Summary\" metadata field:\n",
    "    # https://packaging.python.org/specifications/core-metadata/#summary\n",
    "    description='Evaluate string using python and/or wolfram',  # Optional\n",
    "\n",
    "    # This is an optional longer description of your project that represents\n",
    "    # the body of text which users will see when they visit PyPI.\n",
    "    #\n",
    "    # Often, this is the same as your README, so you can just read it in from\n",
    "    # that file directly (as we have already done above)\n",
    "    #\n",
    "    # This field corresponds to the \"Description\" metadata field:\n",
    "    # https://packaging.python.org/specifications/core-metadata/#description-optional\n",
    "    long_description=long_description,  # Optional\n",
    "\n",
    "    # Denotes that our long_description is in Markdown; valid values are\n",
    "    # text/plain, text/x-rst, and text/markdown\n",
    "    #\n",
    "    # Optional if long_description is written in reStructuredText (rst) but\n",
    "    # required for plain-text or Markdown; if unspecified, \"applications should\n",
    "    # attempt to render [the long_description] as text/x-rst; charset=UTF-8 and\n",
    "    # fall back to text/plain if it is not valid rst\" (see link below)\n",
    "    #\n",
    "    # This field corresponds to the \"Description-Content-Type\" metadata field:\n",
    "    # https://packaging.python.org/specifications/core-metadata/#description-content-type-optional\n",
    "    long_description_content_type='text/markdown',  # Optional (see note above)\n",
    "\n",
    "    # This should be a valid link to your project's main homepage.\n",
    "    #\n",
    "    # This field corresponds to the \"Home-Page\" metadata field:\n",
    "    # https://packaging.python.org/specifications/core-metadata/#home-page-optional\n",
    "    url='https://github.com/alizabeverage/python-ay250-homework/tree/main/hw3',  # Optional\n",
    "\n",
    "    # This should be your name or the name of the organization which owns the\n",
    "    # project.\n",
    "    author='Aliza Beverage',  # Optional\n",
    "\n",
    "    # This should be a valid email address corresponding to the author listed\n",
    "    # above.\n",
    "    author_email='abeverage@berkeley.edu',  # Optional\n",
    "\n",
    "    # Classifiers help users find your project by categorizing it.\n",
    "    #\n",
    "    # For a list of valid classifiers, see https://pypi.org/classifiers/\n",
    "    # classifiers=[  # Optional\n",
    "    #     # How mature is this project? Common values are\n",
    "    #     #   3 - Alpha\n",
    "    #     #   4 - Beta\n",
    "    #     #   5 - Production/Stable\n",
    "    #     'Development Status :: 3 - Alpha',\n",
    "\n",
    "    #     # Indicate who your project is intended for\n",
    "    #     'Intended Audience :: Developers',\n",
    "    #     'Topic :: Software Development :: Build Tools',\n",
    "\n",
    "    #     # Pick your license as you wish\n",
    "    #     'License :: OSI Approved :: MIT License',\n",
    "\n",
    "    #     # Specify the Python versions you support here. In particular, ensure\n",
    "    #     # that you indicate you support Python 3. These classifiers are *not*\n",
    "    #     # checked by 'pip install'. See instead 'python_requires' below.\n",
    "    #     'Programming Language :: Python :: 3',\n",
    "    #     'Programming Language :: Python :: 3.6',\n",
    "    #     'Programming Language :: Python :: 3.7',\n",
    "    #     'Programming Language :: Python :: 3.8',\n",
    "    #     'Programming Language :: Python :: 3.9',\n",
    "    #     \"Programming Language :: Python :: 3.10\",\n",
    "    #     'Programming Language :: Python :: 3 :: Only',\n",
    "    # ],\n",
    "\n",
    "    # This field adds keywords for your project which will appear on the\n",
    "    # project page. What does your project relate to?\n",
    "    #\n",
    "    # Note that this is a list of additional keywords, separated\n",
    "    # by commas, to be used to assist searching for the distribution in a\n",
    "    # larger catalog.\n",
    "    # keywords='sample, setuptools, development',  # Optional\n",
    "\n",
    "    # When your source code is in a subdirectory under the project root, e.g.\n",
    "    # `src/`, it is necessary to specify the `package_dir` argument.\n",
    "#     package_dir={'': 'calcalc'},  # Optional\n",
    "\n",
    "    # You can just specify package directories manually here if your project is\n",
    "    # simple. Or you can use find_packages().\n",
    "    #\n",
    "    # Alternatively, if you just want to distribute a single Python file, use\n",
    "    # the `py_modules` argument instead as follows, which will expect a file\n",
    "    # called `my_module.py` to exist:\n",
    "    #\n",
    "#     py_modules=[\"calcalc\"],\n",
    "    #\n",
    "    packages=find_packages(),  # Required\n",
    "\n",
    "    # Specify which Python versions you support. In contrast to the\n",
    "    # 'Programming Language' classifiers above, 'pip install' will check this\n",
    "    # and refuse to install the project if the version does not match. See\n",
    "    # https://packaging.python.org/guides/distributing-packages-using-setuptools/#python-requires\n",
    "    python_requires='>=3.6, <4',\n",
    "\n",
    "    # This field lists other packages that your project depends on to run.\n",
    "    # Any package you put here will be installed by pip when your project is\n",
    "    # installed, so they must be valid existing projects.\n",
    "    #\n",
    "    # For an analysis of \"install_requires\" vs pip's requirements files see:\n",
    "    # https://packaging.python.org/discussions/install-requires-vs-requirements/\n",
    "    install_requires=['numexpr'],  # Optional\n",
    "\n",
    "    # List additional groups of dependencies here (e.g. development\n",
    "    # dependencies). Users will be able to install these using the \"extras\"\n",
    "    # syntax, for example:\n",
    "    #\n",
    "    #   $ pip install sampleproject[dev]\n",
    "    #\n",
    "    # Similar to `install_requires` above, these must be valid existing\n",
    "    # projects.\n",
    "    # extras_require={  # Optional\n",
    "    #     'dev': ['check-manifest'],\n",
    "    #     'test': ['coverage'],\n",
    "    # },\n",
    "\n",
    "    # If there are data files included in your packages that need to be\n",
    "    # installed, specify them here.\n",
    "    # package_data={  # Optional\n",
    "    #     'sample': ['package_data.dat'],\n",
    "    # },\n",
    "\n",
    "    # Although 'package_data' is the preferred approach, in some case you may\n",
    "    # need to place data files outside of your packages. See:\n",
    "    # http://docs.python.org/distutils/setupscript.html#installing-additional-files\n",
    "    #\n",
    "    # In this case, 'data_file' will be installed into '<sys.prefix>/my_data'\n",
    "    # data_files=[('my_data', ['data/data_file'])],  # Optional\n",
    "\n",
    "    # To provide executable scripts, use entry points in preference to the\n",
    "    # \"scripts\" keyword. Entry points provide cross-platform support and allow\n",
    "    # `pip` to create the appropriate form of executable for the target\n",
    "    # platform.\n",
    "    #\n",
    "    # For example, the following would provide a command called `sample` which\n",
    "    # executes the function `main` from this package when invoked:\n",
    "    entry_points={  # Optional\n",
    "        'console_scripts': [\n",
    "            'calc=calcalc:main',\n",
    "        ],\n",
    "    },\n",
    "\n",
    "    # List additional URLs that are relevant to your project as a dict.\n",
    "    #\n",
    "    # This field corresponds to the \"Project-URL\" metadata fields:\n",
    "    # https://packaging.python.org/specifications/core-metadata/#project-url-multiple-use\n",
    "    #\n",
    "    # Examples listed include a pattern for specifying where the package tracks\n",
    "    # issues, where the source is hosted, where to say thanks to the package\n",
    "    # maintainers, and where to support the project financially. The key is\n",
    "    # what's used to render the link text on PyPI.\n",
    "    # project_urls={  # Optional\n",
    "    #     'Bug Reports': 'https://github.com/pypa/sampleproject/issues',\n",
    "    #     'Funding': 'https://donate.pypi.org',\n",
    "    #     'Say Thanks!': 'http://saythanks.io/to/example',\n",
    "    #     'Source': 'https://github.com/pypa/sampleproject/',\n",
    "    # },\n",
    ")"
   ]
  },
  {
   "cell_type": "code",
   "execution_count": 113,
   "metadata": {},
   "outputs": [
    {
     "name": "stdout",
     "output_type": "stream",
     "text": [
      "Overwriting LICENSE.txt\n"
     ]
    }
   ],
   "source": [
    "%%writefile LICENSE.txt\n",
    "Copyright (c) 2016 The Python Packaging Authority (PyPA)\n",
    "\n",
    "Permission is hereby granted, free of charge, to any person obtaining a copy of\n",
    "this software and associated documentation files (the \"Software\"), to deal in\n",
    "the Software without restriction, including without limitation the rights to\n",
    "use, copy, modify, merge, publish, distribute, sublicense, and/or sell copies\n",
    "of the Software, and to permit persons to whom the Software is furnished to do\n",
    "so, subject to the following conditions:\n",
    "\n",
    "The above copyright notice and this permission notice shall be included in all\n",
    "copies or substantial portions of the Software.\n",
    "\n",
    "THE SOFTWARE IS PROVIDED \"AS IS\", WITHOUT WARRANTY OF ANY KIND, EXPRESS OR\n",
    "IMPLIED, INCLUDING BUT NOT LIMITED TO THE WARRANTIES OF MERCHANTABILITY,\n",
    "FITNESS FOR A PARTICULAR PURPOSE AND NONINFRINGEMENT. IN NO EVENT SHALL THE\n",
    "AUTHORS OR COPYRIGHT HOLDERS BE LIABLE FOR ANY CLAIM, DAMAGES OR OTHER\n",
    "LIABILITY, WHETHER IN AN ACTION OF CONTRACT, TORT OR OTHERWISE, ARISING FROM,\n",
    "OUT OF OR IN CONNECTION WITH THE SOFTWARE OR THE USE OR OTHER DEALINGS IN THE\n",
    "SOFTWARE."
   ]
  },
  {
   "cell_type": "code",
   "execution_count": 139,
   "metadata": {},
   "outputs": [
    {
     "name": "stdout",
     "output_type": "stream",
     "text": [
      "Overwriting calcalc/__init__.py\n"
     ]
    }
   ],
   "source": [
    "%%writefile calcalc/__init__.py\n",
    "def main():\n",
    "    import argparse\n",
    "    from calcalc.CalCalc import calculate\n",
    "    \n",
    "    # parse command line arguments\n",
    "    parser = argparse.ArgumentParser(description='Evaluate a string.')\n",
    "    \n",
    "    # define input argument\n",
    "    parser.add_argument('string',\n",
    "                       help='String to be evaulated')\n",
    "    \n",
    "    # -s will try to evaluate using python\n",
    "    parser.add_argument('-s', action='store_true', default=False,\n",
    "                        dest='run_python',\n",
    "                        help='Run in python?')\n",
    "    \n",
    "    # -w will try to evaluate using wolfram\n",
    "    parser.add_argument('-w', action='store_true', default=False,\n",
    "                        dest='run_wolfram',\n",
    "                        help='Send to wolfram?')\n",
    "    # add versioning\n",
    "    parser.add_argument('--version', action='version', version='%(prog)s 1.0')\n",
    "\n",
    "    \n",
    "    results = parser.parse_args()\n",
    "    print(calculate(results.string, run_python=results.run_python, run_wolfram=results.run_wolfram))"
   ]
  },
  {
   "cell_type": "code",
   "execution_count": 140,
   "metadata": {
    "scrolled": false
   },
   "outputs": [
    {
     "name": "stdout",
     "output_type": "stream",
     "text": [
      "Obtaining file:///Users/alizabeverage/Class/python-ay250-homework/hw3\n",
      "Requirement already satisfied: numexpr in /Users/alizabeverage/opt/anaconda3/lib/python3.9/site-packages (from abeverage-calculator==1.4) (2.7.3)\n",
      "Requirement already satisfied: numpy>=1.7 in /Users/alizabeverage/opt/anaconda3/lib/python3.9/site-packages (from numexpr->abeverage-calculator==1.4) (1.20.3)\n",
      "Installing collected packages: abeverage-calculator\n",
      "  Running setup.py develop for abeverage-calculator\n",
      "Successfully installed abeverage-calculator-1.4\n"
     ]
    }
   ],
   "source": [
    "!python -m pip install -e ."
   ]
  },
  {
   "cell_type": "code",
   "execution_count": 141,
   "metadata": {
    "scrolled": false
   },
   "outputs": [
    {
     "name": "stdout",
     "output_type": "stream",
     "text": [
      "\u001b[1m* Creating venv isolated environment...\u001b[0m\n",
      "\u001b[1m* Installing packages in isolated environment... (setuptools >= 40.8.0, wheel)\u001b[0m\n",
      "\u001b[1m* Getting dependencies for wheel...\u001b[0m\n",
      "running egg_info\n",
      "writing abeverage_calculator.egg-info/PKG-INFO\n",
      "writing dependency_links to abeverage_calculator.egg-info/dependency_links.txt\n",
      "writing entry points to abeverage_calculator.egg-info/entry_points.txt\n",
      "writing requirements to abeverage_calculator.egg-info/requires.txt\n",
      "writing top-level names to abeverage_calculator.egg-info/top_level.txt\n",
      "reading manifest file 'abeverage_calculator.egg-info/SOURCES.txt'\n",
      "adding license file 'LICENSE.txt'\n",
      "\u001b[1m* Installing packages in isolated environment... (wheel)\u001b[0m\n",
      "\u001b[1m* Building wheel...\u001b[0m\n",
      "running bdist_wheel\n",
      "running build\n",
      "running build_py\n",
      "installing to build/bdist.macosx-10.9-x86_64/wheel\n",
      "running install\n",
      "running install_lib\n",
      "copying build/lib/calcalc.py -> build/bdist.macosx-10.9-x86_64/wheel\n",
      "copying build/lib/calcalc/CalCalc.py -> build/bdist.macosx-10.9-x86_64/wheel/calcalc\n",
      "copying build/lib/calcalc/__init__.py -> build/bdist.macosx-10.9-x86_64/wheel/calcalc\n",
      "running install_egg_info\n",
      "running egg_info\n",
      "writing abeverage_calculator.egg-info/PKG-INFO\n",
      "writing dependency_links to abeverage_calculator.egg-info/dependency_links.txt\n",
      "writing entry points to abeverage_calculator.egg-info/entry_points.txt\n",
      "writing requirements to abeverage_calculator.egg-info/requires.txt\n",
      "writing top-level names to abeverage_calculator.egg-info/top_level.txt\n",
      "reading manifest file 'abeverage_calculator.egg-info/SOURCES.txt'\n",
      "adding license file 'LICENSE.txt'\n",
      "running install_scripts\n",
      "adding license file \"LICENSE.txt\" (matched pattern \"LICEN[CS]E*\")\n",
      "creating build/bdist.macosx-10.9-x86_64/wheel/abeverage_calculator-1.4.dist-info/WHEEL\n",
      "creating '/Users/alizabeverage/Class/python-ay250-homework/hw3/dist/tmpnxymgwwr/abeverage_calculator-1.4-py3-none-any.whl' and adding 'build/bdist.macosx-10.9-x86_64/wheel' to it\n",
      "adding 'calcalc.py'\n",
      "adding 'calcalc/CalCalc.py'\n",
      "adding 'calcalc/__init__.py'\n",
      "adding 'abeverage_calculator-1.4.dist-info/LICENSE.txt'\n",
      "adding 'abeverage_calculator-1.4.dist-info/METADATA'\n",
      "adding 'abeverage_calculator-1.4.dist-info/WHEEL'\n",
      "adding 'abeverage_calculator-1.4.dist-info/entry_points.txt'\n",
      "adding 'abeverage_calculator-1.4.dist-info/top_level.txt'\n",
      "adding 'abeverage_calculator-1.4.dist-info/RECORD'\n",
      "removing build/bdist.macosx-10.9-x86_64/wheel\n",
      "\u001b[1m\u001b[92mSuccessfully built \u001b[4mabeverage_calculator-1.4-py3-none-any.whl\u001b[0m\u001b[1m\u001b[92m\u001b[0m\n",
      "\u001b[0m"
     ]
    }
   ],
   "source": [
    "# build wheels\n",
    "!python -m build --wheel"
   ]
  },
  {
   "cell_type": "code",
   "execution_count": 143,
   "metadata": {},
   "outputs": [
    {
     "name": "stdout",
     "output_type": "stream",
     "text": [
      "Checking dist/abeverage_calculator-1.4-py3-none-any.whl: PASSED\r\n"
     ]
    }
   ],
   "source": [
    "# check I can upload it\n",
    "!twine check dist/*"
   ]
  },
  {
   "cell_type": "code",
   "execution_count": 144,
   "metadata": {},
   "outputs": [
    {
     "name": "stdout",
     "output_type": "stream",
     "text": [
      "Uploading distributions to https://upload.pypi.org/legacy/\n",
      "Uploading abeverage_calculator-1.4-py3-none-any.whl\n",
      "100%|██████████████████████████████████████| 8.42k/8.42k [00:01<00:00, 4.40kB/s]\n",
      "\n",
      "View at:\n",
      "https://pypi.org/project/abeverage-calculator/1.4/\n"
     ]
    }
   ],
   "source": [
    "!twine upload dist/abeverage_calculator-1.4-py3-none-any.whl"
   ]
  },
  {
   "cell_type": "markdown",
   "metadata": {},
   "source": [
    "### CalCalc on CI\n",
    "\n",
    "Get your project working with GitHub Actions and make sure your tests are run and pass. Give us a link to you GH actions for your site here (e.g. https://github.com/profjsb/PyAdder/actions):"
   ]
  },
  {
   "cell_type": "code",
   "execution_count": null,
   "metadata": {},
   "outputs": [],
   "source": []
  },
  {
   "cell_type": "markdown",
   "metadata": {},
   "source": [
    "### **(Bonus/Extra Credit)** \n",
    "\n",
    "  Get your project working on Azure, AWS or Google Compute Cloud with a Flask front-end. You can use the example from class as a template. Start a VM on one of these PaaS. A user should be able to submit their calcalc query on a form (hosted on your VM) and get the result back.\n",
    "\n",
    "You should be able to add an `app.py` (with Flask) into your CalCalc project. Be sure to open up the port on the VM that you are serving on. Let us know the URL to your app here:"
   ]
  },
  {
   "cell_type": "code",
   "execution_count": null,
   "metadata": {
    "collapsed": true
   },
   "outputs": [],
   "source": []
  }
 ],
 "metadata": {
  "kernelspec": {
   "display_name": "python-seminar",
   "language": "python",
   "name": "python-seminar"
  },
  "language_info": {
   "codemirror_mode": {
    "name": "ipython",
    "version": 3
   },
   "file_extension": ".py",
   "mimetype": "text/x-python",
   "name": "python",
   "nbconvert_exporter": "python",
   "pygments_lexer": "ipython3",
   "version": "3.9.10"
  },
  "toc": {
   "base_numbering": 1,
   "nav_menu": {},
   "number_sections": true,
   "sideBar": true,
   "skip_h1_title": false,
   "title_cell": "Table of Contents",
   "title_sidebar": "Contents",
   "toc_cell": false,
   "toc_position": {},
   "toc_section_display": true,
   "toc_window_display": false
  },
  "varInspector": {
   "cols": {
    "lenName": 16,
    "lenType": 16,
    "lenVar": 40
   },
   "kernels_config": {
    "python": {
     "delete_cmd_postfix": "",
     "delete_cmd_prefix": "del ",
     "library": "var_list.py",
     "varRefreshCmd": "print(var_dic_list())"
    },
    "r": {
     "delete_cmd_postfix": ") ",
     "delete_cmd_prefix": "rm(",
     "library": "var_list.r",
     "varRefreshCmd": "cat(var_dic_list()) "
    }
   },
   "types_to_exclude": [
    "module",
    "function",
    "builtin_function_or_method",
    "instance",
    "_Feature"
   ],
   "window_display": false
  }
 },
 "nbformat": 4,
 "nbformat_minor": 1
}
